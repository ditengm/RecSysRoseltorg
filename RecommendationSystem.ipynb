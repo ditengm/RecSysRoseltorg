{
 "cells": [
  {
   "cell_type": "code",
   "execution_count": 1,
   "metadata": {
    "executionInfo": {
     "elapsed": 439,
     "status": "ok",
     "timestamp": 1668166612676,
     "user": {
      "displayName": "Дмитрий Савелко",
      "userId": "00857664281999640493"
     },
     "user_tz": -180
    },
    "id": "9EBC6QtTQDnJ"
   },
   "outputs": [
    {
     "name": "stderr",
     "output_type": "stream",
     "text": [
      "D:\\WPy64-3810\\python-3.8.1.amd64\\lib\\site-packages\\pandas\\core\\arrays\\masked.py:59: UserWarning: Pandas requires version '1.3.2' or newer of 'bottleneck' (version '1.3.1' currently installed).\n",
      "  from pandas.core import (\n"
     ]
    }
   ],
   "source": [
    "import pandas as pd\n",
    "import numpy as np\n",
    "import matplotlib.pyplot as plt\n",
    "import seaborn as sns\n",
    "from tqdm.notebook import tqdm\n",
    "from sklearn.metrics.pairwise import cosine_similarity\n",
    "\n",
    "from typing import List\n",
    "\n",
    "import warnings\n",
    "warnings.filterwarnings('ignore')"
   ]
  },
  {
   "cell_type": "code",
   "execution_count": 2,
   "metadata": {
    "executionInfo": {
     "elapsed": 510,
     "status": "ok",
     "timestamp": 1668166615888,
     "user": {
      "displayName": "Дмитрий Савелко",
      "userId": "00857664281999640493"
     },
     "user_tz": -180
    },
    "id": "dXSAQRGvfv3o"
   },
   "outputs": [],
   "source": [
    "from matplotlib import rcParams\n",
    "\n",
    "# figure size in inches\n",
    "rcParams['figure.figsize'] = 16,9"
   ]
  },
  {
   "cell_type": "markdown",
   "metadata": {
    "id": "x6_Aya9t1YQn"
   },
   "source": [
    "# Преподготовка данных"
   ]
  },
  {
   "cell_type": "markdown",
   "metadata": {
    "id": "u3DfX0yd51_n"
   },
   "source": [
    "## Преподготовка двух датасетов"
   ]
  },
  {
   "cell_type": "code",
   "execution_count": 3,
   "metadata": {
    "id": "e5OZEVqhQpSk"
   },
   "outputs": [],
   "source": [
    "df_part = pd.read_csv(\"Rec_data/hashed_participant.csv\", index_col=False, sep=\";\").drop(['Unnamed: 0'], axis=1)"
   ]
  },
  {
   "cell_type": "code",
   "execution_count": 4,
   "metadata": {
    "colab": {
     "base_uri": "https://localhost:8080/"
    },
    "executionInfo": {
     "elapsed": 47,
     "status": "ok",
     "timestamp": 1668061926331,
     "user": {
      "displayName": "Дмитрий Савелко",
      "userId": "00857664281999640493"
     },
     "user_tz": -180
    },
    "id": "V5u8iJUnQz7d",
    "outputId": "ea5c07ba-c2fa-4217-fce8-2756e2207b23"
   },
   "outputs": [
    {
     "data": {
      "text/plain": [
       "(32262446, 4)"
      ]
     },
     "execution_count": 4,
     "metadata": {},
     "output_type": "execute_result"
    }
   ],
   "source": [
    "df_part.shape"
   ]
  },
  {
   "cell_type": "code",
   "execution_count": 5,
   "metadata": {
    "colab": {
     "base_uri": "https://localhost:8080/"
    },
    "executionInfo": {
     "elapsed": 29,
     "status": "ok",
     "timestamp": 1668061928642,
     "user": {
      "displayName": "Дмитрий Савелко",
      "userId": "00857664281999640493"
     },
     "user_tz": -180
    },
    "id": "6Pdd5Q09uqH0",
    "outputId": "12d7d679-3073-4ac4-8157-6b25b872e5a2"
   },
   "outputs": [
    {
     "name": "stdout",
     "output_type": "stream",
     "text": [
      "<class 'pandas.core.frame.DataFrame'>\n",
      "RangeIndex: 32262446 entries, 0 to 32262445\n",
      "Data columns (total 4 columns):\n",
      " #   Column               Dtype \n",
      "---  ------               ----- \n",
      " 0   pn_lot               object\n",
      " 1   participant_inn_kpp  object\n",
      " 2   is_winner            int64 \n",
      " 3   fz                   object\n",
      "dtypes: int64(1), object(3)\n",
      "memory usage: 984.6+ MB\n"
     ]
    }
   ],
   "source": [
    "df_part.info()"
   ]
  },
  {
   "cell_type": "code",
   "execution_count": 6,
   "metadata": {
    "id": "8nu_BqmiRYbB"
   },
   "outputs": [],
   "source": [
    "df = pd.read_csv(\"cut_data_model.csv\", index_col=False, sep=\";\")"
   ]
  },
  {
   "cell_type": "markdown",
   "metadata": {
    "id": "fkHEbwejGd59"
   },
   "source": [
    "Сделаем inner join между таблицами, чтобы соединить услугу и ИНН"
   ]
  },
  {
   "cell_type": "code",
   "execution_count": 7,
   "metadata": {
    "id": "wdh4wpXcXvUh"
   },
   "outputs": [],
   "source": [
    "data = pd.merge(df,\n",
    "                df_part,\n",
    "                on = 'pn_lot')"
   ]
  },
  {
   "cell_type": "markdown",
   "metadata": {
    "id": "r4gq0w935snI"
   },
   "source": [
    "## Преподготовка соединённого датасета"
   ]
  },
  {
   "cell_type": "code",
   "execution_count": 8,
   "metadata": {
    "colab": {
     "base_uri": "https://localhost:8080/",
     "height": 531
    },
    "executionInfo": {
     "elapsed": 56,
     "status": "ok",
     "timestamp": 1668062029476,
     "user": {
      "displayName": "Дмитрий Савелко",
      "userId": "00857664281999640493"
     },
     "user_tz": -180
    },
    "id": "oolIKUX7SPQA",
    "outputId": "6ab5a10a-15e8-4ef4-c668-72453c12f952"
   },
   "outputs": [
    {
     "data": {
      "text/html": [
       "<div>\n",
       "<style scoped>\n",
       "    .dataframe tbody tr th:only-of-type {\n",
       "        vertical-align: middle;\n",
       "    }\n",
       "\n",
       "    .dataframe tbody tr th {\n",
       "        vertical-align: top;\n",
       "    }\n",
       "\n",
       "    .dataframe thead th {\n",
       "        text-align: right;\n",
       "    }\n",
       "</style>\n",
       "<table border=\"1\" class=\"dataframe\">\n",
       "  <thead>\n",
       "    <tr style=\"text-align: right;\">\n",
       "      <th></th>\n",
       "      <th>fz_x</th>\n",
       "      <th>pn_lot</th>\n",
       "      <th>region_code</th>\n",
       "      <th>etp</th>\n",
       "      <th>min_publish_date</th>\n",
       "      <th>purchase_name</th>\n",
       "      <th>lot_name</th>\n",
       "      <th>forsmallbiz</th>\n",
       "      <th>lot_price</th>\n",
       "      <th>procedure_price</th>\n",
       "      <th>customer_inn_kpp</th>\n",
       "      <th>okpd2_code</th>\n",
       "      <th>additional_code</th>\n",
       "      <th>item_descriptions</th>\n",
       "      <th>participant_inn_kpp</th>\n",
       "      <th>is_winner</th>\n",
       "      <th>fz_y</th>\n",
       "    </tr>\n",
       "  </thead>\n",
       "  <tbody>\n",
       "    <tr>\n",
       "      <th>0</th>\n",
       "      <td>44fz</td>\n",
       "      <td>2781020415721000008</td>\n",
       "      <td>78</td>\n",
       "      <td>44fz_contract_single_supplier</td>\n",
       "      <td>2021-11-17</td>\n",
       "      <td>Услуги режиссера-постановщика спектакля Первая...</td>\n",
       "      <td>Услуги режиссера-постановщика спектакля Первая...</td>\n",
       "      <td>False</td>\n",
       "      <td>119474.0</td>\n",
       "      <td>119474.0</td>\n",
       "      <td>7810204157_781001001</td>\n",
       "      <td>90.0</td>\n",
       "      <td>NaN</td>\n",
       "      <td>Услуги режиссера-постановщика спектакля Первая...</td>\n",
       "      <td>eeadcbb3fed4c70130cf5208c9e732b1ccc8434213dd59...</td>\n",
       "      <td>1</td>\n",
       "      <td>44fz</td>\n",
       "    </tr>\n",
       "    <tr>\n",
       "      <th>1</th>\n",
       "      <td>44fz</td>\n",
       "      <td>2690106911120000157</td>\n",
       "      <td>69</td>\n",
       "      <td>44fz_contract_single_supplier</td>\n",
       "      <td>2020-12-09</td>\n",
       "      <td>Поставка средств автотранспортных (автомобилей...</td>\n",
       "      <td>Поставка средств автотранспортных (автомобилей...</td>\n",
       "      <td>False</td>\n",
       "      <td>34466250.0</td>\n",
       "      <td>34466250.0</td>\n",
       "      <td>6901069111_695001001</td>\n",
       "      <td>NaN</td>\n",
       "      <td>29.1</td>\n",
       "      <td>Пожарная автоцистерна АЦ 8,0-40 (4320), модифи...</td>\n",
       "      <td>c13bb2935469f46b87628e0edbe2910dbdcfa3f6360141...</td>\n",
       "      <td>1</td>\n",
       "      <td>44fz</td>\n",
       "    </tr>\n",
       "    <tr>\n",
       "      <th>2</th>\n",
       "      <td>44fz</td>\n",
       "      <td>1772404418920000131</td>\n",
       "      <td>77</td>\n",
       "      <td>44fz_contract_single_supplier</td>\n",
       "      <td>2020-08-17</td>\n",
       "      <td>Поставка комплектов эндопротезов</td>\n",
       "      <td>Поставка комплектов эндопротезов</td>\n",
       "      <td>False</td>\n",
       "      <td>16446741.0</td>\n",
       "      <td>16446741.0</td>\n",
       "      <td>7724044189_772401001</td>\n",
       "      <td>32.5</td>\n",
       "      <td>NaN</td>\n",
       "      <td>1.Вкладыш подвижный модульный. Поверхность пол...</td>\n",
       "      <td>4e1518218f321bd16c2df4ebf993e95124f5d0006d208c...</td>\n",
       "      <td>1</td>\n",
       "      <td>44fz</td>\n",
       "    </tr>\n",
       "    <tr>\n",
       "      <th>3</th>\n",
       "      <td>44fz</td>\n",
       "      <td>2771890120521000052</td>\n",
       "      <td>77</td>\n",
       "      <td>44fz_contract_single_supplier</td>\n",
       "      <td>2021-11-25</td>\n",
       "      <td>Поставка комплектов учебной литературы для нуж...</td>\n",
       "      <td>Поставка комплектов учебной литературы для нуж...</td>\n",
       "      <td>False</td>\n",
       "      <td>2691263.5</td>\n",
       "      <td>2691263.5</td>\n",
       "      <td>7718901205_771801001</td>\n",
       "      <td>NaN</td>\n",
       "      <td>58.1</td>\n",
       "      <td>Учебники печатные общеобразовательного назначения</td>\n",
       "      <td>e778ec91435f742f7a5ae85141e9a59a18cf39f69f7e94...</td>\n",
       "      <td>1</td>\n",
       "      <td>44fz</td>\n",
       "    </tr>\n",
       "    <tr>\n",
       "      <th>4</th>\n",
       "      <td>44fz</td>\n",
       "      <td>2121000104121000333</td>\n",
       "      <td>12</td>\n",
       "      <td>44fz_contract_single_supplier</td>\n",
       "      <td>2021-12-03</td>\n",
       "      <td>Поставка лекарственного препарата для медицинс...</td>\n",
       "      <td>Поставка лекарственного препарата для медицинс...</td>\n",
       "      <td>False</td>\n",
       "      <td>23.0</td>\n",
       "      <td>23.0</td>\n",
       "      <td>1210001041_121001001</td>\n",
       "      <td>drug</td>\n",
       "      <td>NaN</td>\n",
       "      <td>Цефекон Д, суппозитории ректальные [для детей]...</td>\n",
       "      <td>2cfdecef65c4c38948747ec03fdc404f28119dc5dd9a7d...</td>\n",
       "      <td>1</td>\n",
       "      <td>44fz</td>\n",
       "    </tr>\n",
       "  </tbody>\n",
       "</table>\n",
       "</div>"
      ],
      "text/plain": [
       "   fz_x               pn_lot  region_code                            etp  \\\n",
       "0  44fz  2781020415721000008           78  44fz_contract_single_supplier   \n",
       "1  44fz  2690106911120000157           69  44fz_contract_single_supplier   \n",
       "2  44fz  1772404418920000131           77  44fz_contract_single_supplier   \n",
       "3  44fz  2771890120521000052           77  44fz_contract_single_supplier   \n",
       "4  44fz  2121000104121000333           12  44fz_contract_single_supplier   \n",
       "\n",
       "  min_publish_date                                      purchase_name  \\\n",
       "0       2021-11-17  Услуги режиссера-постановщика спектакля Первая...   \n",
       "1       2020-12-09  Поставка средств автотранспортных (автомобилей...   \n",
       "2       2020-08-17                   Поставка комплектов эндопротезов   \n",
       "3       2021-11-25  Поставка комплектов учебной литературы для нуж...   \n",
       "4       2021-12-03  Поставка лекарственного препарата для медицинс...   \n",
       "\n",
       "                                            lot_name  forsmallbiz   lot_price  \\\n",
       "0  Услуги режиссера-постановщика спектакля Первая...        False    119474.0   \n",
       "1  Поставка средств автотранспортных (автомобилей...        False  34466250.0   \n",
       "2                   Поставка комплектов эндопротезов        False  16446741.0   \n",
       "3  Поставка комплектов учебной литературы для нуж...        False   2691263.5   \n",
       "4  Поставка лекарственного препарата для медицинс...        False        23.0   \n",
       "\n",
       "   procedure_price      customer_inn_kpp okpd2_code additional_code  \\\n",
       "0         119474.0  7810204157_781001001       90.0             NaN   \n",
       "1       34466250.0  6901069111_695001001        NaN            29.1   \n",
       "2       16446741.0  7724044189_772401001       32.5             NaN   \n",
       "3        2691263.5  7718901205_771801001        NaN            58.1   \n",
       "4             23.0  1210001041_121001001       drug             NaN   \n",
       "\n",
       "                                   item_descriptions  \\\n",
       "0  Услуги режиссера-постановщика спектакля Первая...   \n",
       "1  Пожарная автоцистерна АЦ 8,0-40 (4320), модифи...   \n",
       "2  1.Вкладыш подвижный модульный. Поверхность пол...   \n",
       "3  Учебники печатные общеобразовательного назначения   \n",
       "4  Цефекон Д, суппозитории ректальные [для детей]...   \n",
       "\n",
       "                                 participant_inn_kpp  is_winner  fz_y  \n",
       "0  eeadcbb3fed4c70130cf5208c9e732b1ccc8434213dd59...          1  44fz  \n",
       "1  c13bb2935469f46b87628e0edbe2910dbdcfa3f6360141...          1  44fz  \n",
       "2  4e1518218f321bd16c2df4ebf993e95124f5d0006d208c...          1  44fz  \n",
       "3  e778ec91435f742f7a5ae85141e9a59a18cf39f69f7e94...          1  44fz  \n",
       "4  2cfdecef65c4c38948747ec03fdc404f28119dc5dd9a7d...          1  44fz  "
      ]
     },
     "execution_count": 8,
     "metadata": {},
     "output_type": "execute_result"
    }
   ],
   "source": [
    "data.head()"
   ]
  },
  {
   "cell_type": "code",
   "execution_count": 9,
   "metadata": {
    "id": "5Eo7Ry_OdWIb"
   },
   "outputs": [],
   "source": [
    "data = data.drop(['fz_x'], axis = 1)"
   ]
  },
  {
   "cell_type": "code",
   "execution_count": 10,
   "metadata": {
    "colab": {
     "base_uri": "https://localhost:8080/"
    },
    "executionInfo": {
     "elapsed": 52,
     "status": "ok",
     "timestamp": 1668062029477,
     "user": {
      "displayName": "Дмитрий Савелко",
      "userId": "00857664281999640493"
     },
     "user_tz": -180
    },
    "id": "UPAXu7YmnWnJ",
    "outputId": "549894a3-f43b-43a9-c72e-270c28bd907f"
   },
   "outputs": [
    {
     "name": "stdout",
     "output_type": "stream",
     "text": [
      "<class 'pandas.core.frame.DataFrame'>\n",
      "Int64Index: 3056274 entries, 0 to 3056273\n",
      "Data columns (total 16 columns):\n",
      " #   Column               Dtype  \n",
      "---  ------               -----  \n",
      " 0   pn_lot               object \n",
      " 1   region_code          int64  \n",
      " 2   etp                  object \n",
      " 3   min_publish_date     object \n",
      " 4   purchase_name        object \n",
      " 5   lot_name             object \n",
      " 6   forsmallbiz          bool   \n",
      " 7   lot_price            float64\n",
      " 8   procedure_price      float64\n",
      " 9   customer_inn_kpp     object \n",
      " 10  okpd2_code           object \n",
      " 11  additional_code      object \n",
      " 12  item_descriptions    object \n",
      " 13  participant_inn_kpp  object \n",
      " 14  is_winner            int64  \n",
      " 15  fz_y                 object \n",
      "dtypes: bool(1), float64(2), int64(2), object(11)\n",
      "memory usage: 376.0+ MB\n"
     ]
    }
   ],
   "source": [
    "data.info()"
   ]
  },
  {
   "cell_type": "code",
   "execution_count": 11,
   "metadata": {
    "colab": {
     "base_uri": "https://localhost:8080/",
     "height": 300
    },
    "executionInfo": {
     "elapsed": 953,
     "status": "ok",
     "timestamp": 1668062032442,
     "user": {
      "displayName": "Дмитрий Савелко",
      "userId": "00857664281999640493"
     },
     "user_tz": -180
    },
    "id": "_k1KoztE3Hdm",
    "outputId": "6d8efb96-9f80-45fa-fb17-9bf09af177d7"
   },
   "outputs": [
    {
     "data": {
      "text/html": [
       "<div>\n",
       "<style scoped>\n",
       "    .dataframe tbody tr th:only-of-type {\n",
       "        vertical-align: middle;\n",
       "    }\n",
       "\n",
       "    .dataframe tbody tr th {\n",
       "        vertical-align: top;\n",
       "    }\n",
       "\n",
       "    .dataframe thead th {\n",
       "        text-align: right;\n",
       "    }\n",
       "</style>\n",
       "<table border=\"1\" class=\"dataframe\">\n",
       "  <thead>\n",
       "    <tr style=\"text-align: right;\">\n",
       "      <th></th>\n",
       "      <th>region_code</th>\n",
       "      <th>lot_price</th>\n",
       "      <th>procedure_price</th>\n",
       "      <th>is_winner</th>\n",
       "    </tr>\n",
       "  </thead>\n",
       "  <tbody>\n",
       "    <tr>\n",
       "      <th>count</th>\n",
       "      <td>3.056274e+06</td>\n",
       "      <td>3.056274e+06</td>\n",
       "      <td>3.056274e+06</td>\n",
       "      <td>3.056274e+06</td>\n",
       "    </tr>\n",
       "    <tr>\n",
       "      <th>mean</th>\n",
       "      <td>4.996050e+01</td>\n",
       "      <td>3.892321e+06</td>\n",
       "      <td>4.633619e+06</td>\n",
       "      <td>6.590721e-01</td>\n",
       "    </tr>\n",
       "    <tr>\n",
       "      <th>std</th>\n",
       "      <td>2.406579e+01</td>\n",
       "      <td>1.492353e+08</td>\n",
       "      <td>1.914951e+08</td>\n",
       "      <td>4.740212e-01</td>\n",
       "    </tr>\n",
       "    <tr>\n",
       "      <th>min</th>\n",
       "      <td>1.000000e+00</td>\n",
       "      <td>0.000000e+00</td>\n",
       "      <td>0.000000e+00</td>\n",
       "      <td>0.000000e+00</td>\n",
       "    </tr>\n",
       "    <tr>\n",
       "      <th>25%</th>\n",
       "      <td>2.800000e+01</td>\n",
       "      <td>7.980882e+04</td>\n",
       "      <td>7.990000e+04</td>\n",
       "      <td>0.000000e+00</td>\n",
       "    </tr>\n",
       "    <tr>\n",
       "      <th>50%</th>\n",
       "      <td>5.200000e+01</td>\n",
       "      <td>2.895344e+05</td>\n",
       "      <td>2.902383e+05</td>\n",
       "      <td>1.000000e+00</td>\n",
       "    </tr>\n",
       "    <tr>\n",
       "      <th>75%</th>\n",
       "      <td>7.300000e+01</td>\n",
       "      <td>1.019306e+06</td>\n",
       "      <td>1.027537e+06</td>\n",
       "      <td>1.000000e+00</td>\n",
       "    </tr>\n",
       "    <tr>\n",
       "      <th>max</th>\n",
       "      <td>9.900000e+01</td>\n",
       "      <td>1.275770e+11</td>\n",
       "      <td>1.275770e+11</td>\n",
       "      <td>1.000000e+00</td>\n",
       "    </tr>\n",
       "  </tbody>\n",
       "</table>\n",
       "</div>"
      ],
      "text/plain": [
       "        region_code     lot_price  procedure_price     is_winner\n",
       "count  3.056274e+06  3.056274e+06     3.056274e+06  3.056274e+06\n",
       "mean   4.996050e+01  3.892321e+06     4.633619e+06  6.590721e-01\n",
       "std    2.406579e+01  1.492353e+08     1.914951e+08  4.740212e-01\n",
       "min    1.000000e+00  0.000000e+00     0.000000e+00  0.000000e+00\n",
       "25%    2.800000e+01  7.980882e+04     7.990000e+04  0.000000e+00\n",
       "50%    5.200000e+01  2.895344e+05     2.902383e+05  1.000000e+00\n",
       "75%    7.300000e+01  1.019306e+06     1.027537e+06  1.000000e+00\n",
       "max    9.900000e+01  1.275770e+11     1.275770e+11  1.000000e+00"
      ]
     },
     "execution_count": 11,
     "metadata": {},
     "output_type": "execute_result"
    }
   ],
   "source": [
    "data.describe()"
   ]
  },
  {
   "cell_type": "code",
   "execution_count": 12,
   "metadata": {
    "colab": {
     "base_uri": "https://localhost:8080/"
    },
    "executionInfo": {
     "elapsed": 308,
     "status": "ok",
     "timestamp": 1668062241675,
     "user": {
      "displayName": "Дмитрий Савелко",
      "userId": "00857664281999640493"
     },
     "user_tz": -180
    },
    "id": "hGnYyxCIaY6d",
    "outputId": "9638f09d-384a-4d49-ebb6-24cc15cfb437"
   },
   "outputs": [
    {
     "data": {
      "text/plain": [
       "pn_lot                 0.000000\n",
       "region_code            0.000000\n",
       "etp                    0.037896\n",
       "min_publish_date       0.000000\n",
       "purchase_name          0.061122\n",
       "lot_name               0.580554\n",
       "forsmallbiz            0.000000\n",
       "lot_price              0.000000\n",
       "procedure_price        0.000000\n",
       "customer_inn_kpp       0.000000\n",
       "okpd2_code             0.174487\n",
       "additional_code        0.734187\n",
       "item_descriptions      0.069661\n",
       "participant_inn_kpp    0.000000\n",
       "is_winner              0.000000\n",
       "fz_y                   0.000000\n",
       "dtype: float64"
      ]
     },
     "execution_count": 12,
     "metadata": {},
     "output_type": "execute_result"
    }
   ],
   "source": [
    "data.isna().sum()/data.shape[0]"
   ]
  },
  {
   "cell_type": "code",
   "execution_count": 13,
   "metadata": {
    "colab": {
     "base_uri": "https://localhost:8080/"
    },
    "executionInfo": {
     "elapsed": 1075,
     "status": "ok",
     "timestamp": 1668062242733,
     "user": {
      "displayName": "Дмитрий Савелко",
      "userId": "00857664281999640493"
     },
     "user_tz": -180
    },
    "id": "GUCGwj3-HctU",
    "outputId": "6bc5aee5-979e-4466-c1bf-e89bcb489401"
   },
   "outputs": [
    {
     "data": {
      "text/plain": [
       "(Index(['region_code', 'forsmallbiz', 'lot_price', 'procedure_price',\n",
       "        'is_winner'],\n",
       "       dtype='object'),\n",
       " Index(['pn_lot', 'etp', 'min_publish_date', 'purchase_name', 'lot_name',\n",
       "        'customer_inn_kpp', 'okpd2_code', 'additional_code',\n",
       "        'item_descriptions', 'participant_inn_kpp', 'fz_y'],\n",
       "       dtype='object'))"
      ]
     },
     "execution_count": 13,
     "metadata": {},
     "output_type": "execute_result"
    }
   ],
   "source": [
    "target_col = 'is_winner'\n",
    "cat_cols = data.loc[:, np.object == data.dtypes].columns\n",
    "num_cols = data.loc[:, np.object != data.dtypes].columns\n",
    "num_cols, cat_cols"
   ]
  },
  {
   "cell_type": "code",
   "execution_count": 14,
   "metadata": {
    "colab": {
     "base_uri": "https://localhost:8080/"
    },
    "executionInfo": {
     "elapsed": 499,
     "status": "ok",
     "timestamp": 1668062243229,
     "user": {
      "displayName": "Дмитрий Савелко",
      "userId": "00857664281999640493"
     },
     "user_tz": -180
    },
    "id": "9BazE402HAPj",
    "outputId": "876524e7-9064-49fb-cffc-d744e30bba44"
   },
   "outputs": [
    {
     "data": {
      "text/plain": [
       "array(['44fz_contract_single_supplier', 'sberbank-ast.ru', 'gpb.ru',\n",
       "       'tektorg.ru', 'roseltorg.ru', nan, 'rts-tender.ru', 'zakazrf.ru',\n",
       "       'fabrikant.ru', 'other_etp', 'b2b-center.ru', 'etprf.ru', 'otc.ru',\n",
       "       'torgi223.ru', 'lot-online.ru', 'etpzakaz.ru', 'estp.ru',\n",
       "       'gazprom.ru', 'gazneftetorg.ru', 'astgoz.ru', 'rzd.ru',\n",
       "       'rosseti.ru'], dtype=object)"
      ]
     },
     "execution_count": 14,
     "metadata": {},
     "output_type": "execute_result"
    }
   ],
   "source": [
    "data['etp'].unique()"
   ]
  },
  {
   "cell_type": "code",
   "execution_count": 15,
   "metadata": {
    "id": "ASKq1rPv1Fsy"
   },
   "outputs": [],
   "source": [
    "col_to_cat = ['region_code', 'additional_code']\n",
    "for col in col_to_cat:\n",
    "    data[col] = data[col].astype('object')"
   ]
  },
  {
   "cell_type": "markdown",
   "metadata": {
    "id": "Z7eEzZ8F5emm"
   },
   "source": [
    "У части строк с непустыми добавочными кодами пропущены okpd2, а в другой части они совпадают, так как они передают общую суть, то в данном случае все `additional_code` можно вставить в `okpd2_code`  "
   ]
  },
  {
   "cell_type": "code",
   "execution_count": 16,
   "metadata": {
    "id": "itVry3rM6j3k"
   },
   "outputs": [],
   "source": [
    "data.loc[~data['additional_code'].isna(), ['okpd2_code']] = data.loc[~data['additional_code'].isna()]['additional_code']"
   ]
  },
  {
   "cell_type": "code",
   "execution_count": 17,
   "metadata": {},
   "outputs": [],
   "source": [
    "data['okpd2_code'] = data['okpd2_code'].astype('string')"
   ]
  },
  {
   "cell_type": "code",
   "execution_count": 18,
   "metadata": {
    "id": "rLaZisWv54We"
   },
   "outputs": [],
   "source": [
    "data = data.drop(['additional_code'], axis = 1)"
   ]
  },
  {
   "cell_type": "code",
   "execution_count": 19,
   "metadata": {
    "colab": {
     "base_uri": "https://localhost:8080/"
    },
    "executionInfo": {
     "elapsed": 1294,
     "status": "ok",
     "timestamp": 1668062254100,
     "user": {
      "displayName": "Дмитрий Савелко",
      "userId": "00857664281999640493"
     },
     "user_tz": -180
    },
    "id": "bwhtIqyZ9iiD",
    "outputId": "c61560ee-5b7e-4960-89fd-85ed6e764074"
   },
   "outputs": [
    {
     "data": {
      "text/plain": [
       "(Index(['forsmallbiz', 'lot_price', 'procedure_price', 'okpd2_code',\n",
       "        'is_winner'],\n",
       "       dtype='object'),\n",
       " Index(['pn_lot', 'region_code', 'etp', 'min_publish_date', 'purchase_name',\n",
       "        'lot_name', 'customer_inn_kpp', 'item_descriptions',\n",
       "        'participant_inn_kpp', 'fz_y'],\n",
       "       dtype='object'))"
      ]
     },
     "execution_count": 19,
     "metadata": {},
     "output_type": "execute_result"
    }
   ],
   "source": [
    "target_col = 'is_winner'\n",
    "cat_cols = data.loc[:, np.object == data.dtypes].columns\n",
    "num_cols = data.loc[:, np.object != data.dtypes].columns\n",
    "num_cols, cat_cols"
   ]
  },
  {
   "cell_type": "markdown",
   "metadata": {
    "id": "AjUYejsx-vPu"
   },
   "source": [
    "Уберём оставшиеся пропуски самыми популярными значениями"
   ]
  },
  {
   "cell_type": "code",
   "execution_count": 20,
   "metadata": {},
   "outputs": [],
   "source": [
    "data['etp'] = data['etp'].fillna(\"None\")"
   ]
  },
  {
   "cell_type": "markdown",
   "metadata": {
    "id": "6p3ySZzKdhBT"
   },
   "source": [
    "Убрали все пропуски, оставили только пропуски для эмбеддингов"
   ]
  },
  {
   "cell_type": "code",
   "execution_count": 21,
   "metadata": {
    "colab": {
     "base_uri": "https://localhost:8080/"
    },
    "executionInfo": {
     "elapsed": 249,
     "status": "ok",
     "timestamp": 1668062261408,
     "user": {
      "displayName": "Дмитрий Савелко",
      "userId": "00857664281999640493"
     },
     "user_tz": -180
    },
    "id": "Ipy79d0ZdJ19",
    "outputId": "0f9fa796-fdc3-40d5-8798-4ea276a5b463"
   },
   "outputs": [
    {
     "data": {
      "text/plain": [
       "pn_lot                 0.000000\n",
       "region_code            0.000000\n",
       "etp                    0.000000\n",
       "min_publish_date       0.000000\n",
       "purchase_name          0.061122\n",
       "lot_name               0.580554\n",
       "forsmallbiz            0.000000\n",
       "lot_price              0.000000\n",
       "procedure_price        0.000000\n",
       "customer_inn_kpp       0.000000\n",
       "okpd2_code             0.000000\n",
       "item_descriptions      0.069661\n",
       "participant_inn_kpp    0.000000\n",
       "is_winner              0.000000\n",
       "fz_y                   0.000000\n",
       "dtype: float64"
      ]
     },
     "execution_count": 21,
     "metadata": {},
     "output_type": "execute_result"
    }
   ],
   "source": [
    "data.isna().sum()/data.shape[0]"
   ]
  },
  {
   "cell_type": "code",
   "execution_count": 22,
   "metadata": {
    "colab": {
     "base_uri": "https://localhost:8080/"
    },
    "executionInfo": {
     "elapsed": 3,
     "status": "ok",
     "timestamp": 1668172791633,
     "user": {
      "displayName": "Дмитрий Савелко",
      "userId": "00857664281999640493"
     },
     "user_tz": -180
    },
    "id": "_4Pq0k8x6KHI",
    "outputId": "03ce79ae-8088-4e15-c4e2-2a3927d7ef9c"
   },
   "outputs": [
    {
     "data": {
      "text/plain": [
       "(['region_code', 'etp'],\n",
       " Index(['forsmallbiz', 'lot_price', 'procedure_price', 'okpd2_code',\n",
       "        'is_winner'],\n",
       "       dtype='object'))"
      ]
     },
     "execution_count": 22,
     "metadata": {},
     "output_type": "execute_result"
    }
   ],
   "source": [
    "cols2embedding = ['purchase_name', 'lot_name', 'item_descriptions']\n",
    "target_col = 'is_winner'\n",
    "cat_cols = ['region_code', 'etp']\n",
    "num_cols = data.loc[:, np.object != data.dtypes].columns\n",
    "cat_cols, num_cols"
   ]
  },
  {
   "cell_type": "markdown",
   "metadata": {},
   "source": [
    "Необходим баланс классов"
   ]
  },
  {
   "cell_type": "code",
   "execution_count": 23,
   "metadata": {},
   "outputs": [
    {
     "data": {
      "image/png": "[encoded data removed]",
      "text/plain": [
       "<Figure size 1152x648 with 1 Axes>"
      ]
     },
     "metadata": {
      "needs_background": "light"
     },
     "output_type": "display_data"
    }
   ],
   "source": [
    "sns.histplot(data=data.sample(n=100000), x=\"is_winner\")\n",
    "plt.show()"
   ]
  },
  {
   "cell_type": "code",
   "execution_count": 24,
   "metadata": {},
   "outputs": [
    {
     "data": {
      "text/plain": [
       "True"
      ]
     },
     "execution_count": 24,
     "metadata": {},
     "output_type": "execute_result"
    }
   ],
   "source": [
    "data = pd.concat([data[data['is_winner'] == 1].sample(n=sum(data['is_winner'] == 0)), data[data['is_winner'] == 0]])\n",
    "sum(data['is_winner'] == 1) == sum(data['is_winner'] == 0)"
   ]
  },
  {
   "cell_type": "code",
   "execution_count": 25,
   "metadata": {
    "scrolled": true
   },
   "outputs": [],
   "source": [
    "data = data.sort_values(by=['min_publish_date'])"
   ]
  },
  {
   "cell_type": "code",
   "execution_count": 26,
   "metadata": {},
   "outputs": [],
   "source": [
    "data['min_publish_date'] = data['min_publish_date'].astype(\"datetime64\")"
   ]
  },
  {
   "cell_type": "markdown",
   "metadata": {},
   "source": [
    "Выделим день, месяц и год"
   ]
  },
  {
   "cell_type": "code",
   "execution_count": 27,
   "metadata": {},
   "outputs": [],
   "source": [
    "data['year'] = data['min_publish_date'].dt.year\n",
    "data['month'] = data['min_publish_date'].dt.month\n",
    "data['day'] = data['min_publish_date'].dt.day"
   ]
  },
  {
   "cell_type": "code",
   "execution_count": 28,
   "metadata": {},
   "outputs": [],
   "source": [
    "data = data.drop(['min_publish_date'], axis=1)"
   ]
  },
  {
   "cell_type": "code",
   "execution_count": 29,
   "metadata": {},
   "outputs": [],
   "source": [
    "data = data.drop(['customer_inn_kpp'], axis=1)"
   ]
  },
  {
   "cell_type": "code",
   "execution_count": 30,
   "metadata": {
    "scrolled": true
   },
   "outputs": [
    {
     "data": {
      "text/plain": [
       "0.9960349108274814"
      ]
     },
     "execution_count": 30,
     "metadata": {},
     "output_type": "execute_result"
    }
   ],
   "source": [
    "sum(data['lot_price'] == data['procedure_price'])/data.shape[0]"
   ]
  },
  {
   "cell_type": "code",
   "execution_count": 31,
   "metadata": {},
   "outputs": [
    {
     "data": {
      "text/plain": [
       "0.0"
      ]
     },
     "execution_count": 31,
     "metadata": {},
     "output_type": "execute_result"
    }
   ],
   "source": [
    "sum(data['lot_price'] > data['procedure_price'])/data.shape[0]"
   ]
  },
  {
   "cell_type": "code",
   "execution_count": 32,
   "metadata": {},
   "outputs": [
    {
     "data": {
      "text/plain": [
       "0.003965089172518569"
      ]
     },
     "execution_count": 32,
     "metadata": {},
     "output_type": "execute_result"
    }
   ],
   "source": [
    "sum(data['lot_price'] < data['procedure_price'])/data.shape[0]"
   ]
  },
  {
   "cell_type": "code",
   "execution_count": 33,
   "metadata": {},
   "outputs": [],
   "source": [
    "data['procedure_price'] = data['procedure_price'] - data['lot_price']"
   ]
  },
  {
   "cell_type": "code",
   "execution_count": 34,
   "metadata": {
    "scrolled": true
   },
   "outputs": [],
   "source": [
    "data = data.rename(columns={\"fz_y\": \"fz\"})"
   ]
  },
  {
   "cell_type": "code",
   "execution_count": 35,
   "metadata": {},
   "outputs": [],
   "source": [
    "data.to_csv('prepare_data.csv', sep=';', index=False)"
   ]
  },
  {
   "cell_type": "code",
   "execution_count": 39,
   "metadata": {},
   "outputs": [],
   "source": [
    "data = pd.read_csv('prepare_data.csv', sep=';')"
   ]
  },
  {
   "cell_type": "code",
   "execution_count": 40,
   "metadata": {
    "scrolled": true
   },
   "outputs": [
    {
     "data": {
      "text/html": [
       "<div>\n",
       "<style scoped>\n",
       "    .dataframe tbody tr th:only-of-type {\n",
       "        vertical-align: middle;\n",
       "    }\n",
       "\n",
       "    .dataframe tbody tr th {\n",
       "        vertical-align: top;\n",
       "    }\n",
       "\n",
       "    .dataframe thead th {\n",
       "        text-align: right;\n",
       "    }\n",
       "</style>\n",
       "<table border=\"1\" class=\"dataframe\">\n",
       "  <thead>\n",
       "    <tr style=\"text-align: right;\">\n",
       "      <th></th>\n",
       "      <th>pn_lot</th>\n",
       "      <th>region_code</th>\n",
       "      <th>etp</th>\n",
       "      <th>purchase_name</th>\n",
       "      <th>lot_name</th>\n",
       "      <th>forsmallbiz</th>\n",
       "      <th>lot_price</th>\n",
       "      <th>procedure_price</th>\n",
       "      <th>okpd2_code</th>\n",
       "      <th>item_descriptions</th>\n",
       "      <th>participant_inn_kpp</th>\n",
       "      <th>is_winner</th>\n",
       "      <th>fz</th>\n",
       "      <th>year</th>\n",
       "      <th>month</th>\n",
       "      <th>day</th>\n",
       "    </tr>\n",
       "  </thead>\n",
       "  <tbody>\n",
       "    <tr>\n",
       "      <th>0</th>\n",
       "      <td>0358300383019000001_</td>\n",
       "      <td>61</td>\n",
       "      <td>None</td>\n",
       "      <td>Услуги водоснабжения, водоотведения</td>\n",
       "      <td>NaN</td>\n",
       "      <td>False</td>\n",
       "      <td>183500.00</td>\n",
       "      <td>0.0</td>\n",
       "      <td>36.0</td>\n",
       "      <td>Услуги по торговле водой, поставляемой по труб...</td>\n",
       "      <td>249099b43f22089c6b558e20c4132aa18ef2b23d9d9875...</td>\n",
       "      <td>1</td>\n",
       "      <td>44fz</td>\n",
       "      <td>2019</td>\n",
       "      <td>1</td>\n",
       "      <td>5</td>\n",
       "    </tr>\n",
       "    <tr>\n",
       "      <th>1</th>\n",
       "      <td>3523500497219000001</td>\n",
       "      <td>52</td>\n",
       "      <td>44fz_contract_single_supplier</td>\n",
       "      <td>NaN</td>\n",
       "      <td>NaN</td>\n",
       "      <td>False</td>\n",
       "      <td>203217.34</td>\n",
       "      <td>0.0</td>\n",
       "      <td>46.1</td>\n",
       "      <td>В соответствии с документацией</td>\n",
       "      <td>e314d2f5008508d85e9d6f159345f84b5a9067c084bcee...</td>\n",
       "      <td>1</td>\n",
       "      <td>44fz</td>\n",
       "      <td>2019</td>\n",
       "      <td>1</td>\n",
       "      <td>6</td>\n",
       "    </tr>\n",
       "    <tr>\n",
       "      <th>2</th>\n",
       "      <td>0322300102219000003_</td>\n",
       "      <td>27</td>\n",
       "      <td>None</td>\n",
       "      <td>Услуги по поставке холодного водоснабжения</td>\n",
       "      <td>NaN</td>\n",
       "      <td>False</td>\n",
       "      <td>65000.00</td>\n",
       "      <td>0.0</td>\n",
       "      <td>36.0</td>\n",
       "      <td>Услуги по поставке холодного водоснабжения</td>\n",
       "      <td>42f37f6f1aceec2790f1a3c05e29838c15c219658da3fa...</td>\n",
       "      <td>1</td>\n",
       "      <td>44fz</td>\n",
       "      <td>2019</td>\n",
       "      <td>1</td>\n",
       "      <td>6</td>\n",
       "    </tr>\n",
       "    <tr>\n",
       "      <th>3</th>\n",
       "      <td>0337300093319000002_</td>\n",
       "      <td>40</td>\n",
       "      <td>None</td>\n",
       "      <td>Энергия тепловая, отпущенная котельными</td>\n",
       "      <td>NaN</td>\n",
       "      <td>False</td>\n",
       "      <td>1476269.61</td>\n",
       "      <td>0.0</td>\n",
       "      <td>35.3</td>\n",
       "      <td>Энергия тепловая, отпущенная котельными</td>\n",
       "      <td>38c0a81b3d051cab277d12c8310b3f52dc65bc9cecb85d...</td>\n",
       "      <td>1</td>\n",
       "      <td>44fz</td>\n",
       "      <td>2019</td>\n",
       "      <td>1</td>\n",
       "      <td>6</td>\n",
       "    </tr>\n",
       "    <tr>\n",
       "      <th>4</th>\n",
       "      <td>0318300183819000001_</td>\n",
       "      <td>23</td>\n",
       "      <td>None</td>\n",
       "      <td>поставка природного газа</td>\n",
       "      <td>NaN</td>\n",
       "      <td>False</td>\n",
       "      <td>274754.01</td>\n",
       "      <td>0.0</td>\n",
       "      <td>35.2</td>\n",
       "      <td>Услуги по продаже потребителям газа, подаваемо...</td>\n",
       "      <td>9ae86184cf4616716999e578788e3f35a04b4994c5571e...</td>\n",
       "      <td>1</td>\n",
       "      <td>44fz</td>\n",
       "      <td>2019</td>\n",
       "      <td>1</td>\n",
       "      <td>6</td>\n",
       "    </tr>\n",
       "    <tr>\n",
       "      <th>...</th>\n",
       "      <td>...</td>\n",
       "      <td>...</td>\n",
       "      <td>...</td>\n",
       "      <td>...</td>\n",
       "      <td>...</td>\n",
       "      <td>...</td>\n",
       "      <td>...</td>\n",
       "      <td>...</td>\n",
       "      <td>...</td>\n",
       "      <td>...</td>\n",
       "      <td>...</td>\n",
       "      <td>...</td>\n",
       "      <td>...</td>\n",
       "      <td>...</td>\n",
       "      <td>...</td>\n",
       "      <td>...</td>\n",
       "    </tr>\n",
       "    <tr>\n",
       "      <th>2083933</th>\n",
       "      <td>1990100758322000012</td>\n",
       "      <td>99</td>\n",
       "      <td>44fz_contract_single_supplier</td>\n",
       "      <td>Поставка продуктов питания</td>\n",
       "      <td>Поставка продуктов питания</td>\n",
       "      <td>True</td>\n",
       "      <td>23338.05</td>\n",
       "      <td>0.0</td>\n",
       "      <td>10.5</td>\n",
       "      <td>Сыры полутвердые</td>\n",
       "      <td>72fb64152e0f90463f60f1eec671631daf27e09ff78fb2...</td>\n",
       "      <td>1</td>\n",
       "      <td>44fz</td>\n",
       "      <td>2022</td>\n",
       "      <td>7</td>\n",
       "      <td>1</td>\n",
       "    </tr>\n",
       "    <tr>\n",
       "      <th>2083934</th>\n",
       "      <td>2370269625721000072</td>\n",
       "      <td>37</td>\n",
       "      <td>44fz_contract_single_supplier</td>\n",
       "      <td>Оказание услуг по предоставлению постоянного д...</td>\n",
       "      <td>Оказание услуг по предоставлению постоянного д...</td>\n",
       "      <td>True</td>\n",
       "      <td>698568.00</td>\n",
       "      <td>0.0</td>\n",
       "      <td>61.1</td>\n",
       "      <td>Предоставление в пользование симметричного циф...</td>\n",
       "      <td>7364242788bb3a76b5f7272e25ae528b012bee4a5c3b3b...</td>\n",
       "      <td>1</td>\n",
       "      <td>44fz</td>\n",
       "      <td>2022</td>\n",
       "      <td>7</td>\n",
       "      <td>1</td>\n",
       "    </tr>\n",
       "    <tr>\n",
       "      <th>2083935</th>\n",
       "      <td>2110148713522000261</td>\n",
       "      <td>11</td>\n",
       "      <td>44fz_contract_single_supplier</td>\n",
       "      <td>Поставка продуктов питания в 3 квартале 2022 г...</td>\n",
       "      <td>Поставка продуктов питания в 3 квартале 2022 г...</td>\n",
       "      <td>True</td>\n",
       "      <td>340074.00</td>\n",
       "      <td>0.0</td>\n",
       "      <td>10.8</td>\n",
       "      <td>Зелень сушеная</td>\n",
       "      <td>c50718b71fbc99d89d66d13c85c49abe4f45c02f5581fb...</td>\n",
       "      <td>1</td>\n",
       "      <td>44fz</td>\n",
       "      <td>2022</td>\n",
       "      <td>7</td>\n",
       "      <td>1</td>\n",
       "    </tr>\n",
       "    <tr>\n",
       "      <th>2083936</th>\n",
       "      <td>3740600210722000011</td>\n",
       "      <td>74</td>\n",
       "      <td>44fz_contract_single_supplier</td>\n",
       "      <td>Выполнение работ по  капитальному ремонту спор...</td>\n",
       "      <td>Выполнение работ по  капитальному ремонту спор...</td>\n",
       "      <td>True</td>\n",
       "      <td>5957745.48</td>\n",
       "      <td>0.0</td>\n",
       "      <td>43.3</td>\n",
       "      <td>выполнение работ по капитальному ремонту спорт...</td>\n",
       "      <td>4d1fcaccab7120a28ee194a188911c4614dbdf89120e27...</td>\n",
       "      <td>1</td>\n",
       "      <td>44fz</td>\n",
       "      <td>2022</td>\n",
       "      <td>7</td>\n",
       "      <td>1</td>\n",
       "    </tr>\n",
       "    <tr>\n",
       "      <th>2083937</th>\n",
       "      <td>3420501766920000001</td>\n",
       "      <td>42</td>\n",
       "      <td>44fz_contract_single_supplier</td>\n",
       "      <td>Холодное водоснабжение и водоотведение</td>\n",
       "      <td>Холодное водоснабжение и водоотведение</td>\n",
       "      <td>False</td>\n",
       "      <td>614978.61</td>\n",
       "      <td>0.0</td>\n",
       "      <td>37.0</td>\n",
       "      <td>Плата за негатив. воздейств. на работу центр. ...</td>\n",
       "      <td>a711af92d633d572f5552a6bcb978009f87cdc3cd269be...</td>\n",
       "      <td>1</td>\n",
       "      <td>44fz</td>\n",
       "      <td>2022</td>\n",
       "      <td>7</td>\n",
       "      <td>1</td>\n",
       "    </tr>\n",
       "  </tbody>\n",
       "</table>\n",
       "<p>2083938 rows × 16 columns</p>\n",
       "</div>"
      ],
      "text/plain": [
       "                       pn_lot  region_code                            etp  \\\n",
       "0        0358300383019000001_           61                           None   \n",
       "1         3523500497219000001           52  44fz_contract_single_supplier   \n",
       "2        0322300102219000003_           27                           None   \n",
       "3        0337300093319000002_           40                           None   \n",
       "4        0318300183819000001_           23                           None   \n",
       "...                       ...          ...                            ...   \n",
       "2083933   1990100758322000012           99  44fz_contract_single_supplier   \n",
       "2083934   2370269625721000072           37  44fz_contract_single_supplier   \n",
       "2083935   2110148713522000261           11  44fz_contract_single_supplier   \n",
       "2083936   3740600210722000011           74  44fz_contract_single_supplier   \n",
       "2083937   3420501766920000001           42  44fz_contract_single_supplier   \n",
       "\n",
       "                                             purchase_name  \\\n",
       "0                      Услуги водоснабжения, водоотведения   \n",
       "1                                                      NaN   \n",
       "2               Услуги по поставке холодного водоснабжения   \n",
       "3                  Энергия тепловая, отпущенная котельными   \n",
       "4                                 поставка природного газа   \n",
       "...                                                    ...   \n",
       "2083933                         Поставка продуктов питания   \n",
       "2083934  Оказание услуг по предоставлению постоянного д...   \n",
       "2083935  Поставка продуктов питания в 3 квартале 2022 г...   \n",
       "2083936  Выполнение работ по  капитальному ремонту спор...   \n",
       "2083937             Холодное водоснабжение и водоотведение   \n",
       "\n",
       "                                                  lot_name  forsmallbiz  \\\n",
       "0                                                      NaN        False   \n",
       "1                                                      NaN        False   \n",
       "2                                                      NaN        False   \n",
       "3                                                      NaN        False   \n",
       "4                                                      NaN        False   \n",
       "...                                                    ...          ...   \n",
       "2083933                         Поставка продуктов питания         True   \n",
       "2083934  Оказание услуг по предоставлению постоянного д...         True   \n",
       "2083935  Поставка продуктов питания в 3 квартале 2022 г...         True   \n",
       "2083936  Выполнение работ по  капитальному ремонту спор...         True   \n",
       "2083937             Холодное водоснабжение и водоотведение        False   \n",
       "\n",
       "          lot_price  procedure_price okpd2_code  \\\n",
       "0         183500.00              0.0       36.0   \n",
       "1         203217.34              0.0       46.1   \n",
       "2          65000.00              0.0       36.0   \n",
       "3        1476269.61              0.0       35.3   \n",
       "4         274754.01              0.0       35.2   \n",
       "...             ...              ...        ...   \n",
       "2083933    23338.05              0.0       10.5   \n",
       "2083934   698568.00              0.0       61.1   \n",
       "2083935   340074.00              0.0       10.8   \n",
       "2083936  5957745.48              0.0       43.3   \n",
       "2083937   614978.61              0.0       37.0   \n",
       "\n",
       "                                         item_descriptions  \\\n",
       "0        Услуги по торговле водой, поставляемой по труб...   \n",
       "1                           В соответствии с документацией   \n",
       "2               Услуги по поставке холодного водоснабжения   \n",
       "3                  Энергия тепловая, отпущенная котельными   \n",
       "4        Услуги по продаже потребителям газа, подаваемо...   \n",
       "...                                                    ...   \n",
       "2083933                                   Сыры полутвердые   \n",
       "2083934  Предоставление в пользование симметричного циф...   \n",
       "2083935                                     Зелень сушеная   \n",
       "2083936  выполнение работ по капитальному ремонту спорт...   \n",
       "2083937  Плата за негатив. воздейств. на работу центр. ...   \n",
       "\n",
       "                                       participant_inn_kpp  is_winner    fz  \\\n",
       "0        249099b43f22089c6b558e20c4132aa18ef2b23d9d9875...          1  44fz   \n",
       "1        e314d2f5008508d85e9d6f159345f84b5a9067c084bcee...          1  44fz   \n",
       "2        42f37f6f1aceec2790f1a3c05e29838c15c219658da3fa...          1  44fz   \n",
       "3        38c0a81b3d051cab277d12c8310b3f52dc65bc9cecb85d...          1  44fz   \n",
       "4        9ae86184cf4616716999e578788e3f35a04b4994c5571e...          1  44fz   \n",
       "...                                                    ...        ...   ...   \n",
       "2083933  72fb64152e0f90463f60f1eec671631daf27e09ff78fb2...          1  44fz   \n",
       "2083934  7364242788bb3a76b5f7272e25ae528b012bee4a5c3b3b...          1  44fz   \n",
       "2083935  c50718b71fbc99d89d66d13c85c49abe4f45c02f5581fb...          1  44fz   \n",
       "2083936  4d1fcaccab7120a28ee194a188911c4614dbdf89120e27...          1  44fz   \n",
       "2083937  a711af92d633d572f5552a6bcb978009f87cdc3cd269be...          1  44fz   \n",
       "\n",
       "         year  month  day  \n",
       "0        2019      1    5  \n",
       "1        2019      1    6  \n",
       "2        2019      1    6  \n",
       "3        2019      1    6  \n",
       "4        2019      1    6  \n",
       "...       ...    ...  ...  \n",
       "2083933  2022      7    1  \n",
       "2083934  2022      7    1  \n",
       "2083935  2022      7    1  \n",
       "2083936  2022      7    1  \n",
       "2083937  2022      7    1  \n",
       "\n",
       "[2083938 rows x 16 columns]"
      ]
     },
     "execution_count": 40,
     "metadata": {},
     "output_type": "execute_result"
    }
   ],
   "source": [
    "data"
   ]
  },
  {
   "cell_type": "markdown",
   "metadata": {},
   "source": [
    "Сформируем окончательный датасет"
   ]
  },
  {
   "cell_type": "code",
   "execution_count": 41,
   "metadata": {},
   "outputs": [],
   "source": [
    "data_index = data.set_index(['participant_inn_kpp', 'pn_lot'])"
   ]
  },
  {
   "cell_type": "markdown",
   "metadata": {
    "id": "sNYWvubvo0cG"
   },
   "source": [
    "# EDA"
   ]
  },
  {
   "cell_type": "code",
   "execution_count": 42,
   "metadata": {
    "colab": {
     "base_uri": "https://localhost:8080/",
     "height": 496
    },
    "executionInfo": {
     "elapsed": 411,
     "status": "ok",
     "timestamp": 1668172795132,
     "user": {
      "displayName": "Дмитрий Савелко",
      "userId": "00857664281999640493"
     },
     "user_tz": -180
    },
    "id": "9Yu9bDoiwrVC",
    "outputId": "c0d102a9-b25e-461e-e015-682acf189162"
   },
   "outputs": [
    {
     "data": {
      "text/html": [
       "<div>\n",
       "<style scoped>\n",
       "    .dataframe tbody tr th:only-of-type {\n",
       "        vertical-align: middle;\n",
       "    }\n",
       "\n",
       "    .dataframe tbody tr th {\n",
       "        vertical-align: top;\n",
       "    }\n",
       "\n",
       "    .dataframe thead th {\n",
       "        text-align: right;\n",
       "    }\n",
       "</style>\n",
       "<table border=\"1\" class=\"dataframe\">\n",
       "  <thead>\n",
       "    <tr style=\"text-align: right;\">\n",
       "      <th></th>\n",
       "      <th></th>\n",
       "      <th>region_code</th>\n",
       "      <th>etp</th>\n",
       "      <th>purchase_name</th>\n",
       "      <th>lot_name</th>\n",
       "      <th>forsmallbiz</th>\n",
       "      <th>lot_price</th>\n",
       "      <th>procedure_price</th>\n",
       "      <th>okpd2_code</th>\n",
       "      <th>item_descriptions</th>\n",
       "      <th>is_winner</th>\n",
       "      <th>fz</th>\n",
       "      <th>year</th>\n",
       "      <th>month</th>\n",
       "      <th>day</th>\n",
       "    </tr>\n",
       "    <tr>\n",
       "      <th>participant_inn_kpp</th>\n",
       "      <th>pn_lot</th>\n",
       "      <th></th>\n",
       "      <th></th>\n",
       "      <th></th>\n",
       "      <th></th>\n",
       "      <th></th>\n",
       "      <th></th>\n",
       "      <th></th>\n",
       "      <th></th>\n",
       "      <th></th>\n",
       "      <th></th>\n",
       "      <th></th>\n",
       "      <th></th>\n",
       "      <th></th>\n",
       "      <th></th>\n",
       "    </tr>\n",
       "  </thead>\n",
       "  <tbody>\n",
       "    <tr>\n",
       "      <th>249099b43f22089c6b558e20c4132aa18ef2b23d9d9875e6ab86e756eb59ff22</th>\n",
       "      <th>0358300383019000001_</th>\n",
       "      <td>61</td>\n",
       "      <td>None</td>\n",
       "      <td>Услуги водоснабжения, водоотведения</td>\n",
       "      <td>NaN</td>\n",
       "      <td>False</td>\n",
       "      <td>183500.00</td>\n",
       "      <td>0.0</td>\n",
       "      <td>36.0</td>\n",
       "      <td>Услуги по торговле водой, поставляемой по труб...</td>\n",
       "      <td>1</td>\n",
       "      <td>44fz</td>\n",
       "      <td>2019</td>\n",
       "      <td>1</td>\n",
       "      <td>5</td>\n",
       "    </tr>\n",
       "    <tr>\n",
       "      <th>e314d2f5008508d85e9d6f159345f84b5a9067c084bceec6bcd0454e74a76573</th>\n",
       "      <th>3523500497219000001</th>\n",
       "      <td>52</td>\n",
       "      <td>44fz_contract_single_supplier</td>\n",
       "      <td>NaN</td>\n",
       "      <td>NaN</td>\n",
       "      <td>False</td>\n",
       "      <td>203217.34</td>\n",
       "      <td>0.0</td>\n",
       "      <td>46.1</td>\n",
       "      <td>В соответствии с документацией</td>\n",
       "      <td>1</td>\n",
       "      <td>44fz</td>\n",
       "      <td>2019</td>\n",
       "      <td>1</td>\n",
       "      <td>6</td>\n",
       "    </tr>\n",
       "    <tr>\n",
       "      <th>42f37f6f1aceec2790f1a3c05e29838c15c219658da3faf5fb19f6f6a0c89104</th>\n",
       "      <th>0322300102219000003_</th>\n",
       "      <td>27</td>\n",
       "      <td>None</td>\n",
       "      <td>Услуги по поставке холодного водоснабжения</td>\n",
       "      <td>NaN</td>\n",
       "      <td>False</td>\n",
       "      <td>65000.00</td>\n",
       "      <td>0.0</td>\n",
       "      <td>36.0</td>\n",
       "      <td>Услуги по поставке холодного водоснабжения</td>\n",
       "      <td>1</td>\n",
       "      <td>44fz</td>\n",
       "      <td>2019</td>\n",
       "      <td>1</td>\n",
       "      <td>6</td>\n",
       "    </tr>\n",
       "    <tr>\n",
       "      <th>38c0a81b3d051cab277d12c8310b3f52dc65bc9cecb85d2bb0dd306c71d1b030</th>\n",
       "      <th>0337300093319000002_</th>\n",
       "      <td>40</td>\n",
       "      <td>None</td>\n",
       "      <td>Энергия тепловая, отпущенная котельными</td>\n",
       "      <td>NaN</td>\n",
       "      <td>False</td>\n",
       "      <td>1476269.61</td>\n",
       "      <td>0.0</td>\n",
       "      <td>35.3</td>\n",
       "      <td>Энергия тепловая, отпущенная котельными</td>\n",
       "      <td>1</td>\n",
       "      <td>44fz</td>\n",
       "      <td>2019</td>\n",
       "      <td>1</td>\n",
       "      <td>6</td>\n",
       "    </tr>\n",
       "    <tr>\n",
       "      <th>9ae86184cf4616716999e578788e3f35a04b4994c5571e9599aaff46c9e7b3bc</th>\n",
       "      <th>0318300183819000001_</th>\n",
       "      <td>23</td>\n",
       "      <td>None</td>\n",
       "      <td>поставка природного газа</td>\n",
       "      <td>NaN</td>\n",
       "      <td>False</td>\n",
       "      <td>274754.01</td>\n",
       "      <td>0.0</td>\n",
       "      <td>35.2</td>\n",
       "      <td>Услуги по продаже потребителям газа, подаваемо...</td>\n",
       "      <td>1</td>\n",
       "      <td>44fz</td>\n",
       "      <td>2019</td>\n",
       "      <td>1</td>\n",
       "      <td>6</td>\n",
       "    </tr>\n",
       "  </tbody>\n",
       "</table>\n",
       "</div>"
      ],
      "text/plain": [
       "                                                                         region_code  \\\n",
       "participant_inn_kpp                                pn_lot                              \n",
       "249099b43f22089c6b558e20c4132aa18ef2b23d9d9875e... 0358300383019000001_           61   \n",
       "e314d2f5008508d85e9d6f159345f84b5a9067c084bceec... 3523500497219000001            52   \n",
       "42f37f6f1aceec2790f1a3c05e29838c15c219658da3faf... 0322300102219000003_           27   \n",
       "38c0a81b3d051cab277d12c8310b3f52dc65bc9cecb85d2... 0337300093319000002_           40   \n",
       "9ae86184cf4616716999e578788e3f35a04b4994c5571e9... 0318300183819000001_           23   \n",
       "\n",
       "                                                                                                   etp  \\\n",
       "participant_inn_kpp                                pn_lot                                                \n",
       "249099b43f22089c6b558e20c4132aa18ef2b23d9d9875e... 0358300383019000001_                           None   \n",
       "e314d2f5008508d85e9d6f159345f84b5a9067c084bceec... 3523500497219000001   44fz_contract_single_supplier   \n",
       "42f37f6f1aceec2790f1a3c05e29838c15c219658da3faf... 0322300102219000003_                           None   \n",
       "38c0a81b3d051cab277d12c8310b3f52dc65bc9cecb85d2... 0337300093319000002_                           None   \n",
       "9ae86184cf4616716999e578788e3f35a04b4994c5571e9... 0318300183819000001_                           None   \n",
       "\n",
       "                                                                                                      purchase_name  \\\n",
       "participant_inn_kpp                                pn_lot                                                             \n",
       "249099b43f22089c6b558e20c4132aa18ef2b23d9d9875e... 0358300383019000001_         Услуги водоснабжения, водоотведения   \n",
       "e314d2f5008508d85e9d6f159345f84b5a9067c084bceec... 3523500497219000001                                          NaN   \n",
       "42f37f6f1aceec2790f1a3c05e29838c15c219658da3faf... 0322300102219000003_  Услуги по поставке холодного водоснабжения   \n",
       "38c0a81b3d051cab277d12c8310b3f52dc65bc9cecb85d2... 0337300093319000002_     Энергия тепловая, отпущенная котельными   \n",
       "9ae86184cf4616716999e578788e3f35a04b4994c5571e9... 0318300183819000001_                    поставка природного газа   \n",
       "\n",
       "                                                                        lot_name  \\\n",
       "participant_inn_kpp                                pn_lot                          \n",
       "249099b43f22089c6b558e20c4132aa18ef2b23d9d9875e... 0358300383019000001_      NaN   \n",
       "e314d2f5008508d85e9d6f159345f84b5a9067c084bceec... 3523500497219000001       NaN   \n",
       "42f37f6f1aceec2790f1a3c05e29838c15c219658da3faf... 0322300102219000003_      NaN   \n",
       "38c0a81b3d051cab277d12c8310b3f52dc65bc9cecb85d2... 0337300093319000002_      NaN   \n",
       "9ae86184cf4616716999e578788e3f35a04b4994c5571e9... 0318300183819000001_      NaN   \n",
       "\n",
       "                                                                         forsmallbiz  \\\n",
       "participant_inn_kpp                                pn_lot                              \n",
       "249099b43f22089c6b558e20c4132aa18ef2b23d9d9875e... 0358300383019000001_        False   \n",
       "e314d2f5008508d85e9d6f159345f84b5a9067c084bceec... 3523500497219000001         False   \n",
       "42f37f6f1aceec2790f1a3c05e29838c15c219658da3faf... 0322300102219000003_        False   \n",
       "38c0a81b3d051cab277d12c8310b3f52dc65bc9cecb85d2... 0337300093319000002_        False   \n",
       "9ae86184cf4616716999e578788e3f35a04b4994c5571e9... 0318300183819000001_        False   \n",
       "\n",
       "                                                                          lot_price  \\\n",
       "participant_inn_kpp                                pn_lot                             \n",
       "249099b43f22089c6b558e20c4132aa18ef2b23d9d9875e... 0358300383019000001_   183500.00   \n",
       "e314d2f5008508d85e9d6f159345f84b5a9067c084bceec... 3523500497219000001    203217.34   \n",
       "42f37f6f1aceec2790f1a3c05e29838c15c219658da3faf... 0322300102219000003_    65000.00   \n",
       "38c0a81b3d051cab277d12c8310b3f52dc65bc9cecb85d2... 0337300093319000002_  1476269.61   \n",
       "9ae86184cf4616716999e578788e3f35a04b4994c5571e9... 0318300183819000001_   274754.01   \n",
       "\n",
       "                                                                         procedure_price  \\\n",
       "participant_inn_kpp                                pn_lot                                  \n",
       "249099b43f22089c6b558e20c4132aa18ef2b23d9d9875e... 0358300383019000001_              0.0   \n",
       "e314d2f5008508d85e9d6f159345f84b5a9067c084bceec... 3523500497219000001               0.0   \n",
       "42f37f6f1aceec2790f1a3c05e29838c15c219658da3faf... 0322300102219000003_              0.0   \n",
       "38c0a81b3d051cab277d12c8310b3f52dc65bc9cecb85d2... 0337300093319000002_              0.0   \n",
       "9ae86184cf4616716999e578788e3f35a04b4994c5571e9... 0318300183819000001_              0.0   \n",
       "\n",
       "                                                                        okpd2_code  \\\n",
       "participant_inn_kpp                                pn_lot                            \n",
       "249099b43f22089c6b558e20c4132aa18ef2b23d9d9875e... 0358300383019000001_       36.0   \n",
       "e314d2f5008508d85e9d6f159345f84b5a9067c084bceec... 3523500497219000001        46.1   \n",
       "42f37f6f1aceec2790f1a3c05e29838c15c219658da3faf... 0322300102219000003_       36.0   \n",
       "38c0a81b3d051cab277d12c8310b3f52dc65bc9cecb85d2... 0337300093319000002_       35.3   \n",
       "9ae86184cf4616716999e578788e3f35a04b4994c5571e9... 0318300183819000001_       35.2   \n",
       "\n",
       "                                                                                                         item_descriptions  \\\n",
       "participant_inn_kpp                                pn_lot                                                                    \n",
       "249099b43f22089c6b558e20c4132aa18ef2b23d9d9875e... 0358300383019000001_  Услуги по торговле водой, поставляемой по труб...   \n",
       "e314d2f5008508d85e9d6f159345f84b5a9067c084bceec... 3523500497219000001                      В соответствии с документацией   \n",
       "42f37f6f1aceec2790f1a3c05e29838c15c219658da3faf... 0322300102219000003_         Услуги по поставке холодного водоснабжения   \n",
       "38c0a81b3d051cab277d12c8310b3f52dc65bc9cecb85d2... 0337300093319000002_            Энергия тепловая, отпущенная котельными   \n",
       "9ae86184cf4616716999e578788e3f35a04b4994c5571e9... 0318300183819000001_  Услуги по продаже потребителям газа, подаваемо...   \n",
       "\n",
       "                                                                         is_winner  \\\n",
       "participant_inn_kpp                                pn_lot                            \n",
       "249099b43f22089c6b558e20c4132aa18ef2b23d9d9875e... 0358300383019000001_          1   \n",
       "e314d2f5008508d85e9d6f159345f84b5a9067c084bceec... 3523500497219000001           1   \n",
       "42f37f6f1aceec2790f1a3c05e29838c15c219658da3faf... 0322300102219000003_          1   \n",
       "38c0a81b3d051cab277d12c8310b3f52dc65bc9cecb85d2... 0337300093319000002_          1   \n",
       "9ae86184cf4616716999e578788e3f35a04b4994c5571e9... 0318300183819000001_          1   \n",
       "\n",
       "                                                                           fz  \\\n",
       "participant_inn_kpp                                pn_lot                       \n",
       "249099b43f22089c6b558e20c4132aa18ef2b23d9d9875e... 0358300383019000001_  44fz   \n",
       "e314d2f5008508d85e9d6f159345f84b5a9067c084bceec... 3523500497219000001   44fz   \n",
       "42f37f6f1aceec2790f1a3c05e29838c15c219658da3faf... 0322300102219000003_  44fz   \n",
       "38c0a81b3d051cab277d12c8310b3f52dc65bc9cecb85d2... 0337300093319000002_  44fz   \n",
       "9ae86184cf4616716999e578788e3f35a04b4994c5571e9... 0318300183819000001_  44fz   \n",
       "\n",
       "                                                                         year  \\\n",
       "participant_inn_kpp                                pn_lot                       \n",
       "249099b43f22089c6b558e20c4132aa18ef2b23d9d9875e... 0358300383019000001_  2019   \n",
       "e314d2f5008508d85e9d6f159345f84b5a9067c084bceec... 3523500497219000001   2019   \n",
       "42f37f6f1aceec2790f1a3c05e29838c15c219658da3faf... 0322300102219000003_  2019   \n",
       "38c0a81b3d051cab277d12c8310b3f52dc65bc9cecb85d2... 0337300093319000002_  2019   \n",
       "9ae86184cf4616716999e578788e3f35a04b4994c5571e9... 0318300183819000001_  2019   \n",
       "\n",
       "                                                                         month  \\\n",
       "participant_inn_kpp                                pn_lot                        \n",
       "249099b43f22089c6b558e20c4132aa18ef2b23d9d9875e... 0358300383019000001_      1   \n",
       "e314d2f5008508d85e9d6f159345f84b5a9067c084bceec... 3523500497219000001       1   \n",
       "42f37f6f1aceec2790f1a3c05e29838c15c219658da3faf... 0322300102219000003_      1   \n",
       "38c0a81b3d051cab277d12c8310b3f52dc65bc9cecb85d2... 0337300093319000002_      1   \n",
       "9ae86184cf4616716999e578788e3f35a04b4994c5571e9... 0318300183819000001_      1   \n",
       "\n",
       "                                                                         day  \n",
       "participant_inn_kpp                                pn_lot                     \n",
       "249099b43f22089c6b558e20c4132aa18ef2b23d9d9875e... 0358300383019000001_    5  \n",
       "e314d2f5008508d85e9d6f159345f84b5a9067c084bceec... 3523500497219000001     6  \n",
       "42f37f6f1aceec2790f1a3c05e29838c15c219658da3faf... 0322300102219000003_    6  \n",
       "38c0a81b3d051cab277d12c8310b3f52dc65bc9cecb85d2... 0337300093319000002_    6  \n",
       "9ae86184cf4616716999e578788e3f35a04b4994c5571e9... 0318300183819000001_    6  "
      ]
     },
     "execution_count": 42,
     "metadata": {},
     "output_type": "execute_result"
    }
   ],
   "source": [
    "data_index.head()"
   ]
  },
  {
   "cell_type": "code",
   "execution_count": 170,
   "metadata": {
    "colab": {
     "base_uri": "https://localhost:8080/",
     "height": 424
    },
    "executionInfo": {
     "elapsed": 2973,
     "status": "ok",
     "timestamp": 1668173198108,
     "user": {
      "displayName": "Дмитрий Савелко",
      "userId": "00857664281999640493"
     },
     "user_tz": -180
    },
    "id": "sYFoMrhQ26gy",
    "outputId": "e8512ea8-99be-4eac-9db1-139daea2b6bd"
   },
   "outputs": [
    {
     "data": {
      "text/html": [
       "<div>\n",
       "<style scoped>\n",
       "    .dataframe tbody tr th:only-of-type {\n",
       "        vertical-align: middle;\n",
       "    }\n",
       "\n",
       "    .dataframe tbody tr th {\n",
       "        vertical-align: top;\n",
       "    }\n",
       "\n",
       "    .dataframe thead th {\n",
       "        text-align: right;\n",
       "    }\n",
       "</style>\n",
       "<table border=\"1\" class=\"dataframe\">\n",
       "  <thead>\n",
       "    <tr style=\"text-align: right;\">\n",
       "      <th></th>\n",
       "      <th>pn_lot</th>\n",
       "      <th>participant_inn_kpp</th>\n",
       "    </tr>\n",
       "  </thead>\n",
       "  <tbody>\n",
       "    <tr>\n",
       "      <th>128187</th>\n",
       "      <td>017320000182000006_1</td>\n",
       "      <td>289</td>\n",
       "    </tr>\n",
       "    <tr>\n",
       "      <th>128184</th>\n",
       "      <td>017320000181900072_1</td>\n",
       "      <td>249</td>\n",
       "    </tr>\n",
       "    <tr>\n",
       "      <th>1222481</th>\n",
       "      <td>COM02122000070_1</td>\n",
       "      <td>115</td>\n",
       "    </tr>\n",
       "    <tr>\n",
       "      <th>1222491</th>\n",
       "      <td>COM02122000135_1</td>\n",
       "      <td>109</td>\n",
       "    </tr>\n",
       "    <tr>\n",
       "      <th>405136</th>\n",
       "      <td>0373200041520000002_</td>\n",
       "      <td>103</td>\n",
       "    </tr>\n",
       "    <tr>\n",
       "      <th>...</th>\n",
       "      <td>...</td>\n",
       "      <td>...</td>\n",
       "    </tr>\n",
       "    <tr>\n",
       "      <th>589379</th>\n",
       "      <td>1730201464421000004</td>\n",
       "      <td>1</td>\n",
       "    </tr>\n",
       "    <tr>\n",
       "      <th>589380</th>\n",
       "      <td>1730201464421000012</td>\n",
       "      <td>1</td>\n",
       "    </tr>\n",
       "    <tr>\n",
       "      <th>589381</th>\n",
       "      <td>1730201465119000011</td>\n",
       "      <td>1</td>\n",
       "    </tr>\n",
       "    <tr>\n",
       "      <th>589382</th>\n",
       "      <td>1730201465119000019</td>\n",
       "      <td>1</td>\n",
       "    </tr>\n",
       "    <tr>\n",
       "      <th>1227713</th>\n",
       "      <td>VTB26082100002_1</td>\n",
       "      <td>1</td>\n",
       "    </tr>\n",
       "  </tbody>\n",
       "</table>\n",
       "<p>1227714 rows × 2 columns</p>\n",
       "</div>"
      ],
      "text/plain": [
       "                       pn_lot  participant_inn_kpp\n",
       "128187   017320000182000006_1                  289\n",
       "128184   017320000181900072_1                  249\n",
       "1222481      COM02122000070_1                  115\n",
       "1222491      COM02122000135_1                  109\n",
       "405136   0373200041520000002_                  103\n",
       "...                       ...                  ...\n",
       "589379    1730201464421000004                    1\n",
       "589380    1730201464421000012                    1\n",
       "589381    1730201465119000011                    1\n",
       "589382    1730201465119000019                    1\n",
       "1227713      VTB26082100002_1                    1\n",
       "\n",
       "[1227714 rows x 2 columns]"
      ]
     },
     "execution_count": 170,
     "metadata": {},
     "output_type": "execute_result"
    }
   ],
   "source": [
    "data.groupby('pn_lot').agg({\"participant_inn_kpp\":\"count\"}).reset_index().sort_values('participant_inn_kpp', ascending=False)"
   ]
  },
  {
   "cell_type": "code",
   "execution_count": 171,
   "metadata": {
    "colab": {
     "base_uri": "https://localhost:8080/",
     "height": 424
    },
    "executionInfo": {
     "elapsed": 1967,
     "status": "ok",
     "timestamp": 1668173338111,
     "user": {
      "displayName": "Дмитрий Савелко",
      "userId": "00857664281999640493"
     },
     "user_tz": -180
    },
    "id": "ITDKV4oL4MQc",
    "outputId": "b8b7d361-c49a-413e-a719-bccc78d29e9f"
   },
   "outputs": [
    {
     "data": {
      "text/html": [
       "<div>\n",
       "<style scoped>\n",
       "    .dataframe tbody tr th:only-of-type {\n",
       "        vertical-align: middle;\n",
       "    }\n",
       "\n",
       "    .dataframe tbody tr th {\n",
       "        vertical-align: top;\n",
       "    }\n",
       "\n",
       "    .dataframe thead th {\n",
       "        text-align: right;\n",
       "    }\n",
       "</style>\n",
       "<table border=\"1\" class=\"dataframe\">\n",
       "  <thead>\n",
       "    <tr style=\"text-align: right;\">\n",
       "      <th></th>\n",
       "      <th>pn_lot</th>\n",
       "      <th>participant_inn_kpp</th>\n",
       "    </tr>\n",
       "  </thead>\n",
       "  <tbody>\n",
       "    <tr>\n",
       "      <th>616169</th>\n",
       "      <td>2575201959020000006</td>\n",
       "      <td>51</td>\n",
       "    </tr>\n",
       "    <tr>\n",
       "      <th>616171</th>\n",
       "      <td>2575201959021000002</td>\n",
       "      <td>36</td>\n",
       "    </tr>\n",
       "    <tr>\n",
       "      <th>851466</th>\n",
       "      <td>32110576075_1</td>\n",
       "      <td>19</td>\n",
       "    </tr>\n",
       "    <tr>\n",
       "      <th>851768</th>\n",
       "      <td>32110589492_1</td>\n",
       "      <td>18</td>\n",
       "    </tr>\n",
       "    <tr>\n",
       "      <th>842477</th>\n",
       "      <td>32110181948_1</td>\n",
       "      <td>16</td>\n",
       "    </tr>\n",
       "    <tr>\n",
       "      <th>...</th>\n",
       "      <td>...</td>\n",
       "      <td>...</td>\n",
       "    </tr>\n",
       "    <tr>\n",
       "      <th>345905</th>\n",
       "      <td>1026400520219000016</td>\n",
       "      <td>1</td>\n",
       "    </tr>\n",
       "    <tr>\n",
       "      <th>345906</th>\n",
       "      <td>1026400520220000012</td>\n",
       "      <td>1</td>\n",
       "    </tr>\n",
       "    <tr>\n",
       "      <th>345907</th>\n",
       "      <td>1026400520221000008</td>\n",
       "      <td>1</td>\n",
       "    </tr>\n",
       "    <tr>\n",
       "      <th>345908</th>\n",
       "      <td>1026400520221000012</td>\n",
       "      <td>1</td>\n",
       "    </tr>\n",
       "    <tr>\n",
       "      <th>1030071</th>\n",
       "      <td>RT31121900003_1</td>\n",
       "      <td>1</td>\n",
       "    </tr>\n",
       "  </tbody>\n",
       "</table>\n",
       "<p>1030072 rows × 2 columns</p>\n",
       "</div>"
      ],
      "text/plain": [
       "                      pn_lot  participant_inn_kpp\n",
       "616169   2575201959020000006                   51\n",
       "616171   2575201959021000002                   36\n",
       "851466         32110576075_1                   19\n",
       "851768         32110589492_1                   18\n",
       "842477         32110181948_1                   16\n",
       "...                      ...                  ...\n",
       "345905   1026400520219000016                    1\n",
       "345906   1026400520220000012                    1\n",
       "345907   1026400520221000008                    1\n",
       "345908   1026400520221000012                    1\n",
       "1030071      RT31121900003_1                    1\n",
       "\n",
       "[1030072 rows x 2 columns]"
      ]
     },
     "execution_count": 171,
     "metadata": {},
     "output_type": "execute_result"
    }
   ],
   "source": [
    "data[data['is_winner'] == 1].groupby('pn_lot').agg({\"participant_inn_kpp\":\"count\"}).reset_index().sort_values('participant_inn_kpp', ascending=False)"
   ]
  },
  {
   "cell_type": "code",
   "execution_count": 337,
   "metadata": {
    "scrolled": true
   },
   "outputs": [
    {
     "data": {
      "text/plain": [
       "1.69828886601618"
      ]
     },
     "execution_count": 337,
     "metadata": {},
     "output_type": "execute_result"
    }
   ],
   "source": [
    "sum(data.groupby('pn_lot').agg({\"participant_inn_kpp\":\"count\"})['participant_inn_kpp'])/len(pd.unique(data['pn_lot']))"
   ]
  },
  {
   "cell_type": "code",
   "execution_count": 123,
   "metadata": {
    "colab": {
     "base_uri": "https://localhost:8080/",
     "height": 552
    },
    "executionInfo": {
     "elapsed": 954,
     "status": "ok",
     "timestamp": 1668172798667,
     "user": {
      "displayName": "Дмитрий Савелко",
      "userId": "00857664281999640493"
     },
     "user_tz": -180
    },
    "id": "VZZEdqdi-2mF",
    "outputId": "5cc72fc1-0f12-4997-b781-0c56bc12dd49"
   },
   "outputs": [
    {
     "data": {
      "image/png": "[encoded data removed]",
      "text/plain": [
       "<Figure size 1152x648 with 1 Axes>"
      ]
     },
     "metadata": {
      "needs_background": "light"
     },
     "output_type": "display_data"
    }
   ],
   "source": [
    "sns.histplot(data=data.sample(n=100000), x=\"is_winner\")\n",
    "plt.show()"
   ]
  },
  {
   "cell_type": "code",
   "execution_count": 81,
   "metadata": {
    "scrolled": true
   },
   "outputs": [
    {
     "data": {
      "text/html": [
       "<div>\n",
       "<style scoped>\n",
       "    .dataframe tbody tr th:only-of-type {\n",
       "        vertical-align: middle;\n",
       "    }\n",
       "\n",
       "    .dataframe tbody tr th {\n",
       "        vertical-align: top;\n",
       "    }\n",
       "\n",
       "    .dataframe thead th {\n",
       "        text-align: right;\n",
       "    }\n",
       "</style>\n",
       "<table border=\"1\" class=\"dataframe\">\n",
       "  <thead>\n",
       "    <tr style=\"text-align: right;\">\n",
       "      <th></th>\n",
       "      <th>pn_lot</th>\n",
       "      <th>region_code</th>\n",
       "      <th>etp</th>\n",
       "      <th>purchase_name</th>\n",
       "      <th>lot_name</th>\n",
       "      <th>forsmallbiz</th>\n",
       "      <th>lot_price</th>\n",
       "      <th>procedure_price</th>\n",
       "      <th>customer_inn_kpp</th>\n",
       "      <th>okpd2_code</th>\n",
       "      <th>item_descriptions</th>\n",
       "      <th>participant_inn_kpp</th>\n",
       "      <th>is_winner</th>\n",
       "      <th>fz_y</th>\n",
       "      <th>year</th>\n",
       "      <th>month</th>\n",
       "      <th>day</th>\n",
       "    </tr>\n",
       "  </thead>\n",
       "  <tbody>\n",
       "    <tr>\n",
       "      <th>0</th>\n",
       "      <td>0358300383019000002_</td>\n",
       "      <td>61</td>\n",
       "      <td>None</td>\n",
       "      <td>Услуги по распределению электроэнергии</td>\n",
       "      <td>NaN</td>\n",
       "      <td>False</td>\n",
       "      <td>557400.00</td>\n",
       "      <td>557400.00</td>\n",
       "      <td>6166036404_616601001</td>\n",
       "      <td>35.1</td>\n",
       "      <td>Услуги по распределению электроэнергии</td>\n",
       "      <td>5fc832b95256e92ae0d600f17d01c481f4f042b9ac089c...</td>\n",
       "      <td>1</td>\n",
       "      <td>44fz</td>\n",
       "      <td>2019</td>\n",
       "      <td>1</td>\n",
       "      <td>5</td>\n",
       "    </tr>\n",
       "    <tr>\n",
       "      <th>1</th>\n",
       "      <td>0358300105819000002_</td>\n",
       "      <td>61</td>\n",
       "      <td>None</td>\n",
       "      <td>Услуги электроэнергии</td>\n",
       "      <td>NaN</td>\n",
       "      <td>False</td>\n",
       "      <td>1044500.00</td>\n",
       "      <td>1044500.00</td>\n",
       "      <td>6166018660_616601001</td>\n",
       "      <td>35.1</td>\n",
       "      <td>Услуги по распределению электроэнергии</td>\n",
       "      <td>5fc832b95256e92ae0d600f17d01c481f4f042b9ac089c...</td>\n",
       "      <td>1</td>\n",
       "      <td>44fz</td>\n",
       "      <td>2019</td>\n",
       "      <td>1</td>\n",
       "      <td>5</td>\n",
       "    </tr>\n",
       "    <tr>\n",
       "      <th>2</th>\n",
       "      <td>0337300064319000001_</td>\n",
       "      <td>40</td>\n",
       "      <td>None</td>\n",
       "      <td>Энергия тепловая, отпущенная котельными  Энерг...</td>\n",
       "      <td>NaN</td>\n",
       "      <td>False</td>\n",
       "      <td>1197520.93</td>\n",
       "      <td>1197520.93</td>\n",
       "      <td>4011008714_401101001</td>\n",
       "      <td>35.3</td>\n",
       "      <td>Энергия тепловая, отпущенная котельными</td>\n",
       "      <td>13f11e252917fe1192e841d121017bb01bf96562121928...</td>\n",
       "      <td>1</td>\n",
       "      <td>44fz</td>\n",
       "      <td>2019</td>\n",
       "      <td>1</td>\n",
       "      <td>5</td>\n",
       "    </tr>\n",
       "    <tr>\n",
       "      <th>3</th>\n",
       "      <td>0337300080319000005_</td>\n",
       "      <td>40</td>\n",
       "      <td>None</td>\n",
       "      <td>Услуги по утилизации неопасных отходов прочие</td>\n",
       "      <td>NaN</td>\n",
       "      <td>False</td>\n",
       "      <td>15896.00</td>\n",
       "      <td>15896.00</td>\n",
       "      <td>4011006001_401101001</td>\n",
       "      <td>38.2</td>\n",
       "      <td>Услуги по утилизации неопасных отходов прочие</td>\n",
       "      <td>4252e397f2873e77040e5bacef5bb98865547e8f4c9ff5...</td>\n",
       "      <td>1</td>\n",
       "      <td>44fz</td>\n",
       "      <td>2019</td>\n",
       "      <td>1</td>\n",
       "      <td>5</td>\n",
       "    </tr>\n",
       "    <tr>\n",
       "      <th>4</th>\n",
       "      <td>0318300386219000003_</td>\n",
       "      <td>23</td>\n",
       "      <td>None</td>\n",
       "      <td>Услуги фиксированной телефонной связи - предос...</td>\n",
       "      <td>NaN</td>\n",
       "      <td>False</td>\n",
       "      <td>23000.00</td>\n",
       "      <td>23000.00</td>\n",
       "      <td>2301036798_230101001</td>\n",
       "      <td>61.1</td>\n",
       "      <td>Услуги фиксированной телефонной связи - предос...</td>\n",
       "      <td>7365927b63a0fba969ca42388142943f0d4a40dc8440a5...</td>\n",
       "      <td>1</td>\n",
       "      <td>44fz</td>\n",
       "      <td>2019</td>\n",
       "      <td>1</td>\n",
       "      <td>5</td>\n",
       "    </tr>\n",
       "    <tr>\n",
       "      <th>...</th>\n",
       "      <td>...</td>\n",
       "      <td>...</td>\n",
       "      <td>...</td>\n",
       "      <td>...</td>\n",
       "      <td>...</td>\n",
       "      <td>...</td>\n",
       "      <td>...</td>\n",
       "      <td>...</td>\n",
       "      <td>...</td>\n",
       "      <td>...</td>\n",
       "      <td>...</td>\n",
       "      <td>...</td>\n",
       "      <td>...</td>\n",
       "      <td>...</td>\n",
       "      <td>...</td>\n",
       "      <td>...</td>\n",
       "      <td>...</td>\n",
       "    </tr>\n",
       "    <tr>\n",
       "      <th>3056269</th>\n",
       "      <td>1230101386422000059</td>\n",
       "      <td>23</td>\n",
       "      <td>44fz_contract_single_supplier</td>\n",
       "      <td>Поставка ламп бактерицидных</td>\n",
       "      <td>Поставка ламп бактерицидных</td>\n",
       "      <td>False</td>\n",
       "      <td>56122.97</td>\n",
       "      <td>56122.97</td>\n",
       "      <td>2301013864_230101001</td>\n",
       "      <td>27.4</td>\n",
       "      <td>Лампа медицинская бактерицидная ультрафиолетов...</td>\n",
       "      <td>bc804074408b873a9fb0aba93ffc2c523d7a1931e8d409...</td>\n",
       "      <td>1</td>\n",
       "      <td>44fz</td>\n",
       "      <td>2022</td>\n",
       "      <td>7</td>\n",
       "      <td>1</td>\n",
       "    </tr>\n",
       "    <tr>\n",
       "      <th>3056270</th>\n",
       "      <td>3270480083222000017</td>\n",
       "      <td>27</td>\n",
       "      <td>44fz_contract_single_supplier</td>\n",
       "      <td>Поставка услуг электроэнергии на третий кварта...</td>\n",
       "      <td>Поставка услуг электроэнергии на третий кварта...</td>\n",
       "      <td>False</td>\n",
       "      <td>450000.00</td>\n",
       "      <td>450000.00</td>\n",
       "      <td>2704800832_270401001</td>\n",
       "      <td>35.1</td>\n",
       "      <td>Услуги по передаче электроэнергии</td>\n",
       "      <td>f393e972b62c8bec56602a5126a37616cf6111eabf49e1...</td>\n",
       "      <td>1</td>\n",
       "      <td>44fz</td>\n",
       "      <td>2022</td>\n",
       "      <td>7</td>\n",
       "      <td>1</td>\n",
       "    </tr>\n",
       "    <tr>\n",
       "      <th>3056271</th>\n",
       "      <td>2233201527622000033</td>\n",
       "      <td>23</td>\n",
       "      <td>44fz_contract_single_supplier</td>\n",
       "      <td>Поставка принтеров</td>\n",
       "      <td>Поставка принтеров</td>\n",
       "      <td>True</td>\n",
       "      <td>486295.50</td>\n",
       "      <td>486295.50</td>\n",
       "      <td>2332015276_236401001</td>\n",
       "      <td>26.2</td>\n",
       "      <td>Принтер</td>\n",
       "      <td>e0f7fb17cc63041326baf49be1b93b6d78e998cdc096a3...</td>\n",
       "      <td>1</td>\n",
       "      <td>44fz</td>\n",
       "      <td>2022</td>\n",
       "      <td>7</td>\n",
       "      <td>1</td>\n",
       "    </tr>\n",
       "    <tr>\n",
       "      <th>3056272</th>\n",
       "      <td>2110148713522000261</td>\n",
       "      <td>11</td>\n",
       "      <td>44fz_contract_single_supplier</td>\n",
       "      <td>Поставка продуктов питания в 3 квартале 2022 г...</td>\n",
       "      <td>Поставка продуктов питания в 3 квартале 2022 г...</td>\n",
       "      <td>True</td>\n",
       "      <td>340074.00</td>\n",
       "      <td>340074.00</td>\n",
       "      <td>1101487135_110101001</td>\n",
       "      <td>10.8</td>\n",
       "      <td>Зелень сушеная</td>\n",
       "      <td>c50718b71fbc99d89d66d13c85c49abe4f45c02f5581fb...</td>\n",
       "      <td>1</td>\n",
       "      <td>44fz</td>\n",
       "      <td>2022</td>\n",
       "      <td>7</td>\n",
       "      <td>1</td>\n",
       "    </tr>\n",
       "    <tr>\n",
       "      <th>3056273</th>\n",
       "      <td>2026800398222000017</td>\n",
       "      <td>2</td>\n",
       "      <td>44fz_contract_single_supplier</td>\n",
       "      <td>Поставка продуктов питания (молочная продукция)</td>\n",
       "      <td>Поставка продуктов питания (молочная продукция)</td>\n",
       "      <td>False</td>\n",
       "      <td>774523.43</td>\n",
       "      <td>774523.43</td>\n",
       "      <td>0268003982_026801001</td>\n",
       "      <td>10.5</td>\n",
       "      <td>Кефир || Молоко питьевое</td>\n",
       "      <td>39d45549206d5f38539f27e206ba2f30da725dec48cc59...</td>\n",
       "      <td>1</td>\n",
       "      <td>44fz</td>\n",
       "      <td>2022</td>\n",
       "      <td>7</td>\n",
       "      <td>1</td>\n",
       "    </tr>\n",
       "  </tbody>\n",
       "</table>\n",
       "<p>3056274 rows × 17 columns</p>\n",
       "</div>"
      ],
      "text/plain": [
       "                       pn_lot region_code                            etp  \\\n",
       "0        0358300383019000002_          61                           None   \n",
       "1        0358300105819000002_          61                           None   \n",
       "2        0337300064319000001_          40                           None   \n",
       "3        0337300080319000005_          40                           None   \n",
       "4        0318300386219000003_          23                           None   \n",
       "...                       ...         ...                            ...   \n",
       "3056269   1230101386422000059          23  44fz_contract_single_supplier   \n",
       "3056270   3270480083222000017          27  44fz_contract_single_supplier   \n",
       "3056271   2233201527622000033          23  44fz_contract_single_supplier   \n",
       "3056272   2110148713522000261          11  44fz_contract_single_supplier   \n",
       "3056273   2026800398222000017           2  44fz_contract_single_supplier   \n",
       "\n",
       "                                             purchase_name  \\\n",
       "0                   Услуги по распределению электроэнергии   \n",
       "1                                    Услуги электроэнергии   \n",
       "2        Энергия тепловая, отпущенная котельными  Энерг...   \n",
       "3            Услуги по утилизации неопасных отходов прочие   \n",
       "4        Услуги фиксированной телефонной связи - предос...   \n",
       "...                                                    ...   \n",
       "3056269                        Поставка ламп бактерицидных   \n",
       "3056270  Поставка услуг электроэнергии на третий кварта...   \n",
       "3056271                                 Поставка принтеров   \n",
       "3056272  Поставка продуктов питания в 3 квартале 2022 г...   \n",
       "3056273    Поставка продуктов питания (молочная продукция)   \n",
       "\n",
       "                                                  lot_name  forsmallbiz  \\\n",
       "0                                                      NaN        False   \n",
       "1                                                      NaN        False   \n",
       "2                                                      NaN        False   \n",
       "3                                                      NaN        False   \n",
       "4                                                      NaN        False   \n",
       "...                                                    ...          ...   \n",
       "3056269                        Поставка ламп бактерицидных        False   \n",
       "3056270  Поставка услуг электроэнергии на третий кварта...        False   \n",
       "3056271                                 Поставка принтеров         True   \n",
       "3056272  Поставка продуктов питания в 3 квартале 2022 г...         True   \n",
       "3056273    Поставка продуктов питания (молочная продукция)        False   \n",
       "\n",
       "          lot_price  procedure_price      customer_inn_kpp okpd2_code  \\\n",
       "0         557400.00        557400.00  6166036404_616601001       35.1   \n",
       "1        1044500.00       1044500.00  6166018660_616601001       35.1   \n",
       "2        1197520.93       1197520.93  4011008714_401101001       35.3   \n",
       "3          15896.00         15896.00  4011006001_401101001       38.2   \n",
       "4          23000.00         23000.00  2301036798_230101001       61.1   \n",
       "...             ...              ...                   ...        ...   \n",
       "3056269    56122.97         56122.97  2301013864_230101001       27.4   \n",
       "3056270   450000.00        450000.00  2704800832_270401001       35.1   \n",
       "3056271   486295.50        486295.50  2332015276_236401001       26.2   \n",
       "3056272   340074.00        340074.00  1101487135_110101001       10.8   \n",
       "3056273   774523.43        774523.43  0268003982_026801001       10.5   \n",
       "\n",
       "                                         item_descriptions  \\\n",
       "0                   Услуги по распределению электроэнергии   \n",
       "1                   Услуги по распределению электроэнергии   \n",
       "2                  Энергия тепловая, отпущенная котельными   \n",
       "3            Услуги по утилизации неопасных отходов прочие   \n",
       "4        Услуги фиксированной телефонной связи - предос...   \n",
       "...                                                    ...   \n",
       "3056269  Лампа медицинская бактерицидная ультрафиолетов...   \n",
       "3056270                  Услуги по передаче электроэнергии   \n",
       "3056271                                            Принтер   \n",
       "3056272                                     Зелень сушеная   \n",
       "3056273                           Кефир || Молоко питьевое   \n",
       "\n",
       "                                       participant_inn_kpp  is_winner  fz_y  \\\n",
       "0        5fc832b95256e92ae0d600f17d01c481f4f042b9ac089c...          1  44fz   \n",
       "1        5fc832b95256e92ae0d600f17d01c481f4f042b9ac089c...          1  44fz   \n",
       "2        13f11e252917fe1192e841d121017bb01bf96562121928...          1  44fz   \n",
       "3        4252e397f2873e77040e5bacef5bb98865547e8f4c9ff5...          1  44fz   \n",
       "4        7365927b63a0fba969ca42388142943f0d4a40dc8440a5...          1  44fz   \n",
       "...                                                    ...        ...   ...   \n",
       "3056269  bc804074408b873a9fb0aba93ffc2c523d7a1931e8d409...          1  44fz   \n",
       "3056270  f393e972b62c8bec56602a5126a37616cf6111eabf49e1...          1  44fz   \n",
       "3056271  e0f7fb17cc63041326baf49be1b93b6d78e998cdc096a3...          1  44fz   \n",
       "3056272  c50718b71fbc99d89d66d13c85c49abe4f45c02f5581fb...          1  44fz   \n",
       "3056273  39d45549206d5f38539f27e206ba2f30da725dec48cc59...          1  44fz   \n",
       "\n",
       "         year  month  day  \n",
       "0        2019      1    5  \n",
       "1        2019      1    5  \n",
       "2        2019      1    5  \n",
       "3        2019      1    5  \n",
       "4        2019      1    5  \n",
       "...       ...    ...  ...  \n",
       "3056269  2022      7    1  \n",
       "3056270  2022      7    1  \n",
       "3056271  2022      7    1  \n",
       "3056272  2022      7    1  \n",
       "3056273  2022      7    1  \n",
       "\n",
       "[3056274 rows x 17 columns]"
      ]
     },
     "execution_count": 81,
     "metadata": {},
     "output_type": "execute_result"
    }
   ],
   "source": [
    "data"
   ]
  },
  {
   "cell_type": "code",
   "execution_count": 124,
   "metadata": {
    "colab": {
     "base_uri": "https://localhost:8080/",
     "height": 551
    },
    "executionInfo": {
     "elapsed": 922,
     "status": "ok",
     "timestamp": 1668172807794,
     "user": {
      "displayName": "Дмитрий Савелко",
      "userId": "00857664281999640493"
     },
     "user_tz": -180
    },
    "id": "gWotQtUydWcl",
    "outputId": "8ecc5aab-c6f0-495c-ee3e-d7eb4aba78fc"
   },
   "outputs": [
    {
     "data": {
      "image/png": "[encoded data removed]",
      "text/plain": [
       "<Figure size 1152x648 with 1 Axes>"
      ]
     },
     "metadata": {
      "needs_background": "light"
     },
     "output_type": "display_data"
    }
   ],
   "source": [
    "sns.histplot(data=data.sample(n=100000), x=\"fz\")\n",
    "plt.show()"
   ]
  },
  {
   "cell_type": "code",
   "execution_count": 125,
   "metadata": {},
   "outputs": [
    {
     "data": {
      "image/png": "[encoded data removed]",
      "text/plain": [
       "<Figure size 1152x648 with 1 Axes>"
      ]
     },
     "metadata": {
      "needs_background": "light"
     },
     "output_type": "display_data"
    }
   ],
   "source": [
    "sns.histplot(data=data.sample(n=100000), x=\"etp\")\n",
    "plt.xticks(rotation=45)\n",
    "plt.show()"
   ]
  },
  {
   "cell_type": "markdown",
   "metadata": {},
   "source": [
    "# Обучение модели"
   ]
  },
  {
   "cell_type": "code",
   "execution_count": 313,
   "metadata": {},
   "outputs": [
    {
     "name": "stdout",
     "output_type": "stream",
     "text": [
      "Requirement already satisfied: catboost in d:\\wpy64-3810\\python-3.8.1.amd64\\lib\\site-packages (1.1.1)\n",
      "Requirement already satisfied: plotly in d:\\wpy64-3810\\python-3.8.1.amd64\\lib\\site-packages (from catboost) (5.11.0)\n",
      "Requirement already satisfied: scipy in d:\\wpy64-3810\\python-3.8.1.amd64\\lib\\site-packages (from catboost) (1.5.3)\n",
      "Requirement already satisfied: numpy>=1.16.0 in d:\\wpy64-3810\\python-3.8.1.amd64\\lib\\site-packages (from catboost) (1.23.4)\n",
      "Requirement already satisfied: graphviz in d:\\wpy64-3810\\python-3.8.1.amd64\\lib\\site-packages (from catboost) (0.20.1)\n",
      "Requirement already satisfied: six in d:\\wpy64-3810\\python-3.8.1.amd64\\lib\\site-packages (from catboost) (1.13.0)\n",
      "Requirement already satisfied: pandas>=0.24.0 in d:\\wpy64-3810\\python-3.8.1.amd64\\lib\\site-packages (from catboost) (1.5.1)\n",
      "Requirement already satisfied: matplotlib in d:\\wpy64-3810\\python-3.8.1.amd64\\lib\\site-packages (from catboost) (3.2.0rc2)\n",
      "Requirement already satisfied: python-dateutil>=2.8.1 in d:\\wpy64-3810\\python-3.8.1.amd64\\lib\\site-packages (from pandas>=0.24.0->catboost) (2.8.1)\n",
      "Requirement already satisfied: pytz>=2020.1 in d:\\wpy64-3810\\python-3.8.1.amd64\\lib\\site-packages (from pandas>=0.24.0->catboost) (2022.6)\n",
      "Requirement already satisfied: cycler>=0.10 in d:\\wpy64-3810\\python-3.8.1.amd64\\lib\\site-packages (from matplotlib->catboost) (0.10.0)\n",
      "Requirement already satisfied: pyparsing!=2.0.4,!=2.1.2,!=2.1.6,>=2.0.1 in d:\\wpy64-3810\\python-3.8.1.amd64\\lib\\site-packages (from matplotlib->catboost) (2.4.5)\n",
      "Requirement already satisfied: kiwisolver>=1.0.1 in d:\\wpy64-3810\\python-3.8.1.amd64\\lib\\site-packages (from matplotlib->catboost) (1.1.0)\n",
      "Requirement already satisfied: tenacity>=6.2.0 in d:\\wpy64-3810\\python-3.8.1.amd64\\lib\\site-packages (from plotly->catboost) (8.1.0)\n",
      "Requirement already satisfied: setuptools in d:\\wpy64-3810\\python-3.8.1.amd64\\lib\\site-packages (from kiwisolver>=1.0.1->matplotlib->catboost) (42.0.2)\n"
     ]
    },
    {
     "name": "stderr",
     "output_type": "stream",
     "text": [
      "WARNING: Ignoring invalid distribution -asttext (d:\\wpy64-3810\\python-3.8.1.amd64\\lib\\site-packages)\n",
      "WARNING: Ignoring invalid distribution -asttext (d:\\wpy64-3810\\python-3.8.1.amd64\\lib\\site-packages)\n",
      "WARNING: Ignoring invalid distribution -asttext (d:\\wpy64-3810\\python-3.8.1.amd64\\lib\\site-packages)\n",
      "WARNING: Ignoring invalid distribution -asttext (d:\\wpy64-3810\\python-3.8.1.amd64\\lib\\site-packages)\n",
      "WARNING: Ignoring invalid distribution -asttext (d:\\wpy64-3810\\python-3.8.1.amd64\\lib\\site-packages)\n",
      "WARNING: Ignoring invalid distribution -asttext (d:\\wpy64-3810\\python-3.8.1.amd64\\lib\\site-packages)\n"
     ]
    }
   ],
   "source": [
    "!pip install catboost"
   ]
  },
  {
   "cell_type": "code",
   "execution_count": 43,
   "metadata": {},
   "outputs": [
    {
     "data": {
      "text/html": [
       "<div>\n",
       "<style scoped>\n",
       "    .dataframe tbody tr th:only-of-type {\n",
       "        vertical-align: middle;\n",
       "    }\n",
       "\n",
       "    .dataframe tbody tr th {\n",
       "        vertical-align: top;\n",
       "    }\n",
       "\n",
       "    .dataframe thead th {\n",
       "        text-align: right;\n",
       "    }\n",
       "</style>\n",
       "<table border=\"1\" class=\"dataframe\">\n",
       "  <thead>\n",
       "    <tr style=\"text-align: right;\">\n",
       "      <th></th>\n",
       "      <th></th>\n",
       "      <th>region_code</th>\n",
       "      <th>etp</th>\n",
       "      <th>purchase_name</th>\n",
       "      <th>lot_name</th>\n",
       "      <th>forsmallbiz</th>\n",
       "      <th>lot_price</th>\n",
       "      <th>procedure_price</th>\n",
       "      <th>okpd2_code</th>\n",
       "      <th>item_descriptions</th>\n",
       "      <th>is_winner</th>\n",
       "      <th>fz</th>\n",
       "      <th>year</th>\n",
       "      <th>month</th>\n",
       "      <th>day</th>\n",
       "    </tr>\n",
       "    <tr>\n",
       "      <th>participant_inn_kpp</th>\n",
       "      <th>pn_lot</th>\n",
       "      <th></th>\n",
       "      <th></th>\n",
       "      <th></th>\n",
       "      <th></th>\n",
       "      <th></th>\n",
       "      <th></th>\n",
       "      <th></th>\n",
       "      <th></th>\n",
       "      <th></th>\n",
       "      <th></th>\n",
       "      <th></th>\n",
       "      <th></th>\n",
       "      <th></th>\n",
       "      <th></th>\n",
       "    </tr>\n",
       "  </thead>\n",
       "  <tbody>\n",
       "    <tr>\n",
       "      <th>249099b43f22089c6b558e20c4132aa18ef2b23d9d9875e6ab86e756eb59ff22</th>\n",
       "      <th>0358300383019000001_</th>\n",
       "      <td>61</td>\n",
       "      <td>None</td>\n",
       "      <td>Услуги водоснабжения, водоотведения</td>\n",
       "      <td>NaN</td>\n",
       "      <td>False</td>\n",
       "      <td>183500.00</td>\n",
       "      <td>0.0</td>\n",
       "      <td>36.0</td>\n",
       "      <td>Услуги по торговле водой, поставляемой по труб...</td>\n",
       "      <td>1</td>\n",
       "      <td>44fz</td>\n",
       "      <td>2019</td>\n",
       "      <td>1</td>\n",
       "      <td>5</td>\n",
       "    </tr>\n",
       "    <tr>\n",
       "      <th>e314d2f5008508d85e9d6f159345f84b5a9067c084bceec6bcd0454e74a76573</th>\n",
       "      <th>3523500497219000001</th>\n",
       "      <td>52</td>\n",
       "      <td>44fz_contract_single_supplier</td>\n",
       "      <td>NaN</td>\n",
       "      <td>NaN</td>\n",
       "      <td>False</td>\n",
       "      <td>203217.34</td>\n",
       "      <td>0.0</td>\n",
       "      <td>46.1</td>\n",
       "      <td>В соответствии с документацией</td>\n",
       "      <td>1</td>\n",
       "      <td>44fz</td>\n",
       "      <td>2019</td>\n",
       "      <td>1</td>\n",
       "      <td>6</td>\n",
       "    </tr>\n",
       "    <tr>\n",
       "      <th>42f37f6f1aceec2790f1a3c05e29838c15c219658da3faf5fb19f6f6a0c89104</th>\n",
       "      <th>0322300102219000003_</th>\n",
       "      <td>27</td>\n",
       "      <td>None</td>\n",
       "      <td>Услуги по поставке холодного водоснабжения</td>\n",
       "      <td>NaN</td>\n",
       "      <td>False</td>\n",
       "      <td>65000.00</td>\n",
       "      <td>0.0</td>\n",
       "      <td>36.0</td>\n",
       "      <td>Услуги по поставке холодного водоснабжения</td>\n",
       "      <td>1</td>\n",
       "      <td>44fz</td>\n",
       "      <td>2019</td>\n",
       "      <td>1</td>\n",
       "      <td>6</td>\n",
       "    </tr>\n",
       "    <tr>\n",
       "      <th>38c0a81b3d051cab277d12c8310b3f52dc65bc9cecb85d2bb0dd306c71d1b030</th>\n",
       "      <th>0337300093319000002_</th>\n",
       "      <td>40</td>\n",
       "      <td>None</td>\n",
       "      <td>Энергия тепловая, отпущенная котельными</td>\n",
       "      <td>NaN</td>\n",
       "      <td>False</td>\n",
       "      <td>1476269.61</td>\n",
       "      <td>0.0</td>\n",
       "      <td>35.3</td>\n",
       "      <td>Энергия тепловая, отпущенная котельными</td>\n",
       "      <td>1</td>\n",
       "      <td>44fz</td>\n",
       "      <td>2019</td>\n",
       "      <td>1</td>\n",
       "      <td>6</td>\n",
       "    </tr>\n",
       "    <tr>\n",
       "      <th>9ae86184cf4616716999e578788e3f35a04b4994c5571e9599aaff46c9e7b3bc</th>\n",
       "      <th>0318300183819000001_</th>\n",
       "      <td>23</td>\n",
       "      <td>None</td>\n",
       "      <td>поставка природного газа</td>\n",
       "      <td>NaN</td>\n",
       "      <td>False</td>\n",
       "      <td>274754.01</td>\n",
       "      <td>0.0</td>\n",
       "      <td>35.2</td>\n",
       "      <td>Услуги по продаже потребителям газа, подаваемо...</td>\n",
       "      <td>1</td>\n",
       "      <td>44fz</td>\n",
       "      <td>2019</td>\n",
       "      <td>1</td>\n",
       "      <td>6</td>\n",
       "    </tr>\n",
       "  </tbody>\n",
       "</table>\n",
       "</div>"
      ],
      "text/plain": [
       "                                                                         region_code  \\\n",
       "participant_inn_kpp                                pn_lot                              \n",
       "249099b43f22089c6b558e20c4132aa18ef2b23d9d9875e... 0358300383019000001_           61   \n",
       "e314d2f5008508d85e9d6f159345f84b5a9067c084bceec... 3523500497219000001            52   \n",
       "42f37f6f1aceec2790f1a3c05e29838c15c219658da3faf... 0322300102219000003_           27   \n",
       "38c0a81b3d051cab277d12c8310b3f52dc65bc9cecb85d2... 0337300093319000002_           40   \n",
       "9ae86184cf4616716999e578788e3f35a04b4994c5571e9... 0318300183819000001_           23   \n",
       "\n",
       "                                                                                                   etp  \\\n",
       "participant_inn_kpp                                pn_lot                                                \n",
       "249099b43f22089c6b558e20c4132aa18ef2b23d9d9875e... 0358300383019000001_                           None   \n",
       "e314d2f5008508d85e9d6f159345f84b5a9067c084bceec... 3523500497219000001   44fz_contract_single_supplier   \n",
       "42f37f6f1aceec2790f1a3c05e29838c15c219658da3faf... 0322300102219000003_                           None   \n",
       "38c0a81b3d051cab277d12c8310b3f52dc65bc9cecb85d2... 0337300093319000002_                           None   \n",
       "9ae86184cf4616716999e578788e3f35a04b4994c5571e9... 0318300183819000001_                           None   \n",
       "\n",
       "                                                                                                      purchase_name  \\\n",
       "participant_inn_kpp                                pn_lot                                                             \n",
       "249099b43f22089c6b558e20c4132aa18ef2b23d9d9875e... 0358300383019000001_         Услуги водоснабжения, водоотведения   \n",
       "e314d2f5008508d85e9d6f159345f84b5a9067c084bceec... 3523500497219000001                                          NaN   \n",
       "42f37f6f1aceec2790f1a3c05e29838c15c219658da3faf... 0322300102219000003_  Услуги по поставке холодного водоснабжения   \n",
       "38c0a81b3d051cab277d12c8310b3f52dc65bc9cecb85d2... 0337300093319000002_     Энергия тепловая, отпущенная котельными   \n",
       "9ae86184cf4616716999e578788e3f35a04b4994c5571e9... 0318300183819000001_                    поставка природного газа   \n",
       "\n",
       "                                                                        lot_name  \\\n",
       "participant_inn_kpp                                pn_lot                          \n",
       "249099b43f22089c6b558e20c4132aa18ef2b23d9d9875e... 0358300383019000001_      NaN   \n",
       "e314d2f5008508d85e9d6f159345f84b5a9067c084bceec... 3523500497219000001       NaN   \n",
       "42f37f6f1aceec2790f1a3c05e29838c15c219658da3faf... 0322300102219000003_      NaN   \n",
       "38c0a81b3d051cab277d12c8310b3f52dc65bc9cecb85d2... 0337300093319000002_      NaN   \n",
       "9ae86184cf4616716999e578788e3f35a04b4994c5571e9... 0318300183819000001_      NaN   \n",
       "\n",
       "                                                                         forsmallbiz  \\\n",
       "participant_inn_kpp                                pn_lot                              \n",
       "249099b43f22089c6b558e20c4132aa18ef2b23d9d9875e... 0358300383019000001_        False   \n",
       "e314d2f5008508d85e9d6f159345f84b5a9067c084bceec... 3523500497219000001         False   \n",
       "42f37f6f1aceec2790f1a3c05e29838c15c219658da3faf... 0322300102219000003_        False   \n",
       "38c0a81b3d051cab277d12c8310b3f52dc65bc9cecb85d2... 0337300093319000002_        False   \n",
       "9ae86184cf4616716999e578788e3f35a04b4994c5571e9... 0318300183819000001_        False   \n",
       "\n",
       "                                                                          lot_price  \\\n",
       "participant_inn_kpp                                pn_lot                             \n",
       "249099b43f22089c6b558e20c4132aa18ef2b23d9d9875e... 0358300383019000001_   183500.00   \n",
       "e314d2f5008508d85e9d6f159345f84b5a9067c084bceec... 3523500497219000001    203217.34   \n",
       "42f37f6f1aceec2790f1a3c05e29838c15c219658da3faf... 0322300102219000003_    65000.00   \n",
       "38c0a81b3d051cab277d12c8310b3f52dc65bc9cecb85d2... 0337300093319000002_  1476269.61   \n",
       "9ae86184cf4616716999e578788e3f35a04b4994c5571e9... 0318300183819000001_   274754.01   \n",
       "\n",
       "                                                                         procedure_price  \\\n",
       "participant_inn_kpp                                pn_lot                                  \n",
       "249099b43f22089c6b558e20c4132aa18ef2b23d9d9875e... 0358300383019000001_              0.0   \n",
       "e314d2f5008508d85e9d6f159345f84b5a9067c084bceec... 3523500497219000001               0.0   \n",
       "42f37f6f1aceec2790f1a3c05e29838c15c219658da3faf... 0322300102219000003_              0.0   \n",
       "38c0a81b3d051cab277d12c8310b3f52dc65bc9cecb85d2... 0337300093319000002_              0.0   \n",
       "9ae86184cf4616716999e578788e3f35a04b4994c5571e9... 0318300183819000001_              0.0   \n",
       "\n",
       "                                                                        okpd2_code  \\\n",
       "participant_inn_kpp                                pn_lot                            \n",
       "249099b43f22089c6b558e20c4132aa18ef2b23d9d9875e... 0358300383019000001_       36.0   \n",
       "e314d2f5008508d85e9d6f159345f84b5a9067c084bceec... 3523500497219000001        46.1   \n",
       "42f37f6f1aceec2790f1a3c05e29838c15c219658da3faf... 0322300102219000003_       36.0   \n",
       "38c0a81b3d051cab277d12c8310b3f52dc65bc9cecb85d2... 0337300093319000002_       35.3   \n",
       "9ae86184cf4616716999e578788e3f35a04b4994c5571e9... 0318300183819000001_       35.2   \n",
       "\n",
       "                                                                                                         item_descriptions  \\\n",
       "participant_inn_kpp                                pn_lot                                                                    \n",
       "249099b43f22089c6b558e20c4132aa18ef2b23d9d9875e... 0358300383019000001_  Услуги по торговле водой, поставляемой по труб...   \n",
       "e314d2f5008508d85e9d6f159345f84b5a9067c084bceec... 3523500497219000001                      В соответствии с документацией   \n",
       "42f37f6f1aceec2790f1a3c05e29838c15c219658da3faf... 0322300102219000003_         Услуги по поставке холодного водоснабжения   \n",
       "38c0a81b3d051cab277d12c8310b3f52dc65bc9cecb85d2... 0337300093319000002_            Энергия тепловая, отпущенная котельными   \n",
       "9ae86184cf4616716999e578788e3f35a04b4994c5571e9... 0318300183819000001_  Услуги по продаже потребителям газа, подаваемо...   \n",
       "\n",
       "                                                                         is_winner  \\\n",
       "participant_inn_kpp                                pn_lot                            \n",
       "249099b43f22089c6b558e20c4132aa18ef2b23d9d9875e... 0358300383019000001_          1   \n",
       "e314d2f5008508d85e9d6f159345f84b5a9067c084bceec... 3523500497219000001           1   \n",
       "42f37f6f1aceec2790f1a3c05e29838c15c219658da3faf... 0322300102219000003_          1   \n",
       "38c0a81b3d051cab277d12c8310b3f52dc65bc9cecb85d2... 0337300093319000002_          1   \n",
       "9ae86184cf4616716999e578788e3f35a04b4994c5571e9... 0318300183819000001_          1   \n",
       "\n",
       "                                                                           fz  \\\n",
       "participant_inn_kpp                                pn_lot                       \n",
       "249099b43f22089c6b558e20c4132aa18ef2b23d9d9875e... 0358300383019000001_  44fz   \n",
       "e314d2f5008508d85e9d6f159345f84b5a9067c084bceec... 3523500497219000001   44fz   \n",
       "42f37f6f1aceec2790f1a3c05e29838c15c219658da3faf... 0322300102219000003_  44fz   \n",
       "38c0a81b3d051cab277d12c8310b3f52dc65bc9cecb85d2... 0337300093319000002_  44fz   \n",
       "9ae86184cf4616716999e578788e3f35a04b4994c5571e9... 0318300183819000001_  44fz   \n",
       "\n",
       "                                                                         year  \\\n",
       "participant_inn_kpp                                pn_lot                       \n",
       "249099b43f22089c6b558e20c4132aa18ef2b23d9d9875e... 0358300383019000001_  2019   \n",
       "e314d2f5008508d85e9d6f159345f84b5a9067c084bceec... 3523500497219000001   2019   \n",
       "42f37f6f1aceec2790f1a3c05e29838c15c219658da3faf... 0322300102219000003_  2019   \n",
       "38c0a81b3d051cab277d12c8310b3f52dc65bc9cecb85d2... 0337300093319000002_  2019   \n",
       "9ae86184cf4616716999e578788e3f35a04b4994c5571e9... 0318300183819000001_  2019   \n",
       "\n",
       "                                                                         month  \\\n",
       "participant_inn_kpp                                pn_lot                        \n",
       "249099b43f22089c6b558e20c4132aa18ef2b23d9d9875e... 0358300383019000001_      1   \n",
       "e314d2f5008508d85e9d6f159345f84b5a9067c084bceec... 3523500497219000001       1   \n",
       "42f37f6f1aceec2790f1a3c05e29838c15c219658da3faf... 0322300102219000003_      1   \n",
       "38c0a81b3d051cab277d12c8310b3f52dc65bc9cecb85d2... 0337300093319000002_      1   \n",
       "9ae86184cf4616716999e578788e3f35a04b4994c5571e9... 0318300183819000001_      1   \n",
       "\n",
       "                                                                         day  \n",
       "participant_inn_kpp                                pn_lot                     \n",
       "249099b43f22089c6b558e20c4132aa18ef2b23d9d9875e... 0358300383019000001_    5  \n",
       "e314d2f5008508d85e9d6f159345f84b5a9067c084bceec... 3523500497219000001     6  \n",
       "42f37f6f1aceec2790f1a3c05e29838c15c219658da3faf... 0322300102219000003_    6  \n",
       "38c0a81b3d051cab277d12c8310b3f52dc65bc9cecb85d2... 0337300093319000002_    6  \n",
       "9ae86184cf4616716999e578788e3f35a04b4994c5571e9... 0318300183819000001_    6  "
      ]
     },
     "execution_count": 43,
     "metadata": {},
     "output_type": "execute_result"
    }
   ],
   "source": [
    "data_index.head()"
   ]
  },
  {
   "cell_type": "code",
   "execution_count": 44,
   "metadata": {},
   "outputs": [],
   "source": [
    "X = data_index.drop(['purchase_name', 'lot_name', 'item_descriptions', 'is_winner'], axis=1)\n",
    "y = data_index['is_winner'].values"
   ]
  },
  {
   "cell_type": "markdown",
   "metadata": {},
   "source": [
    "Разобъём датасет по дате. Так как датасет отсортирован по дате, то просто возьмём от него доли"
   ]
  },
  {
   "cell_type": "code",
   "execution_count": 45,
   "metadata": {},
   "outputs": [],
   "source": [
    "share = 0.8\n",
    "size = data.shape[0]\n",
    "X_train, X_test = X.iloc[:int(size*share)], X.iloc[-int(size*(1-share)):]\n",
    "y_train, y_test = y[:int(size*share)], y[-int(size*(1-share)):]"
   ]
  },
  {
   "cell_type": "code",
   "execution_count": 46,
   "metadata": {},
   "outputs": [],
   "source": [
    "object_cols = ['region_code', 'etp', 'forsmallbiz', 'okpd2_code', 'fz', 'year', 'month', 'day']"
   ]
  },
  {
   "cell_type": "code",
   "execution_count": 47,
   "metadata": {},
   "outputs": [],
   "source": [
    "from catboost import CatBoostClassifier\n",
    "\n",
    "catboost = CatBoostClassifier(iterations = 500,\n",
    "                             learning_rate = 0.3,\n",
    "                             depth = 3,\n",
    "                             cat_features=object_cols)"
   ]
  },
  {
   "cell_type": "code",
   "execution_count": 48,
   "metadata": {
    "scrolled": true
   },
   "outputs": [
    {
     "name": "stdout",
     "output_type": "stream",
     "text": [
      "0:\tlearn: 0.4724788\ttotal: 771ms\tremaining: 6m 24s\n",
      "1:\tlearn: 0.4334294\ttotal: 1.1s\tremaining: 4m 33s\n",
      "2:\tlearn: 0.4153476\ttotal: 1.61s\tremaining: 4m 26s\n",
      "3:\tlearn: 0.4057918\ttotal: 2.09s\tremaining: 4m 18s\n",
      "4:\tlearn: 0.4004973\ttotal: 2.5s\tremaining: 4m 7s\n",
      "5:\tlearn: 0.3976445\ttotal: 2.82s\tremaining: 3m 52s\n",
      "6:\tlearn: 0.3956805\ttotal: 3.24s\tremaining: 3m 48s\n",
      "7:\tlearn: 0.3945147\ttotal: 3.73s\tremaining: 3m 49s\n",
      "8:\tlearn: 0.3933466\ttotal: 4.06s\tremaining: 3m 41s\n",
      "9:\tlearn: 0.3924896\ttotal: 4.55s\tremaining: 3m 42s\n",
      "10:\tlearn: 0.3901266\ttotal: 5.08s\tremaining: 3m 45s\n",
      "11:\tlearn: 0.3891088\ttotal: 5.55s\tremaining: 3m 45s\n",
      "12:\tlearn: 0.3884748\ttotal: 6.06s\tremaining: 3m 46s\n",
      "13:\tlearn: 0.3876287\ttotal: 6.41s\tremaining: 3m 42s\n",
      "14:\tlearn: 0.3871944\ttotal: 6.81s\tremaining: 3m 40s\n",
      "15:\tlearn: 0.3869648\ttotal: 7.28s\tremaining: 3m 40s\n",
      "16:\tlearn: 0.3852580\ttotal: 7.68s\tremaining: 3m 38s\n",
      "17:\tlearn: 0.3850291\ttotal: 8.08s\tremaining: 3m 36s\n",
      "18:\tlearn: 0.3843417\ttotal: 8.49s\tremaining: 3m 34s\n",
      "19:\tlearn: 0.3834388\ttotal: 8.99s\tremaining: 3m 35s\n",
      "20:\tlearn: 0.3830610\ttotal: 9.41s\tremaining: 3m 34s\n",
      "21:\tlearn: 0.3824326\ttotal: 9.7s\tremaining: 3m 30s\n",
      "22:\tlearn: 0.3822240\ttotal: 10.2s\tremaining: 3m 31s\n",
      "23:\tlearn: 0.3818371\ttotal: 10.6s\tremaining: 3m 30s\n",
      "24:\tlearn: 0.3816409\ttotal: 11.1s\tremaining: 3m 31s\n",
      "25:\tlearn: 0.3812260\ttotal: 11.6s\tremaining: 3m 31s\n",
      "26:\tlearn: 0.3810641\ttotal: 12.1s\tremaining: 3m 31s\n",
      "27:\tlearn: 0.3807818\ttotal: 12.7s\tremaining: 3m 33s\n",
      "28:\tlearn: 0.3804058\ttotal: 13.1s\tremaining: 3m 32s\n",
      "29:\tlearn: 0.3800213\ttotal: 13.5s\tremaining: 3m 30s\n",
      "30:\tlearn: 0.3798535\ttotal: 13.9s\tremaining: 3m 30s\n",
      "31:\tlearn: 0.3796857\ttotal: 14.3s\tremaining: 3m 29s\n",
      "32:\tlearn: 0.3783178\ttotal: 14.7s\tremaining: 3m 28s\n",
      "33:\tlearn: 0.3780234\ttotal: 15.2s\tremaining: 3m 28s\n",
      "34:\tlearn: 0.3778738\ttotal: 15.6s\tremaining: 3m 27s\n",
      "35:\tlearn: 0.3776078\ttotal: 16.1s\tremaining: 3m 27s\n",
      "36:\tlearn: 0.3774627\ttotal: 16.4s\tremaining: 3m 25s\n",
      "37:\tlearn: 0.3772743\ttotal: 16.8s\tremaining: 3m 24s\n",
      "38:\tlearn: 0.3770889\ttotal: 17.2s\tremaining: 3m 23s\n",
      "39:\tlearn: 0.3769619\ttotal: 17.7s\tremaining: 3m 23s\n",
      "40:\tlearn: 0.3768872\ttotal: 18s\tremaining: 3m 21s\n",
      "41:\tlearn: 0.3767779\ttotal: 18.3s\tremaining: 3m 19s\n",
      "42:\tlearn: 0.3766970\ttotal: 18.6s\tremaining: 3m 17s\n",
      "43:\tlearn: 0.3766228\ttotal: 19.1s\tremaining: 3m 17s\n",
      "44:\tlearn: 0.3764869\ttotal: 19.5s\tremaining: 3m 17s\n",
      "45:\tlearn: 0.3763347\ttotal: 20s\tremaining: 3m 17s\n",
      "46:\tlearn: 0.3762173\ttotal: 20.5s\tremaining: 3m 17s\n",
      "47:\tlearn: 0.3761399\ttotal: 21s\tremaining: 3m 17s\n",
      "48:\tlearn: 0.3759939\ttotal: 21.4s\tremaining: 3m 17s\n",
      "49:\tlearn: 0.3757228\ttotal: 21.9s\tremaining: 3m 16s\n",
      "50:\tlearn: 0.3755868\ttotal: 22.3s\tremaining: 3m 16s\n",
      "51:\tlearn: 0.3755003\ttotal: 22.7s\tremaining: 3m 15s\n",
      "52:\tlearn: 0.3753212\ttotal: 23.2s\tremaining: 3m 15s\n",
      "53:\tlearn: 0.3752085\ttotal: 23.6s\tremaining: 3m 15s\n",
      "54:\tlearn: 0.3751392\ttotal: 24s\tremaining: 3m 14s\n",
      "55:\tlearn: 0.3750711\ttotal: 24.5s\tremaining: 3m 14s\n",
      "56:\tlearn: 0.3749895\ttotal: 24.9s\tremaining: 3m 13s\n",
      "57:\tlearn: 0.3739907\ttotal: 25.4s\tremaining: 3m 13s\n",
      "58:\tlearn: 0.3738903\ttotal: 25.7s\tremaining: 3m 12s\n",
      "59:\tlearn: 0.3738284\ttotal: 26.1s\tremaining: 3m 11s\n",
      "60:\tlearn: 0.3737286\ttotal: 26.5s\tremaining: 3m 11s\n",
      "61:\tlearn: 0.3736711\ttotal: 27s\tremaining: 3m 11s\n",
      "62:\tlearn: 0.3736043\ttotal: 27.4s\tremaining: 3m 10s\n",
      "63:\tlearn: 0.3735201\ttotal: 27.8s\tremaining: 3m 9s\n",
      "64:\tlearn: 0.3734643\ttotal: 28.2s\tremaining: 3m 9s\n",
      "65:\tlearn: 0.3734242\ttotal: 28.7s\tremaining: 3m 8s\n",
      "66:\tlearn: 0.3733433\ttotal: 29.1s\tremaining: 3m 7s\n",
      "67:\tlearn: 0.3732892\ttotal: 29.4s\tremaining: 3m 6s\n",
      "68:\tlearn: 0.3732286\ttotal: 29.7s\tremaining: 3m 5s\n",
      "69:\tlearn: 0.3731803\ttotal: 30.1s\tremaining: 3m 4s\n",
      "70:\tlearn: 0.3731089\ttotal: 30.6s\tremaining: 3m 4s\n",
      "71:\tlearn: 0.3730245\ttotal: 30.9s\tremaining: 3m 3s\n",
      "72:\tlearn: 0.3728350\ttotal: 31.4s\tremaining: 3m 3s\n",
      "73:\tlearn: 0.3727938\ttotal: 31.7s\tremaining: 3m 2s\n",
      "74:\tlearn: 0.3726364\ttotal: 32.1s\tremaining: 3m 1s\n",
      "75:\tlearn: 0.3726094\ttotal: 32.4s\tremaining: 3m 1s\n",
      "76:\tlearn: 0.3725634\ttotal: 32.9s\tremaining: 3m\n",
      "77:\tlearn: 0.3725290\ttotal: 33.3s\tremaining: 3m\n",
      "78:\tlearn: 0.3725054\ttotal: 33.7s\tremaining: 2m 59s\n",
      "79:\tlearn: 0.3724231\ttotal: 34.1s\tremaining: 2m 58s\n",
      "80:\tlearn: 0.3723904\ttotal: 34.5s\tremaining: 2m 58s\n",
      "81:\tlearn: 0.3723399\ttotal: 34.8s\tremaining: 2m 57s\n",
      "82:\tlearn: 0.3723026\ttotal: 35.2s\tremaining: 2m 56s\n",
      "83:\tlearn: 0.3722641\ttotal: 35.7s\tremaining: 2m 56s\n",
      "84:\tlearn: 0.3722310\ttotal: 36.3s\tremaining: 2m 57s\n",
      "85:\tlearn: 0.3721618\ttotal: 36.8s\tremaining: 2m 57s\n",
      "86:\tlearn: 0.3720675\ttotal: 37.2s\tremaining: 2m 56s\n",
      "87:\tlearn: 0.3719981\ttotal: 37.6s\tremaining: 2m 56s\n",
      "88:\tlearn: 0.3719834\ttotal: 38s\tremaining: 2m 55s\n",
      "89:\tlearn: 0.3719149\ttotal: 38.5s\tremaining: 2m 55s\n",
      "90:\tlearn: 0.3718860\ttotal: 38.9s\tremaining: 2m 54s\n",
      "91:\tlearn: 0.3718567\ttotal: 39.3s\tremaining: 2m 54s\n",
      "92:\tlearn: 0.3718188\ttotal: 39.7s\tremaining: 2m 53s\n",
      "93:\tlearn: 0.3716994\ttotal: 40.1s\tremaining: 2m 53s\n",
      "94:\tlearn: 0.3716573\ttotal: 40.6s\tremaining: 2m 52s\n",
      "95:\tlearn: 0.3716018\ttotal: 41s\tremaining: 2m 52s\n",
      "96:\tlearn: 0.3715371\ttotal: 41.4s\tremaining: 2m 51s\n",
      "97:\tlearn: 0.3715012\ttotal: 41.9s\tremaining: 2m 51s\n",
      "98:\tlearn: 0.3714601\ttotal: 42.3s\tremaining: 2m 51s\n",
      "99:\tlearn: 0.3714256\ttotal: 42.7s\tremaining: 2m 50s\n",
      "100:\tlearn: 0.3713937\ttotal: 43.2s\tremaining: 2m 50s\n",
      "101:\tlearn: 0.3713521\ttotal: 43.5s\tremaining: 2m 49s\n",
      "102:\tlearn: 0.3713251\ttotal: 43.9s\tremaining: 2m 49s\n",
      "103:\tlearn: 0.3713078\ttotal: 44.4s\tremaining: 2m 48s\n",
      "104:\tlearn: 0.3712482\ttotal: 44.8s\tremaining: 2m 48s\n",
      "105:\tlearn: 0.3712209\ttotal: 45.3s\tremaining: 2m 48s\n",
      "106:\tlearn: 0.3711722\ttotal: 45.7s\tremaining: 2m 47s\n",
      "107:\tlearn: 0.3709443\ttotal: 46.1s\tremaining: 2m 47s\n",
      "108:\tlearn: 0.3708416\ttotal: 46.4s\tremaining: 2m 46s\n",
      "109:\tlearn: 0.3708128\ttotal: 46.7s\tremaining: 2m 45s\n",
      "110:\tlearn: 0.3707857\ttotal: 47.1s\tremaining: 2m 45s\n",
      "111:\tlearn: 0.3707165\ttotal: 47.5s\tremaining: 2m 44s\n",
      "112:\tlearn: 0.3706682\ttotal: 47.9s\tremaining: 2m 44s\n",
      "113:\tlearn: 0.3706438\ttotal: 48.3s\tremaining: 2m 43s\n",
      "114:\tlearn: 0.3706170\ttotal: 48.6s\tremaining: 2m 42s\n",
      "115:\tlearn: 0.3705807\ttotal: 49.1s\tremaining: 2m 42s\n",
      "116:\tlearn: 0.3705558\ttotal: 49.5s\tremaining: 2m 41s\n",
      "117:\tlearn: 0.3705312\ttotal: 49.8s\tremaining: 2m 41s\n",
      "118:\tlearn: 0.3705107\ttotal: 50.3s\tremaining: 2m 40s\n",
      "119:\tlearn: 0.3705036\ttotal: 50.8s\tremaining: 2m 40s\n",
      "120:\tlearn: 0.3704921\ttotal: 51.1s\tremaining: 2m 40s\n",
      "121:\tlearn: 0.3704566\ttotal: 51.5s\tremaining: 2m 39s\n",
      "122:\tlearn: 0.3704309\ttotal: 51.9s\tremaining: 2m 38s\n",
      "123:\tlearn: 0.3704036\ttotal: 52.2s\tremaining: 2m 38s\n",
      "124:\tlearn: 0.3703636\ttotal: 52.6s\tremaining: 2m 37s\n",
      "125:\tlearn: 0.3703436\ttotal: 53s\tremaining: 2m 37s\n",
      "126:\tlearn: 0.3703317\ttotal: 53.3s\tremaining: 2m 36s\n",
      "127:\tlearn: 0.3702897\ttotal: 53.7s\tremaining: 2m 36s\n",
      "128:\tlearn: 0.3702731\ttotal: 54.2s\tremaining: 2m 35s\n",
      "129:\tlearn: 0.3702573\ttotal: 54.6s\tremaining: 2m 35s\n",
      "130:\tlearn: 0.3702500\ttotal: 55s\tremaining: 2m 34s\n",
      "131:\tlearn: 0.3702263\ttotal: 55.4s\tremaining: 2m 34s\n",
      "132:\tlearn: 0.3701922\ttotal: 55.8s\tremaining: 2m 33s\n",
      "133:\tlearn: 0.3701314\ttotal: 56.3s\tremaining: 2m 33s\n",
      "134:\tlearn: 0.3700973\ttotal: 56.7s\tremaining: 2m 33s\n",
      "135:\tlearn: 0.3700649\ttotal: 57.2s\tremaining: 2m 32s\n",
      "136:\tlearn: 0.3700534\ttotal: 57.6s\tremaining: 2m 32s\n",
      "137:\tlearn: 0.3700186\ttotal: 58s\tremaining: 2m 32s\n",
      "138:\tlearn: 0.3700000\ttotal: 58.4s\tremaining: 2m 31s\n",
      "139:\tlearn: 0.3699531\ttotal: 58.7s\tremaining: 2m 30s\n",
      "140:\tlearn: 0.3699332\ttotal: 59s\tremaining: 2m 30s\n",
      "141:\tlearn: 0.3699108\ttotal: 59.4s\tremaining: 2m 29s\n",
      "142:\tlearn: 0.3698745\ttotal: 59.9s\tremaining: 2m 29s\n",
      "143:\tlearn: 0.3698592\ttotal: 1m\tremaining: 2m 29s\n",
      "144:\tlearn: 0.3698353\ttotal: 1m\tremaining: 2m 28s\n",
      "145:\tlearn: 0.3697943\ttotal: 1m 1s\tremaining: 2m 27s\n",
      "146:\tlearn: 0.3697842\ttotal: 1m 1s\tremaining: 2m 27s\n",
      "147:\tlearn: 0.3697625\ttotal: 1m 1s\tremaining: 2m 27s\n",
      "148:\tlearn: 0.3696938\ttotal: 1m 2s\tremaining: 2m 26s\n",
      "149:\tlearn: 0.3696463\ttotal: 1m 2s\tremaining: 2m 26s\n",
      "150:\tlearn: 0.3695946\ttotal: 1m 2s\tremaining: 2m 25s\n",
      "151:\tlearn: 0.3695665\ttotal: 1m 3s\tremaining: 2m 25s\n",
      "152:\tlearn: 0.3695320\ttotal: 1m 3s\tremaining: 2m 24s\n",
      "153:\tlearn: 0.3695161\ttotal: 1m 4s\tremaining: 2m 24s\n",
      "154:\tlearn: 0.3695037\ttotal: 1m 4s\tremaining: 2m 24s\n",
      "155:\tlearn: 0.3694632\ttotal: 1m 5s\tremaining: 2m 23s\n",
      "156:\tlearn: 0.3694505\ttotal: 1m 5s\tremaining: 2m 23s\n",
      "157:\tlearn: 0.3694308\ttotal: 1m 6s\tremaining: 2m 23s\n"
     ]
    },
    {
     "name": "stdout",
     "output_type": "stream",
     "text": [
      "158:\tlearn: 0.3694266\ttotal: 1m 6s\tremaining: 2m 22s\n",
      "159:\tlearn: 0.3693787\ttotal: 1m 7s\tremaining: 2m 22s\n",
      "160:\tlearn: 0.3693626\ttotal: 1m 7s\tremaining: 2m 21s\n",
      "161:\tlearn: 0.3693493\ttotal: 1m 7s\tremaining: 2m 21s\n",
      "162:\tlearn: 0.3693183\ttotal: 1m 8s\tremaining: 2m 20s\n",
      "163:\tlearn: 0.3692707\ttotal: 1m 8s\tremaining: 2m 20s\n",
      "164:\tlearn: 0.3692560\ttotal: 1m 8s\tremaining: 2m 19s\n",
      "165:\tlearn: 0.3692451\ttotal: 1m 9s\tremaining: 2m 19s\n",
      "166:\tlearn: 0.3692347\ttotal: 1m 9s\tremaining: 2m 18s\n",
      "167:\tlearn: 0.3692015\ttotal: 1m 10s\tremaining: 2m 18s\n",
      "168:\tlearn: 0.3691979\ttotal: 1m 10s\tremaining: 2m 18s\n",
      "169:\tlearn: 0.3691787\ttotal: 1m 11s\tremaining: 2m 18s\n",
      "170:\tlearn: 0.3691597\ttotal: 1m 11s\tremaining: 2m 17s\n",
      "171:\tlearn: 0.3691420\ttotal: 1m 11s\tremaining: 2m 17s\n",
      "172:\tlearn: 0.3691123\ttotal: 1m 12s\tremaining: 2m 17s\n",
      "173:\tlearn: 0.3690894\ttotal: 1m 13s\tremaining: 2m 16s\n",
      "174:\tlearn: 0.3690453\ttotal: 1m 13s\tremaining: 2m 16s\n",
      "175:\tlearn: 0.3690172\ttotal: 1m 13s\tremaining: 2m 15s\n",
      "176:\tlearn: 0.3690024\ttotal: 1m 14s\tremaining: 2m 15s\n",
      "177:\tlearn: 0.3689915\ttotal: 1m 14s\tremaining: 2m 15s\n",
      "178:\tlearn: 0.3689781\ttotal: 1m 15s\tremaining: 2m 14s\n",
      "179:\tlearn: 0.3689534\ttotal: 1m 15s\tremaining: 2m 14s\n",
      "180:\tlearn: 0.3689383\ttotal: 1m 15s\tremaining: 2m 13s\n",
      "181:\tlearn: 0.3689174\ttotal: 1m 16s\tremaining: 2m 13s\n",
      "182:\tlearn: 0.3688903\ttotal: 1m 16s\tremaining: 2m 12s\n",
      "183:\tlearn: 0.3688674\ttotal: 1m 16s\tremaining: 2m 11s\n",
      "184:\tlearn: 0.3688416\ttotal: 1m 17s\tremaining: 2m 11s\n",
      "185:\tlearn: 0.3687912\ttotal: 1m 17s\tremaining: 2m 10s\n",
      "186:\tlearn: 0.3687860\ttotal: 1m 18s\tremaining: 2m 10s\n",
      "187:\tlearn: 0.3687687\ttotal: 1m 18s\tremaining: 2m 10s\n",
      "188:\tlearn: 0.3687584\ttotal: 1m 18s\tremaining: 2m 9s\n",
      "189:\tlearn: 0.3687465\ttotal: 1m 19s\tremaining: 2m 9s\n",
      "190:\tlearn: 0.3686997\ttotal: 1m 19s\tremaining: 2m 9s\n",
      "191:\tlearn: 0.3686831\ttotal: 1m 20s\tremaining: 2m 9s\n",
      "192:\tlearn: 0.3686801\ttotal: 1m 20s\tremaining: 2m 8s\n",
      "193:\tlearn: 0.3686725\ttotal: 1m 21s\tremaining: 2m 8s\n",
      "194:\tlearn: 0.3686530\ttotal: 1m 21s\tremaining: 2m 7s\n",
      "195:\tlearn: 0.3686343\ttotal: 1m 22s\tremaining: 2m 7s\n",
      "196:\tlearn: 0.3686146\ttotal: 1m 22s\tremaining: 2m 6s\n",
      "197:\tlearn: 0.3685648\ttotal: 1m 22s\tremaining: 2m 6s\n",
      "198:\tlearn: 0.3685473\ttotal: 1m 23s\tremaining: 2m 6s\n",
      "199:\tlearn: 0.3682976\ttotal: 1m 23s\tremaining: 2m 5s\n",
      "200:\tlearn: 0.3682937\ttotal: 1m 24s\tremaining: 2m 5s\n",
      "201:\tlearn: 0.3682812\ttotal: 1m 24s\tremaining: 2m 4s\n",
      "202:\tlearn: 0.3682701\ttotal: 1m 24s\tremaining: 2m 4s\n",
      "203:\tlearn: 0.3682695\ttotal: 1m 25s\tremaining: 2m 3s\n",
      "204:\tlearn: 0.3682540\ttotal: 1m 25s\tremaining: 2m 3s\n",
      "205:\tlearn: 0.3682381\ttotal: 1m 26s\tremaining: 2m 3s\n",
      "206:\tlearn: 0.3682162\ttotal: 1m 26s\tremaining: 2m 2s\n",
      "207:\tlearn: 0.3681915\ttotal: 1m 27s\tremaining: 2m 2s\n",
      "208:\tlearn: 0.3681713\ttotal: 1m 27s\tremaining: 2m 2s\n",
      "209:\tlearn: 0.3681580\ttotal: 1m 28s\tremaining: 2m 1s\n",
      "210:\tlearn: 0.3681471\ttotal: 1m 28s\tremaining: 2m 1s\n",
      "211:\tlearn: 0.3681334\ttotal: 1m 28s\tremaining: 2m\n",
      "212:\tlearn: 0.3681333\ttotal: 1m 29s\tremaining: 2m\n",
      "213:\tlearn: 0.3681332\ttotal: 1m 29s\tremaining: 1m 59s\n",
      "214:\tlearn: 0.3681230\ttotal: 1m 29s\tremaining: 1m 59s\n",
      "215:\tlearn: 0.3681168\ttotal: 1m 30s\tremaining: 1m 58s\n",
      "216:\tlearn: 0.3681124\ttotal: 1m 30s\tremaining: 1m 58s\n",
      "217:\tlearn: 0.3681076\ttotal: 1m 30s\tremaining: 1m 57s\n",
      "218:\tlearn: 0.3680971\ttotal: 1m 31s\tremaining: 1m 57s\n",
      "219:\tlearn: 0.3680590\ttotal: 1m 31s\tremaining: 1m 56s\n",
      "220:\tlearn: 0.3680453\ttotal: 1m 32s\tremaining: 1m 56s\n",
      "221:\tlearn: 0.3680328\ttotal: 1m 32s\tremaining: 1m 56s\n",
      "222:\tlearn: 0.3679988\ttotal: 1m 33s\tremaining: 1m 55s\n",
      "223:\tlearn: 0.3679243\ttotal: 1m 33s\tremaining: 1m 55s\n",
      "224:\tlearn: 0.3678778\ttotal: 1m 33s\tremaining: 1m 54s\n",
      "225:\tlearn: 0.3678619\ttotal: 1m 34s\tremaining: 1m 54s\n",
      "226:\tlearn: 0.3678427\ttotal: 1m 34s\tremaining: 1m 53s\n",
      "227:\tlearn: 0.3678390\ttotal: 1m 34s\tremaining: 1m 53s\n",
      "228:\tlearn: 0.3678260\ttotal: 1m 35s\tremaining: 1m 52s\n",
      "229:\tlearn: 0.3678170\ttotal: 1m 35s\tremaining: 1m 52s\n",
      "230:\tlearn: 0.3678010\ttotal: 1m 35s\tremaining: 1m 51s\n",
      "231:\tlearn: 0.3678010\ttotal: 1m 36s\tremaining: 1m 51s\n",
      "232:\tlearn: 0.3677954\ttotal: 1m 36s\tremaining: 1m 50s\n",
      "233:\tlearn: 0.3677921\ttotal: 1m 36s\tremaining: 1m 50s\n",
      "234:\tlearn: 0.3677668\ttotal: 1m 37s\tremaining: 1m 49s\n",
      "235:\tlearn: 0.3677550\ttotal: 1m 37s\tremaining: 1m 49s\n",
      "236:\tlearn: 0.3677410\ttotal: 1m 38s\tremaining: 1m 48s\n",
      "237:\tlearn: 0.3677177\ttotal: 1m 38s\tremaining: 1m 48s\n",
      "238:\tlearn: 0.3676928\ttotal: 1m 38s\tremaining: 1m 48s\n",
      "239:\tlearn: 0.3676896\ttotal: 1m 39s\tremaining: 1m 47s\n",
      "240:\tlearn: 0.3676709\ttotal: 1m 39s\tremaining: 1m 47s\n",
      "241:\tlearn: 0.3676554\ttotal: 1m 40s\tremaining: 1m 46s\n",
      "242:\tlearn: 0.3676553\ttotal: 1m 40s\tremaining: 1m 46s\n",
      "243:\tlearn: 0.3676388\ttotal: 1m 41s\tremaining: 1m 46s\n",
      "244:\tlearn: 0.3676357\ttotal: 1m 41s\tremaining: 1m 45s\n",
      "245:\tlearn: 0.3676231\ttotal: 1m 42s\tremaining: 1m 45s\n",
      "246:\tlearn: 0.3676005\ttotal: 1m 42s\tremaining: 1m 44s\n",
      "247:\tlearn: 0.3675990\ttotal: 1m 42s\tremaining: 1m 44s\n",
      "248:\tlearn: 0.3675843\ttotal: 1m 43s\tremaining: 1m 44s\n",
      "249:\tlearn: 0.3675781\ttotal: 1m 43s\tremaining: 1m 43s\n",
      "250:\tlearn: 0.3675760\ttotal: 1m 44s\tremaining: 1m 43s\n",
      "251:\tlearn: 0.3675603\ttotal: 1m 44s\tremaining: 1m 43s\n",
      "252:\tlearn: 0.3675316\ttotal: 1m 45s\tremaining: 1m 42s\n",
      "253:\tlearn: 0.3675204\ttotal: 1m 45s\tremaining: 1m 42s\n",
      "254:\tlearn: 0.3675079\ttotal: 1m 45s\tremaining: 1m 41s\n",
      "255:\tlearn: 0.3675010\ttotal: 1m 46s\tremaining: 1m 41s\n",
      "256:\tlearn: 0.3674927\ttotal: 1m 46s\tremaining: 1m 40s\n",
      "257:\tlearn: 0.3674830\ttotal: 1m 47s\tremaining: 1m 40s\n",
      "258:\tlearn: 0.3674636\ttotal: 1m 47s\tremaining: 1m 40s\n",
      "259:\tlearn: 0.3674507\ttotal: 1m 48s\tremaining: 1m 39s\n",
      "260:\tlearn: 0.3674357\ttotal: 1m 48s\tremaining: 1m 39s\n",
      "261:\tlearn: 0.3674270\ttotal: 1m 48s\tremaining: 1m 38s\n",
      "262:\tlearn: 0.3674190\ttotal: 1m 49s\tremaining: 1m 38s\n",
      "263:\tlearn: 0.3674086\ttotal: 1m 49s\tremaining: 1m 37s\n",
      "264:\tlearn: 0.3673407\ttotal: 1m 49s\tremaining: 1m 37s\n",
      "265:\tlearn: 0.3673158\ttotal: 1m 50s\tremaining: 1m 36s\n",
      "266:\tlearn: 0.3673040\ttotal: 1m 50s\tremaining: 1m 36s\n",
      "267:\tlearn: 0.3672920\ttotal: 1m 50s\tremaining: 1m 36s\n",
      "268:\tlearn: 0.3672864\ttotal: 1m 51s\tremaining: 1m 35s\n",
      "269:\tlearn: 0.3672759\ttotal: 1m 51s\tremaining: 1m 35s\n",
      "270:\tlearn: 0.3672645\ttotal: 1m 51s\tremaining: 1m 34s\n",
      "271:\tlearn: 0.3672166\ttotal: 1m 52s\tremaining: 1m 34s\n",
      "272:\tlearn: 0.3672090\ttotal: 1m 52s\tremaining: 1m 33s\n",
      "273:\tlearn: 0.3671861\ttotal: 1m 53s\tremaining: 1m 33s\n",
      "274:\tlearn: 0.3671767\ttotal: 1m 53s\tremaining: 1m 33s\n",
      "275:\tlearn: 0.3671625\ttotal: 1m 54s\tremaining: 1m 32s\n",
      "276:\tlearn: 0.3671442\ttotal: 1m 54s\tremaining: 1m 32s\n",
      "277:\tlearn: 0.3671333\ttotal: 1m 55s\tremaining: 1m 31s\n",
      "278:\tlearn: 0.3671106\ttotal: 1m 55s\tremaining: 1m 31s\n",
      "279:\tlearn: 0.3671035\ttotal: 1m 55s\tremaining: 1m 31s\n",
      "280:\tlearn: 0.3670977\ttotal: 1m 56s\tremaining: 1m 30s\n",
      "281:\tlearn: 0.3670922\ttotal: 1m 56s\tremaining: 1m 30s\n",
      "282:\tlearn: 0.3670896\ttotal: 1m 57s\tremaining: 1m 29s\n",
      "283:\tlearn: 0.3670853\ttotal: 1m 57s\tremaining: 1m 29s\n",
      "284:\tlearn: 0.3670754\ttotal: 1m 58s\tremaining: 1m 29s\n",
      "285:\tlearn: 0.3670726\ttotal: 1m 58s\tremaining: 1m 28s\n",
      "286:\tlearn: 0.3670680\ttotal: 1m 58s\tremaining: 1m 28s\n",
      "287:\tlearn: 0.3670607\ttotal: 1m 59s\tremaining: 1m 27s\n",
      "288:\tlearn: 0.3670460\ttotal: 1m 59s\tremaining: 1m 27s\n",
      "289:\tlearn: 0.3670102\ttotal: 1m 59s\tremaining: 1m 26s\n",
      "290:\tlearn: 0.3669772\ttotal: 2m\tremaining: 1m 26s\n",
      "291:\tlearn: 0.3669677\ttotal: 2m\tremaining: 1m 25s\n",
      "292:\tlearn: 0.3669676\ttotal: 2m\tremaining: 1m 25s\n",
      "293:\tlearn: 0.3669481\ttotal: 2m 1s\tremaining: 1m 25s\n",
      "294:\tlearn: 0.3669461\ttotal: 2m 1s\tremaining: 1m 24s\n",
      "295:\tlearn: 0.3669397\ttotal: 2m 2s\tremaining: 1m 24s\n",
      "296:\tlearn: 0.3669238\ttotal: 2m 2s\tremaining: 1m 24s\n",
      "297:\tlearn: 0.3669207\ttotal: 2m 3s\tremaining: 1m 23s\n",
      "298:\tlearn: 0.3669131\ttotal: 2m 3s\tremaining: 1m 23s\n",
      "299:\tlearn: 0.3669094\ttotal: 2m 4s\tremaining: 1m 22s\n",
      "300:\tlearn: 0.3669051\ttotal: 2m 4s\tremaining: 1m 22s\n",
      "301:\tlearn: 0.3668956\ttotal: 2m 5s\tremaining: 1m 22s\n",
      "302:\tlearn: 0.3668926\ttotal: 2m 5s\tremaining: 1m 21s\n",
      "303:\tlearn: 0.3668853\ttotal: 2m 6s\tremaining: 1m 21s\n",
      "304:\tlearn: 0.3668796\ttotal: 2m 6s\tremaining: 1m 20s\n",
      "305:\tlearn: 0.3668621\ttotal: 2m 6s\tremaining: 1m 20s\n",
      "306:\tlearn: 0.3668497\ttotal: 2m 7s\tremaining: 1m 20s\n",
      "307:\tlearn: 0.3668067\ttotal: 2m 7s\tremaining: 1m 19s\n",
      "308:\tlearn: 0.3667997\ttotal: 2m 8s\tremaining: 1m 19s\n",
      "309:\tlearn: 0.3667839\ttotal: 2m 8s\tremaining: 1m 18s\n",
      "310:\tlearn: 0.3667786\ttotal: 2m 8s\tremaining: 1m 18s\n",
      "311:\tlearn: 0.3667691\ttotal: 2m 9s\tremaining: 1m 17s\n"
     ]
    },
    {
     "name": "stdout",
     "output_type": "stream",
     "text": [
      "312:\tlearn: 0.3667561\ttotal: 2m 9s\tremaining: 1m 17s\n",
      "313:\tlearn: 0.3667495\ttotal: 2m 10s\tremaining: 1m 17s\n",
      "314:\tlearn: 0.3667402\ttotal: 2m 10s\tremaining: 1m 16s\n",
      "315:\tlearn: 0.3667283\ttotal: 2m 10s\tremaining: 1m 16s\n",
      "316:\tlearn: 0.3667201\ttotal: 2m 11s\tremaining: 1m 15s\n",
      "317:\tlearn: 0.3667200\ttotal: 2m 11s\tremaining: 1m 15s\n",
      "318:\tlearn: 0.3667147\ttotal: 2m 12s\tremaining: 1m 14s\n",
      "319:\tlearn: 0.3667145\ttotal: 2m 12s\tremaining: 1m 14s\n",
      "320:\tlearn: 0.3667143\ttotal: 2m 13s\tremaining: 1m 14s\n",
      "321:\tlearn: 0.3667143\ttotal: 2m 13s\tremaining: 1m 13s\n",
      "322:\tlearn: 0.3667108\ttotal: 2m 13s\tremaining: 1m 13s\n",
      "323:\tlearn: 0.3667034\ttotal: 2m 14s\tremaining: 1m 12s\n",
      "324:\tlearn: 0.3666956\ttotal: 2m 14s\tremaining: 1m 12s\n",
      "325:\tlearn: 0.3666858\ttotal: 2m 15s\tremaining: 1m 12s\n",
      "326:\tlearn: 0.3666797\ttotal: 2m 15s\tremaining: 1m 11s\n",
      "327:\tlearn: 0.3666745\ttotal: 2m 15s\tremaining: 1m 11s\n",
      "328:\tlearn: 0.3666681\ttotal: 2m 16s\tremaining: 1m 10s\n",
      "329:\tlearn: 0.3666636\ttotal: 2m 16s\tremaining: 1m 10s\n",
      "330:\tlearn: 0.3666305\ttotal: 2m 16s\tremaining: 1m 9s\n",
      "331:\tlearn: 0.3666305\ttotal: 2m 17s\tremaining: 1m 9s\n",
      "332:\tlearn: 0.3666248\ttotal: 2m 17s\tremaining: 1m 9s\n",
      "333:\tlearn: 0.3666132\ttotal: 2m 18s\tremaining: 1m 8s\n",
      "334:\tlearn: 0.3666131\ttotal: 2m 18s\tremaining: 1m 8s\n",
      "335:\tlearn: 0.3666062\ttotal: 2m 19s\tremaining: 1m 7s\n",
      "336:\tlearn: 0.3666044\ttotal: 2m 19s\tremaining: 1m 7s\n",
      "337:\tlearn: 0.3665983\ttotal: 2m 19s\tremaining: 1m 7s\n",
      "338:\tlearn: 0.3665944\ttotal: 2m 20s\tremaining: 1m 6s\n",
      "339:\tlearn: 0.3665907\ttotal: 2m 20s\tremaining: 1m 6s\n",
      "340:\tlearn: 0.3665907\ttotal: 2m 21s\tremaining: 1m 5s\n",
      "341:\tlearn: 0.3665884\ttotal: 2m 21s\tremaining: 1m 5s\n",
      "342:\tlearn: 0.3665845\ttotal: 2m 21s\tremaining: 1m 4s\n",
      "343:\tlearn: 0.3665829\ttotal: 2m 22s\tremaining: 1m 4s\n",
      "344:\tlearn: 0.3665819\ttotal: 2m 22s\tremaining: 1m 4s\n",
      "345:\tlearn: 0.3665817\ttotal: 2m 22s\tremaining: 1m 3s\n",
      "346:\tlearn: 0.3665749\ttotal: 2m 23s\tremaining: 1m 3s\n",
      "347:\tlearn: 0.3665743\ttotal: 2m 23s\tremaining: 1m 2s\n",
      "348:\tlearn: 0.3665676\ttotal: 2m 24s\tremaining: 1m 2s\n",
      "349:\tlearn: 0.3665528\ttotal: 2m 24s\tremaining: 1m 1s\n",
      "350:\tlearn: 0.3665508\ttotal: 2m 25s\tremaining: 1m 1s\n",
      "351:\tlearn: 0.3665428\ttotal: 2m 25s\tremaining: 1m 1s\n",
      "352:\tlearn: 0.3665316\ttotal: 2m 25s\tremaining: 1m\n",
      "353:\tlearn: 0.3665192\ttotal: 2m 26s\tremaining: 1m\n",
      "354:\tlearn: 0.3665129\ttotal: 2m 26s\tremaining: 59.9s\n",
      "355:\tlearn: 0.3665004\ttotal: 2m 27s\tremaining: 59.5s\n",
      "356:\tlearn: 0.3664904\ttotal: 2m 27s\tremaining: 59.1s\n",
      "357:\tlearn: 0.3664826\ttotal: 2m 27s\tremaining: 58.7s\n",
      "358:\tlearn: 0.3664679\ttotal: 2m 28s\tremaining: 58.3s\n",
      "359:\tlearn: 0.3664609\ttotal: 2m 28s\tremaining: 57.9s\n",
      "360:\tlearn: 0.3664512\ttotal: 2m 29s\tremaining: 57.5s\n",
      "361:\tlearn: 0.3664457\ttotal: 2m 29s\tremaining: 57s\n",
      "362:\tlearn: 0.3664438\ttotal: 2m 30s\tremaining: 56.6s\n",
      "363:\tlearn: 0.3664375\ttotal: 2m 30s\tremaining: 56.3s\n",
      "364:\tlearn: 0.3664067\ttotal: 2m 31s\tremaining: 55.9s\n",
      "365:\tlearn: 0.3664010\ttotal: 2m 31s\tremaining: 55.5s\n",
      "366:\tlearn: 0.3663968\ttotal: 2m 31s\tremaining: 55.1s\n",
      "367:\tlearn: 0.3663943\ttotal: 2m 32s\tremaining: 54.7s\n",
      "368:\tlearn: 0.3663828\ttotal: 2m 33s\tremaining: 54.3s\n",
      "369:\tlearn: 0.3663818\ttotal: 2m 33s\tremaining: 54s\n",
      "370:\tlearn: 0.3663743\ttotal: 2m 34s\tremaining: 53.6s\n",
      "371:\tlearn: 0.3663705\ttotal: 2m 34s\tremaining: 53.2s\n",
      "372:\tlearn: 0.3663665\ttotal: 2m 34s\tremaining: 52.8s\n",
      "373:\tlearn: 0.3663456\ttotal: 2m 35s\tremaining: 52.3s\n",
      "374:\tlearn: 0.3663427\ttotal: 2m 35s\tremaining: 52s\n",
      "375:\tlearn: 0.3663374\ttotal: 2m 36s\tremaining: 51.6s\n",
      "376:\tlearn: 0.3663366\ttotal: 2m 36s\tremaining: 51.2s\n",
      "377:\tlearn: 0.3663317\ttotal: 2m 37s\tremaining: 50.7s\n",
      "378:\tlearn: 0.3663219\ttotal: 2m 37s\tremaining: 50.3s\n",
      "379:\tlearn: 0.3663152\ttotal: 2m 38s\tremaining: 49.9s\n",
      "380:\tlearn: 0.3663090\ttotal: 2m 38s\tremaining: 49.5s\n",
      "381:\tlearn: 0.3663017\ttotal: 2m 39s\tremaining: 49.2s\n",
      "382:\tlearn: 0.3662959\ttotal: 2m 39s\tremaining: 48.7s\n",
      "383:\tlearn: 0.3662912\ttotal: 2m 40s\tremaining: 48.3s\n",
      "384:\tlearn: 0.3662861\ttotal: 2m 40s\tremaining: 47.9s\n",
      "385:\tlearn: 0.3662824\ttotal: 2m 40s\tremaining: 47.5s\n",
      "386:\tlearn: 0.3662781\ttotal: 2m 41s\tremaining: 47.1s\n",
      "387:\tlearn: 0.3662780\ttotal: 2m 41s\tremaining: 46.7s\n",
      "388:\tlearn: 0.3662699\ttotal: 2m 42s\tremaining: 46.2s\n",
      "389:\tlearn: 0.3662638\ttotal: 2m 42s\tremaining: 45.8s\n",
      "390:\tlearn: 0.3662598\ttotal: 2m 42s\tremaining: 45.4s\n",
      "391:\tlearn: 0.3662556\ttotal: 2m 43s\tremaining: 44.9s\n",
      "392:\tlearn: 0.3662351\ttotal: 2m 43s\tremaining: 44.5s\n",
      "393:\tlearn: 0.3662297\ttotal: 2m 43s\tremaining: 44.1s\n",
      "394:\tlearn: 0.3662271\ttotal: 2m 44s\tremaining: 43.7s\n",
      "395:\tlearn: 0.3662176\ttotal: 2m 44s\tremaining: 43.3s\n",
      "396:\tlearn: 0.3662137\ttotal: 2m 45s\tremaining: 42.8s\n",
      "397:\tlearn: 0.3662099\ttotal: 2m 45s\tremaining: 42.4s\n",
      "398:\tlearn: 0.3662034\ttotal: 2m 45s\tremaining: 42s\n",
      "399:\tlearn: 0.3662007\ttotal: 2m 46s\tremaining: 41.6s\n",
      "400:\tlearn: 0.3661987\ttotal: 2m 46s\tremaining: 41.1s\n",
      "401:\tlearn: 0.3661856\ttotal: 2m 47s\tremaining: 40.8s\n",
      "402:\tlearn: 0.3661664\ttotal: 2m 47s\tremaining: 40.4s\n",
      "403:\tlearn: 0.3661597\ttotal: 2m 48s\tremaining: 40s\n",
      "404:\tlearn: 0.3661507\ttotal: 2m 48s\tremaining: 39.6s\n",
      "405:\tlearn: 0.3661431\ttotal: 2m 49s\tremaining: 39.2s\n",
      "406:\tlearn: 0.3661375\ttotal: 2m 49s\tremaining: 38.7s\n",
      "407:\tlearn: 0.3661138\ttotal: 2m 49s\tremaining: 38.3s\n",
      "408:\tlearn: 0.3661090\ttotal: 2m 50s\tremaining: 37.9s\n",
      "409:\tlearn: 0.3660970\ttotal: 2m 50s\tremaining: 37.5s\n",
      "410:\tlearn: 0.3660864\ttotal: 2m 51s\tremaining: 37.1s\n",
      "411:\tlearn: 0.3660755\ttotal: 2m 51s\tremaining: 36.6s\n",
      "412:\tlearn: 0.3660611\ttotal: 2m 51s\tremaining: 36.2s\n",
      "413:\tlearn: 0.3660544\ttotal: 2m 52s\tremaining: 35.8s\n",
      "414:\tlearn: 0.3660476\ttotal: 2m 52s\tremaining: 35.4s\n",
      "415:\tlearn: 0.3660341\ttotal: 2m 53s\tremaining: 34.9s\n",
      "416:\tlearn: 0.3660268\ttotal: 2m 53s\tremaining: 34.5s\n",
      "417:\tlearn: 0.3660231\ttotal: 2m 53s\tremaining: 34.1s\n",
      "418:\tlearn: 0.3660230\ttotal: 2m 54s\tremaining: 33.7s\n",
      "419:\tlearn: 0.3660183\ttotal: 2m 54s\tremaining: 33.3s\n",
      "420:\tlearn: 0.3660126\ttotal: 2m 55s\tremaining: 32.9s\n",
      "421:\tlearn: 0.3660126\ttotal: 2m 55s\tremaining: 32.4s\n",
      "422:\tlearn: 0.3660080\ttotal: 2m 55s\tremaining: 32s\n",
      "423:\tlearn: 0.3660041\ttotal: 2m 56s\tremaining: 31.6s\n",
      "424:\tlearn: 0.3659787\ttotal: 2m 56s\tremaining: 31.2s\n",
      "425:\tlearn: 0.3659709\ttotal: 2m 57s\tremaining: 30.8s\n",
      "426:\tlearn: 0.3659676\ttotal: 2m 57s\tremaining: 30.4s\n",
      "427:\tlearn: 0.3658759\ttotal: 2m 58s\tremaining: 30s\n",
      "428:\tlearn: 0.3658759\ttotal: 2m 58s\tremaining: 29.6s\n",
      "429:\tlearn: 0.3658738\ttotal: 2m 58s\tremaining: 29.1s\n",
      "430:\tlearn: 0.3658450\ttotal: 2m 59s\tremaining: 28.7s\n",
      "431:\tlearn: 0.3658412\ttotal: 2m 59s\tremaining: 28.3s\n",
      "432:\tlearn: 0.3658412\ttotal: 3m\tremaining: 27.9s\n",
      "433:\tlearn: 0.3658270\ttotal: 3m\tremaining: 27.5s\n",
      "434:\tlearn: 0.3658082\ttotal: 3m\tremaining: 27s\n",
      "435:\tlearn: 0.3658039\ttotal: 3m 1s\tremaining: 26.6s\n",
      "436:\tlearn: 0.3657963\ttotal: 3m 1s\tremaining: 26.2s\n",
      "437:\tlearn: 0.3657936\ttotal: 3m 2s\tremaining: 25.8s\n",
      "438:\tlearn: 0.3657934\ttotal: 3m 2s\tremaining: 25.4s\n",
      "439:\tlearn: 0.3657927\ttotal: 3m 3s\tremaining: 25s\n",
      "440:\tlearn: 0.3657855\ttotal: 3m 3s\tremaining: 24.6s\n",
      "441:\tlearn: 0.3657844\ttotal: 3m 4s\tremaining: 24.2s\n",
      "442:\tlearn: 0.3657840\ttotal: 3m 4s\tremaining: 23.7s\n",
      "443:\tlearn: 0.3657759\ttotal: 3m 4s\tremaining: 23.3s\n",
      "444:\tlearn: 0.3657729\ttotal: 3m 5s\tremaining: 22.9s\n",
      "445:\tlearn: 0.3657700\ttotal: 3m 5s\tremaining: 22.5s\n",
      "446:\tlearn: 0.3657668\ttotal: 3m 6s\tremaining: 22.1s\n",
      "447:\tlearn: 0.3657666\ttotal: 3m 6s\tremaining: 21.7s\n",
      "448:\tlearn: 0.3657656\ttotal: 3m 7s\tremaining: 21.3s\n",
      "449:\tlearn: 0.3657656\ttotal: 3m 7s\tremaining: 20.8s\n",
      "450:\tlearn: 0.3657625\ttotal: 3m 7s\tremaining: 20.4s\n",
      "451:\tlearn: 0.3657576\ttotal: 3m 8s\tremaining: 20s\n",
      "452:\tlearn: 0.3657528\ttotal: 3m 8s\tremaining: 19.6s\n",
      "453:\tlearn: 0.3657490\ttotal: 3m 9s\tremaining: 19.2s\n",
      "454:\tlearn: 0.3657403\ttotal: 3m 9s\tremaining: 18.7s\n",
      "455:\tlearn: 0.3657348\ttotal: 3m 9s\tremaining: 18.3s\n",
      "456:\tlearn: 0.3657313\ttotal: 3m 10s\tremaining: 17.9s\n",
      "457:\tlearn: 0.3657282\ttotal: 3m 10s\tremaining: 17.5s\n",
      "458:\tlearn: 0.3657241\ttotal: 3m 11s\tremaining: 17.1s\n",
      "459:\tlearn: 0.3657227\ttotal: 3m 11s\tremaining: 16.7s\n",
      "460:\tlearn: 0.3657226\ttotal: 3m 12s\tremaining: 16.3s\n",
      "461:\tlearn: 0.3657226\ttotal: 3m 12s\tremaining: 15.8s\n",
      "462:\tlearn: 0.3657189\ttotal: 3m 13s\tremaining: 15.4s\n",
      "463:\tlearn: 0.3657148\ttotal: 3m 13s\tremaining: 15s\n",
      "464:\tlearn: 0.3657148\ttotal: 3m 13s\tremaining: 14.6s\n",
      "465:\tlearn: 0.3657147\ttotal: 3m 14s\tremaining: 14.2s\n",
      "466:\tlearn: 0.3656870\ttotal: 3m 14s\tremaining: 13.7s\n",
      "467:\tlearn: 0.3656870\ttotal: 3m 14s\tremaining: 13.3s\n"
     ]
    },
    {
     "name": "stdout",
     "output_type": "stream",
     "text": [
      "468:\tlearn: 0.3656851\ttotal: 3m 15s\tremaining: 12.9s\n",
      "469:\tlearn: 0.3656837\ttotal: 3m 15s\tremaining: 12.5s\n",
      "470:\tlearn: 0.3656806\ttotal: 3m 15s\tremaining: 12.1s\n",
      "471:\tlearn: 0.3656745\ttotal: 3m 16s\tremaining: 11.6s\n",
      "472:\tlearn: 0.3656732\ttotal: 3m 16s\tremaining: 11.2s\n",
      "473:\tlearn: 0.3656673\ttotal: 3m 16s\tremaining: 10.8s\n",
      "474:\tlearn: 0.3656673\ttotal: 3m 17s\tremaining: 10.4s\n",
      "475:\tlearn: 0.3656664\ttotal: 3m 17s\tremaining: 9.97s\n",
      "476:\tlearn: 0.3656658\ttotal: 3m 18s\tremaining: 9.56s\n",
      "477:\tlearn: 0.3656622\ttotal: 3m 18s\tremaining: 9.16s\n",
      "478:\tlearn: 0.3656561\ttotal: 3m 19s\tremaining: 8.74s\n",
      "479:\tlearn: 0.3656537\ttotal: 3m 19s\tremaining: 8.33s\n",
      "480:\tlearn: 0.3656517\ttotal: 3m 20s\tremaining: 7.92s\n",
      "481:\tlearn: 0.3656491\ttotal: 3m 20s\tremaining: 7.5s\n",
      "482:\tlearn: 0.3656477\ttotal: 3m 21s\tremaining: 7.08s\n",
      "483:\tlearn: 0.3656455\ttotal: 3m 21s\tremaining: 6.67s\n",
      "484:\tlearn: 0.3656443\ttotal: 3m 22s\tremaining: 6.25s\n",
      "485:\tlearn: 0.3656427\ttotal: 3m 22s\tremaining: 5.83s\n",
      "486:\tlearn: 0.3656427\ttotal: 3m 23s\tremaining: 5.42s\n",
      "487:\tlearn: 0.3656408\ttotal: 3m 23s\tremaining: 5s\n",
      "488:\tlearn: 0.3656407\ttotal: 3m 23s\tremaining: 4.58s\n",
      "489:\tlearn: 0.3656391\ttotal: 3m 24s\tremaining: 4.17s\n",
      "490:\tlearn: 0.3656257\ttotal: 3m 24s\tremaining: 3.75s\n",
      "491:\tlearn: 0.3656225\ttotal: 3m 25s\tremaining: 3.33s\n",
      "492:\tlearn: 0.3656189\ttotal: 3m 25s\tremaining: 2.92s\n",
      "493:\tlearn: 0.3656077\ttotal: 3m 25s\tremaining: 2.5s\n",
      "494:\tlearn: 0.3656046\ttotal: 3m 26s\tremaining: 2.08s\n",
      "495:\tlearn: 0.3656046\ttotal: 3m 26s\tremaining: 1.67s\n",
      "496:\tlearn: 0.3656036\ttotal: 3m 26s\tremaining: 1.25s\n",
      "497:\tlearn: 0.3655998\ttotal: 3m 27s\tremaining: 833ms\n",
      "498:\tlearn: 0.3655970\ttotal: 3m 27s\tremaining: 417ms\n",
      "499:\tlearn: 0.3655611\ttotal: 3m 28s\tremaining: 0us\n"
     ]
    },
    {
     "data": {
      "text/plain": [
       "<catboost.core.CatBoostClassifier at 0x1375f830700>"
      ]
     },
     "execution_count": 48,
     "metadata": {},
     "output_type": "execute_result"
    }
   ],
   "source": [
    "catboost.fit(X_train, y_train)"
   ]
  },
  {
   "cell_type": "code",
   "execution_count": 55,
   "metadata": {},
   "outputs": [
    {
     "name": "stdout",
     "output_type": "stream",
     "text": [
      "ROC-AUC\n",
      "Качество на трейне: 0.888269259139577\n",
      "Качество на тесте: 0.9071313222795557\n"
     ]
    }
   ],
   "source": [
    "from sklearn.metrics import roc_auc_score\n",
    "\n",
    "print(\"ROC-AUC\")\n",
    "print(f\"Качество на трейне: {roc_auc_score(y_train, catboost.predict_proba(X_train)[:, 1])}\")\n",
    "print(f\"Качество на тесте: {roc_auc_score(y_test, catboost.predict_proba(X_test)[:, 1])}\")"
   ]
  },
  {
   "cell_type": "markdown",
   "metadata": {},
   "source": [
    "Так как классы не сбалансированы, посмотрим на метрику **PR-AUC**"
   ]
  },
  {
   "cell_type": "code",
   "execution_count": 56,
   "metadata": {},
   "outputs": [
    {
     "name": "stdout",
     "output_type": "stream",
     "text": [
      "PR-AUC\n",
      "Качество на трейне: 0.9099830148888703\n",
      "Качество на тесте: 0.9556018932290755\n"
     ]
    }
   ],
   "source": [
    "from sklearn.metrics import auc\n",
    "from sklearn.metrics import precision_recall_curve\n",
    "\n",
    "precision_train, recall_train, _ = precision_recall_curve(y_train, catboost.predict_proba(X_train)[:, 1])\n",
    "precision_test, recall_test, _ = precision_recall_curve(y_test, catboost.predict_proba(X_test)[:, 1])\n",
    "\n",
    "print(\"PR-AUC\")\n",
    "print(f\"Качество на трейне: {auc(recall_train, precision_train)}\")\n",
    "print(f\"Качество на тесте: {auc(recall_test, precision_test)}\")"
   ]
  },
  {
   "cell_type": "markdown",
   "metadata": {},
   "source": [
    "### Итог \n",
    "- **ROC-AUC** = 0.907\n",
    "- **PR-AUC** = 0.955"
   ]
  },
  {
   "cell_type": "code",
   "execution_count": 57,
   "metadata": {},
   "outputs": [
    {
     "data": {
      "image/png": "[encoded data removed]",
      "text/plain": [
       "<Figure size 720x576 with 1 Axes>"
      ]
     },
     "metadata": {
      "needs_background": "light"
     },
     "output_type": "display_data"
    }
   ],
   "source": [
    "import seaborn as sns\n",
    "import numpy as np\n",
    "import matplotlib.pyplot as plt\n",
    "\n",
    "def plot_feature_importance(importance: np.array(int), names: List[str], model_type: str):\n",
    "    \"\"\"\n",
    "    importance -> numeric value of features\n",
    "    names -> features name\n",
    "    model_type -> model name\n",
    "    \n",
    "    draw importance of features\n",
    "    \"\"\"\n",
    "    #Create arrays from feature importance and feature names\n",
    "    feature_importance = np.array(importance)\n",
    "    feature_names = np.array(names)\n",
    "\n",
    "    #Create a DataFrame using a Dictionary\n",
    "    data={'feature_names':feature_names,'feature_importance':feature_importance}\n",
    "    fi_df = pd.DataFrame(data)\n",
    "\n",
    "    #Sort the DataFrame in order decreasing feature importance\n",
    "    fi_df.sort_values(by=['feature_importance'], ascending=False,inplace=True)\n",
    "\n",
    "    #Define size of bar plot\n",
    "    plt.figure(figsize=(10,8))\n",
    "    #Plot Searborn bar chart\n",
    "    sns.barplot(x=fi_df['feature_importance'], y=fi_df['feature_names'])\n",
    "    #Add chart labels\n",
    "    plt.title(model_type + 'FEATURE IMPORTANCE')\n",
    "    plt.xlabel('FEATURE IMPORTANCE')\n",
    "    plt.ylabel('FEATURE NAMES')\n",
    "\n",
    "plot_feature_importance(catboost.feature_importances_, X_train.columns, 'Catboost')"
   ]
  },
  {
   "cell_type": "markdown",
   "metadata": {},
   "source": [
    "`etp, fz, lot_price` показали наибольшую важность среди остальных признаков"
   ]
  },
  {
   "cell_type": "markdown",
   "metadata": {},
   "source": [
    "# Работа с текстовым описанием\n",
    "1. Предобработаю текст путём лемматизации и маленькой очистки текста с добавлением ключевого слова `__label__` между колонками описания\n",
    "2. Запишу предобработанный текст в txt файл для наиболее удобного использования\n",
    "3. Затем построю эмбеддинги с помощью *FastText* на основе сформированного текста\n",
    "4. Модель *FastText* взята с https://rusvectores.org/ru/models/ (**geowac_lemmas_none_fasttextskipgram_300_5_2020**) "
   ]
  },
  {
   "cell_type": "markdown",
   "metadata": {
    "id": "32Lk0-bcPm4B"
   },
   "source": [
    "## Предобработка текста"
   ]
  },
  {
   "cell_type": "code",
   "execution_count": null,
   "metadata": {
    "colab": {
     "base_uri": "https://localhost:8080/"
    },
    "executionInfo": {
     "elapsed": 28613,
     "status": "ok",
     "timestamp": 1668155417421,
     "user": {
      "displayName": "Дмитрий Савелко",
      "userId": "00857664281999640493"
     },
     "user_tz": -180
    },
    "id": "gc-4nB4KPjnD",
    "outputId": "71548c8c-b7f8-4aae-aa8f-c353a214017c"
   },
   "outputs": [
    {
     "name": "stdout",
     "output_type": "stream",
     "text": [
      "Looking in indexes: https://pypi.org/simple, https://us-python.pkg.dev/colab-wheels/public/simple/\n",
      "Collecting pymorphy2[fast]\n",
      "  Downloading pymorphy2-0.9.1-py3-none-any.whl (55 kB)\n",
      "\u001b[K     |████████████████████████████████| 55 kB 1.9 MB/s \n",
      "\u001b[?25hCollecting dawg-python>=0.7.1\n",
      "  Downloading DAWG_Python-0.7.2-py2.py3-none-any.whl (11 kB)\n",
      "Collecting pymorphy2-dicts-ru<3.0,>=2.4\n",
      "  Downloading pymorphy2_dicts_ru-2.4.417127.4579844-py2.py3-none-any.whl (8.2 MB)\n",
      "\u001b[K     |████████████████████████████████| 8.2 MB 6.0 MB/s \n",
      "\u001b[?25hCollecting docopt>=0.6\n",
      "  Downloading docopt-0.6.2.tar.gz (25 kB)\n",
      "Collecting DAWG>=0.8\n",
      "  Downloading DAWG-0.8.0.tar.gz (371 kB)\n",
      "\u001b[K     |████████████████████████████████| 371 kB 53.5 MB/s \n",
      "\u001b[?25hBuilding wheels for collected packages: DAWG, docopt\n",
      "  Building wheel for DAWG (setup.py) ... \u001b[?25l\u001b[?25hdone\n",
      "  Created wheel for DAWG: filename=DAWG-0.8.0-cp37-cp37m-linux_x86_64.whl size=860702 sha256=9621e0325b209599d5988d2cf5a3e96058e8d609668586e07531397f583a5be8\n",
      "  Stored in directory: /root/.cache/pip/wheels/85/51/a4/2de41ff197786537075027c27b479a38da92f50abc86634445\n",
      "  Building wheel for docopt (setup.py) ... \u001b[?25l\u001b[?25hdone\n",
      "  Created wheel for docopt: filename=docopt-0.6.2-py2.py3-none-any.whl size=13723 sha256=dc32d54bc7a90f690ce77f87affcb02beffa528d22f4fc3b96c5eba90d0f276f\n",
      "  Stored in directory: /root/.cache/pip/wheels/72/b0/3f/1d95f96ff986c7dfffe46ce2be4062f38ebd04b506c77c81b9\n",
      "Successfully built DAWG docopt\n",
      "Installing collected packages: pymorphy2-dicts-ru, docopt, dawg-python, pymorphy2, DAWG\n",
      "Successfully installed DAWG-0.8.0 dawg-python-0.7.2 docopt-0.6.2 pymorphy2-0.9.1 pymorphy2-dicts-ru-2.4.417127.4579844\n"
     ]
    }
   ],
   "source": [
    "pip install pymorphy2[fast]"
   ]
  },
  {
   "cell_type": "code",
   "execution_count": 49,
   "metadata": {
    "executionInfo": {
     "elapsed": 1271,
     "status": "ok",
     "timestamp": 1668173706125,
     "user": {
      "displayName": "Дмитрий Савелко",
      "userId": "00857664281999640493"
     },
     "user_tz": -180
    },
    "id": "9aacFGqCPzmE"
   },
   "outputs": [],
   "source": [
    "import pymorphy2\n",
    "morph = pymorphy2.MorphAnalyzer()"
   ]
  },
  {
   "cell_type": "code",
   "execution_count": 50,
   "metadata": {
    "executionInfo": {
     "elapsed": 453,
     "status": "ok",
     "timestamp": 1668173703003,
     "user": {
      "displayName": "Дмитрий Савелко",
      "userId": "00857664281999640493"
     },
     "user_tz": -180
    },
    "id": "eSP4hEqvNmVY"
   },
   "outputs": [],
   "source": [
    "def procces_words(request: List[str]) -> str:\n",
    "    \"\"\"\n",
    "    return prepared data (add lemmatization, delete double, add __lable__ behind sentecses)\n",
    "    \n",
    "    request -> list of senteces by cols2embedding columns one row\n",
    "    \"\"\"  \n",
    "    request = ' __label__ '.join([word for word in set(request) if word is not np.NaN])\n",
    "    request = morph.parse(request)[0].normal_form\n",
    "    return request\n",
    "\n",
    "def formate_text_row(data: pd.DataFrame, cols2embedding: List[str], file_name: str):\n",
    "    \"\"\"\n",
    "    write lemmatize text to txt file\n",
    "    \n",
    "    data -> dataframe which we want to preprocess\n",
    "    cols2embedding -> columns for creating embeddings\n",
    "    file_name -> name of saving file\n",
    "    \"\"\"\n",
    "    row_list = np.array([])\n",
    "    with open(file_name, 'w', encoding='utf-8') as f:\n",
    "        for idx in tqdm(data_train.index):\n",
    "            lem_row = procces_words(data.loc[idx, cols2embedding].values) + '\\n'\n",
    "            f.write(lem_row)"
   ]
  },
  {
   "cell_type": "code",
   "execution_count": 51,
   "metadata": {},
   "outputs": [],
   "source": [
    "data_train, data_test = data.iloc[:int(size*share)], data.iloc[-int(size*(1-share)):]"
   ]
  },
  {
   "cell_type": "code",
   "execution_count": 55,
   "metadata": {},
   "outputs": [
    {
     "data": {
      "application/vnd.jupyter.widget-view+json": {
       "model_id": "4f6ddb8d1456485089da62e86179c6c4",
       "version_major": 2,
       "version_minor": 0
      },
      "text/plain": [
       "HBox(children=(FloatProgress(value=0.0, max=1667150.0), HTML(value='')))"
      ]
     },
     "metadata": {},
     "output_type": "display_data"
    },
    {
     "name": "stdout",
     "output_type": "stream",
     "text": [
      "\n"
     ]
    }
   ],
   "source": [
    "file_name = 'lem_text_train.txt'\n",
    "formate_text_row(data_train, cols2embedding, file_name)"
   ]
  },
  {
   "cell_type": "markdown",
   "metadata": {
    "id": "GvsDTNA3_1kd"
   },
   "source": [
    "## Формирование эмбеддинга"
   ]
  },
  {
   "cell_type": "markdown",
   "metadata": {
    "id": "-z1CHje9COJu"
   },
   "source": [
    "Скачиваю FastText модель **geowac_lemmas_none_fasttextskipgram_300_5_2020** с https://rusvectores.org/ru/models/"
   ]
  },
  {
   "cell_type": "code",
   "execution_count": null,
   "metadata": {
    "colab": {
     "base_uri": "https://localhost:8080/"
    },
    "executionInfo": {
     "elapsed": 151929,
     "status": "ok",
     "timestamp": 1668154893899,
     "user": {
      "displayName": "Дмитрий Савелко",
      "userId": "00857664281999640493"
     },
     "user_tz": -180
    },
    "id": "inVoddne_0pN",
    "outputId": "713d69cf-df65-48a6-f702-ecc7a96660b7"
   },
   "outputs": [
    {
     "name": "stdout",
     "output_type": "stream",
     "text": [
      "--2022-11-11 08:19:00--  http://vectors.nlpl.eu/repository/20/213.zip\n",
      "Resolving vectors.nlpl.eu (vectors.nlpl.eu)... 129.240.189.181\n",
      "Connecting to vectors.nlpl.eu (vectors.nlpl.eu)|129.240.189.181|:80... connected.\n",
      "HTTP request sent, awaiting response... 200 OK\n",
      "Length: 1485270300 (1.4G) [application/zip]\n",
      "Saving to: ‘213.zip’\n",
      "\n",
      "213.zip             100%[===================>]   1.38G  10.3MB/s    in 2m 29s  \n",
      "\n",
      "2022-11-11 08:21:31 (9.48 MB/s) - ‘213.zip’ saved [1485270300/1485270300]\n",
      "\n"
     ]
    }
   ],
   "source": [
    "!wget http://vectors.nlpl.eu/repository/20/213.zip"
   ]
  },
  {
   "cell_type": "code",
   "execution_count": null,
   "metadata": {
    "colab": {
     "base_uri": "https://localhost:8080/"
    },
    "executionInfo": {
     "elapsed": 20674,
     "status": "ok",
     "timestamp": 1668154914567,
     "user": {
      "displayName": "Дмитрий Савелко",
      "userId": "00857664281999640493"
     },
     "user_tz": -180
    },
    "id": "mdMmZb_RCLJo",
    "outputId": "228cbe0f-9e06-4992-b32b-9c62928adc24"
   },
   "outputs": [
    {
     "name": "stdout",
     "output_type": "stream",
     "text": [
      "Archive:  /content/213.zip\n",
      "  inflating: meta.json               \n",
      "  inflating: model.model             \n",
      "  inflating: model.model.vectors_ngrams.npy  \n",
      "  inflating: model.model.vectors.npy  \n",
      "  inflating: model.model.vectors_vocab.npy  \n",
      "  inflating: README                  \n"
     ]
    }
   ],
   "source": [
    "!unzip /content/213.zip"
   ]
  },
  {
   "cell_type": "code",
   "execution_count": null,
   "metadata": {
    "colab": {
     "base_uri": "https://localhost:8080/"
    },
    "executionInfo": {
     "elapsed": 3939,
     "status": "ok",
     "timestamp": 1668154918496,
     "user": {
      "displayName": "Дмитрий Савелко",
      "userId": "00857664281999640493"
     },
     "user_tz": -180
    },
    "id": "cGkgkrlvCnow",
    "outputId": "1cb3fcbd-37b2-43be-f5e1-1e167d4155a2"
   },
   "outputs": [
    {
     "name": "stdout",
     "output_type": "stream",
     "text": [
      "Looking in indexes: https://pypi.org/simple, https://us-python.pkg.dev/colab-wheels/public/simple/\n",
      "Requirement already satisfied: gensim in /usr/local/lib/python3.7/dist-packages (3.6.0)\n",
      "Requirement already satisfied: numpy>=1.11.3 in /usr/local/lib/python3.7/dist-packages (from gensim) (1.21.6)\n",
      "Requirement already satisfied: smart-open>=1.2.1 in /usr/local/lib/python3.7/dist-packages (from gensim) (5.2.1)\n",
      "Requirement already satisfied: six>=1.5.0 in /usr/local/lib/python3.7/dist-packages (from gensim) (1.15.0)\n",
      "Requirement already satisfied: scipy>=0.18.1 in /usr/local/lib/python3.7/dist-packages (from gensim) (1.7.3)\n"
     ]
    }
   ],
   "source": [
    "!pip install gensim"
   ]
  },
  {
   "cell_type": "code",
   "execution_count": 56,
   "metadata": {
    "executionInfo": {
     "elapsed": 11973,
     "status": "ok",
     "timestamp": 1668173723344,
     "user": {
      "displayName": "Дмитрий Савелко",
      "userId": "00857664281999640493"
     },
     "user_tz": -180
    },
    "id": "Uq_0XVgCDn7K"
   },
   "outputs": [],
   "source": [
    "import gensim\n",
    "\n",
    "model = gensim.models.KeyedVectors.load('model.model')"
   ]
  },
  {
   "cell_type": "code",
   "execution_count": 57,
   "metadata": {
    "executionInfo": {
     "elapsed": 7,
     "status": "ok",
     "timestamp": 1668173723346,
     "user": {
      "displayName": "Дмитрий Савелко",
      "userId": "00857664281999640493"
     },
     "user_tz": -180
    },
    "id": "kT8OCw9UTIOu"
   },
   "outputs": [],
   "source": [
    "def get_request_vector(request: List[str], model) -> List[List[str]]:\n",
    "    \"\"\"\n",
    "    return vector of request\n",
    "\n",
    "    request -> list of senteces by cols2embedding columns one row\n",
    "    model -> fasttext model\n",
    "    \"\"\"\n",
    "    vec = np.zeros(model.vector_size)\n",
    "    #request = procces_words(request)\n",
    "    # iterate on every word\n",
    "    for word in request.split():\n",
    "        \n",
    "      # build embedding \n",
    "      embed = model[word]\n",
    "      # normalize\n",
    "      embed_norm = embed / np.linalg.norm(embed)\n",
    "      # sum embeddings for average\n",
    "      vec += embed_norm\n",
    "\n",
    "    # average embeddings\n",
    "    vec /= len(request)\n",
    "    v = np.float32(np.array([vec]))\n",
    "    v /= np.linalg.norm(v)\n",
    "    return v"
   ]
  },
  {
   "cell_type": "code",
   "execution_count": 58,
   "metadata": {
    "executionInfo": {
     "elapsed": 6,
     "status": "ok",
     "timestamp": 1668173723346,
     "user": {
      "displayName": "Дмитрий Савелко",
      "userId": "00857664281999640493"
     },
     "user_tz": -180
    },
    "id": "X_Fd_fsZtk4L"
   },
   "outputs": [],
   "source": [
    "def get_text(path: str) -> List[str]:\n",
    "    \"\"\"\n",
    "    Return text from file\n",
    "    \n",
    "    path -> path to save file\n",
    "    \"\"\"\n",
    "    corpus = []\n",
    "    with open(path, 'r', encoding='utf-8') as f:\n",
    "        corpus = [line for line in tqdm(f)]\n",
    "    return corpus\n",
    "\n",
    "def get_embedding(path: str):\n",
    "    \"\"\"\n",
    "    Return embedding from text file\n",
    "    \n",
    "    path -> path to save file\n",
    "    \"\"\"\n",
    "    crp = get_text(path)\n",
    "    embeddings = np.array([get_request_vector(line[:-1], model)[0] for line in tqdm(crp)])\n",
    "    return embeddings"
   ]
  },
  {
   "cell_type": "code",
   "execution_count": 59,
   "metadata": {
    "colab": {
     "base_uri": "https://localhost:8080/",
     "height": 81,
     "referenced_widgets": [
      "d2228ff17de146a68de4cc1498c70960",
      "882783a366d0448bb64ba4171d3b82bc",
      "233d069cfa554764a196f03922af0db7",
      "fb96aa850c3d4060a4e9cf3b1c87481d",
      "656bf98d77e5423f85819e237dc480c3",
      "54bf042e6c6c4321a1b7ce4a7ec8f071",
      "fc7fcc39cf134925ad8b40ba26d12b77",
      "70be3cb4fe074bb4b7eb3a0c44fc0076",
      "6df50c7977544cb0b787a572431ad77d",
      "75cc82e0031b4f5e9919989927a0a262",
      "4f7ceb04b91e4b71bf111bcac6a373d3",
      "b011a59f3c8d45eb9bfc9f0a2784ca03",
      "620a0e9474ac41ecb85b7e71ec5aaf89",
      "9f43bf6a173240ee9696b847f8a6330e",
      "832884f59eca48e48e8c8550cfc69b0e",
      "1727d14c163949ea9cbbf6bf51ef0bdc",
      "ccd5abb51e6f4b9aa84ab5ae4b474f04",
      "05cee0c741b44089977e88b5f720d114",
      "9f1150b4f1d64050981e7bec2c20139b",
      "8e483aef7c7b402b90a9d3d5309eae7c",
      "927133be52bd4a3795426a08a4dc95a1",
      "f5288bc42f2c4264b3760f27b5973ce5"
     ]
    },
    "id": "2yzdabDuqZFv",
    "outputId": "97c1ab9a-f6ba-4392-b85e-3a8da16528ed"
   },
   "outputs": [
    {
     "data": {
      "application/vnd.jupyter.widget-view+json": {
       "model_id": "0756c004a071498a910e93bc688c9cea",
       "version_major": 2,
       "version_minor": 0
      },
      "text/plain": [
       "HBox(children=(FloatProgress(value=1.0, bar_style='info', max=1.0), HTML(value='')))"
      ]
     },
     "metadata": {},
     "output_type": "display_data"
    },
    {
     "name": "stdout",
     "output_type": "stream",
     "text": [
      "\n"
     ]
    },
    {
     "data": {
      "application/vnd.jupyter.widget-view+json": {
       "model_id": "3a0156fcc76747e3a70f9f380c1e1390",
       "version_major": 2,
       "version_minor": 0
      },
      "text/plain": [
       "HBox(children=(FloatProgress(value=0.0, max=1667150.0), HTML(value='')))"
      ]
     },
     "metadata": {},
     "output_type": "display_data"
    },
    {
     "name": "stdout",
     "output_type": "stream",
     "text": [
      "\n"
     ]
    }
   ],
   "source": [
    "# Формирование эмбеддинга\n",
    "emb = get_embedding(file_name)"
   ]
  },
  {
   "cell_type": "code",
   "execution_count": 60,
   "metadata": {
    "id": "df6N_UK0LQx3"
   },
   "outputs": [],
   "source": [
    "# Сохранение эмбеддинга\n",
    "np.save('embedding_train.npy', emb)"
   ]
  },
  {
   "cell_type": "markdown",
   "metadata": {
    "id": "yUpYGkVJ5zDh"
   },
   "source": [
    "# Рекомендация ИНН\n",
    "1. С помощью косинусной близости находим $\\sqrt{N}$ похожих элементов, где N - размер тренировочного датасета \n",
    "2. Найдя похожие элементы, с помощью catboost предскажим какие ИНН могут купить данный товар\n",
    "3. Вывод ИНН"
   ]
  },
  {
   "cell_type": "code",
   "execution_count": 61,
   "metadata": {
    "executionInfo": {
     "elapsed": 16159,
     "status": "ok",
     "timestamp": 1668173778654,
     "user": {
      "displayName": "Дмитрий Савелко",
      "userId": "00857664281999640493"
     },
     "user_tz": -180
    },
    "id": "8ILYSICY2h8O"
   },
   "outputs": [],
   "source": [
    "emb = np.load(\"embedding_train.npy\")"
   ]
  },
  {
   "cell_type": "code",
   "execution_count": 62,
   "metadata": {},
   "outputs": [],
   "source": [
    "from sklearn.metrics.pairwise import cosine_similarity"
   ]
  },
  {
   "cell_type": "code",
   "execution_count": 63,
   "metadata": {},
   "outputs": [],
   "source": [
    "def find_similarity(data: pd.DataFrame, discription: List[str]) -> pd.DataFrame:\n",
    "    \"\"\"\n",
    "    return \n",
    "    \n",
    "    data -> initial data, which use for create embedding\n",
    "    discription -> text discription of product\n",
    "    \"\"\"\n",
    "    vector = get_request_vector(procces_words(discription), model)\n",
    "    similarity_matrix = cosine_similarity(vector, emb)\n",
    "    return data.iloc[similarity_matrix.argsort()[0][::-1]].iloc[:int(data.shape[0]**0.5)]"
   ]
  },
  {
   "cell_type": "code",
   "execution_count": 64,
   "metadata": {},
   "outputs": [],
   "source": [
    "def predict(input_data: pd.DataFrame , cols2embedding: List[str], cols2model: List[str]) -> np.array(str):\n",
    "    \"\"\"\n",
    "    return suitable inn depends on pn_lot\n",
    "    \n",
    "    input_data -> text discription and features of pn_lot\n",
    "    cols2embedding -> columns for creating embeddings\n",
    "    cols2model -> columns for prediction model\n",
    "    \"\"\"\n",
    "    discription = input_data[cols2embedding].values\n",
    "    data_similarity = find_similarity(data_train, discription[0])\n",
    "    predict_wins = catboost.predict(data_similarity[cols2model])\n",
    "    return data_similarity.loc[predict_wins.astype(bool)]['participant_inn_kpp'].values"
   ]
  },
  {
   "cell_type": "code",
   "execution_count": 65,
   "metadata": {},
   "outputs": [],
   "source": [
    "cols2embedding\n",
    "cols2model = ['region_code', 'etp', 'forsmallbiz', 'lot_price', 'procedure_price', 'okpd2_code', 'fz', 'year', 'month', 'day']"
   ]
  },
  {
   "cell_type": "code",
   "execution_count": 66,
   "metadata": {},
   "outputs": [
    {
     "data": {
      "text/html": [
       "<div>\n",
       "<style scoped>\n",
       "    .dataframe tbody tr th:only-of-type {\n",
       "        vertical-align: middle;\n",
       "    }\n",
       "\n",
       "    .dataframe tbody tr th {\n",
       "        vertical-align: top;\n",
       "    }\n",
       "\n",
       "    .dataframe thead th {\n",
       "        text-align: right;\n",
       "    }\n",
       "</style>\n",
       "<table border=\"1\" class=\"dataframe\">\n",
       "  <thead>\n",
       "    <tr style=\"text-align: right;\">\n",
       "      <th></th>\n",
       "      <th>pn_lot</th>\n",
       "      <th>region_code</th>\n",
       "      <th>etp</th>\n",
       "      <th>purchase_name</th>\n",
       "      <th>lot_name</th>\n",
       "      <th>forsmallbiz</th>\n",
       "      <th>lot_price</th>\n",
       "      <th>procedure_price</th>\n",
       "      <th>okpd2_code</th>\n",
       "      <th>item_descriptions</th>\n",
       "      <th>participant_inn_kpp</th>\n",
       "      <th>fz</th>\n",
       "      <th>year</th>\n",
       "      <th>month</th>\n",
       "      <th>day</th>\n",
       "    </tr>\n",
       "  </thead>\n",
       "  <tbody>\n",
       "    <tr>\n",
       "      <th>1667151</th>\n",
       "      <td>0891200000621007861_</td>\n",
       "      <td>75</td>\n",
       "      <td>fabrikant.ru</td>\n",
       "      <td>Поставка бумажных полотенец (8051-ЭА)</td>\n",
       "      <td>NaN</td>\n",
       "      <td>False</td>\n",
       "      <td>104330.0</td>\n",
       "      <td>0.0</td>\n",
       "      <td>17.2</td>\n",
       "      <td>Полотенце бумажное</td>\n",
       "      <td>9144d3a8eb98ce099f9412f54bff697553be5d1dc5fbfa...</td>\n",
       "      <td>44fz</td>\n",
       "      <td>2021</td>\n",
       "      <td>7</td>\n",
       "      <td>29</td>\n",
       "    </tr>\n",
       "  </tbody>\n",
       "</table>\n",
       "</div>"
      ],
      "text/plain": [
       "                       pn_lot  region_code           etp  \\\n",
       "1667151  0891200000621007861_           75  fabrikant.ru   \n",
       "\n",
       "                                 purchase_name lot_name  forsmallbiz  \\\n",
       "1667151  Поставка бумажных полотенец (8051-ЭА)      NaN        False   \n",
       "\n",
       "         lot_price  procedure_price okpd2_code   item_descriptions  \\\n",
       "1667151   104330.0              0.0       17.2  Полотенце бумажное   \n",
       "\n",
       "                                       participant_inn_kpp    fz  year  month  \\\n",
       "1667151  9144d3a8eb98ce099f9412f54bff697553be5d1dc5fbfa...  44fz  2021      7   \n",
       "\n",
       "         day  \n",
       "1667151   29  "
      ]
     },
     "execution_count": 66,
     "metadata": {},
     "output_type": "execute_result"
    }
   ],
   "source": [
    "input_data = data_test.loc[[1667151]].drop(['is_winner'], axis=1)\n",
    "input_data"
   ]
  },
  {
   "cell_type": "code",
   "execution_count": 67,
   "metadata": {},
   "outputs": [
    {
     "ename": "IndexError",
     "evalue": "index 0 is out of bounds for axis 0 with size 0",
     "output_type": "error",
     "traceback": [
      "\u001b[1;31m---------------------------------------------------------------------------\u001b[0m",
      "\u001b[1;31mIndexError\u001b[0m                                Traceback (most recent call last)",
      "\u001b[1;32m<ipython-input-67-14919d8c0cf1>\u001b[0m in \u001b[0;36m<module>\u001b[1;34m\u001b[0m\n\u001b[1;32m----> 1\u001b[1;33m \u001b[0minn\u001b[0m \u001b[1;33m=\u001b[0m \u001b[0mdata\u001b[0m\u001b[1;33m[\u001b[0m\u001b[0mdata\u001b[0m\u001b[1;33m[\u001b[0m\u001b[1;34m'pn_lot'\u001b[0m\u001b[1;33m]\u001b[0m \u001b[1;33m==\u001b[0m \u001b[1;34m'2570200313921000417'\u001b[0m\u001b[1;33m]\u001b[0m\u001b[1;33m[\u001b[0m\u001b[1;34m'participant_inn_kpp'\u001b[0m\u001b[1;33m]\u001b[0m\u001b[1;33m.\u001b[0m\u001b[0mvalues\u001b[0m\u001b[1;33m[\u001b[0m\u001b[1;36m0\u001b[0m\u001b[1;33m]\u001b[0m\u001b[1;33m\u001b[0m\u001b[1;33m\u001b[0m\u001b[0m\n\u001b[0m\u001b[0;32m      2\u001b[0m \u001b[0mdata\u001b[0m\u001b[1;33m[\u001b[0m\u001b[0mdata\u001b[0m\u001b[1;33m[\u001b[0m\u001b[1;34m'pn_lot'\u001b[0m\u001b[1;33m]\u001b[0m \u001b[1;33m==\u001b[0m \u001b[1;34m'2570200313921000417'\u001b[0m\u001b[1;33m]\u001b[0m\u001b[1;33m\u001b[0m\u001b[1;33m\u001b[0m\u001b[0m\n",
      "\u001b[1;31mIndexError\u001b[0m: index 0 is out of bounds for axis 0 with size 0"
     ]
    }
   ],
   "source": [
    "inn = data[data['pn_lot'] == '2570200313921000417']['participant_inn_kpp'].values[0]\n",
    "data[data['pn_lot'] == '2570200313921000417']"
   ]
  },
  {
   "cell_type": "code",
   "execution_count": 68,
   "metadata": {},
   "outputs": [
    {
     "data": {
      "text/plain": [
       "array(['215d6ead2c085ffa7c3e9581bf17dbb5b74637b163c4530ac771d4fc7c81c5cc',\n",
       "       '72591bc934e1d64e689deb1d381613577c20272935a8ac79ca71ac039b0b301b',\n",
       "       'f3ce04bb4d308c6a3a09e507e7daf92c75d92de05c28bd95965aa7178a2c0343',\n",
       "       '0a35d5d9e8fad5520b16c2c2b876d9b5bd06a24fa2c7e9355158b4b9f9fb6c06',\n",
       "       '1784e08d31cb9a5c65afca7028d22ed9e2200b7bb4751a7877c558c81f9b0a3c',\n",
       "       '76c9bb9a8e90cb5aa31a1aab1dd47d7f042ba06a5e39cc56a18a25e50c121a76',\n",
       "       '1ca30f0ee50a654ba78857b4b73ca0bc4573560c8cc937fa8631967b5b92c488',\n",
       "       'c2d341b8464b1d7d436d89060eba242f6e493a8140d708eae86df76d8750df98',\n",
       "       'ab1534cb4b30742181870622c0c5c063a75fc3c94bebf3ea340569def5c853df',\n",
       "       '635626627055979deec18909d8779c54eaa4e4756b72bc1f95e4cf1bd0399431',\n",
       "       '47b1ea27e3d9361f6a1657d7783049d051b18aad7739c436f7e4ceaf5467352b',\n",
       "       '9240d35b1d021871298ecf2daccba266afe5a57e0e24a6177bd1f57694766c2d',\n",
       "       '10ca5d47ec4775d799c031af708cf1b25fdc61718dd8544041a52d84121cf388',\n",
       "       'b8b7189ba2624bf80b4dbdb9932a3dde43687b478782ccdb497fb235c1f66d32',\n",
       "       '528bf2b67dc77697ebe6b67e78601270bf4ac62bbc539ecf371060234c41dd53',\n",
       "       '8bb17821632137c671907f4834dff78a22fc2dd0f537ee564a05c9c99751f669',\n",
       "       'df7dd4ce4fb1ea9dbd4d8ec3ce8e266c8d090e47886e9240e885bba2352c91dc',\n",
       "       '814fd9fa2d38d7448cfb22ab21977771f020b41fdbd0839713ae8489ecbd7b78',\n",
       "       '2d1f931b1390aab3ccadc737fd5ba1fd06532689149070c2c1b763301e3629bd',\n",
       "       '6c1515e4511f0022506ef70771b6affca171a7c5ad08f46061f3a76af6d78a94',\n",
       "       '8578a03a611640a0f985057ce2e92230149b4ff101fb69cf5449ed2b68945011',\n",
       "       '6eb8ca11581ae6e542e9573cb16008359201bf8175acd59a4b6b24d31e85faa7',\n",
       "       '0e75a11414fb44e60f5be4a6eaf2fc1af5f486f75a294a4c41814ece367596a7',\n",
       "       'ffc3d86b3bc857a44a1a46e5a930fdb1a3c284e5927047f6a017f2371e3d2917',\n",
       "       '3012f00737be68f6f473c0cdc7a30550ca19f032b2bab302b1832e70b9b4c3a7',\n",
       "       '4dc3acc8d7e4cbf96f4e52b0faaade156e8b89d05fd961577b457e096fc2904a',\n",
       "       'af641867bd4b63b2018baa7d93df241aa26c7dcaa343a774d649cffacb12b1b2',\n",
       "       '747db55877449a3df7ae2d450af251b0d587b0a198087b163797eb197a1a5184',\n",
       "       '9c7e3d83458e455f793774bd30ecf6ad64d52af830037d6e08b20e134b5abe3a',\n",
       "       '3389bef5f6d9a36d2f04d67fa4f5d10c1dedd1aceb65a8c84f69d872eaf18f85',\n",
       "       '51053de9fd45ce2d589fc46c9590a52598f9a9112c8bf62145cbcb3669d9fbfa',\n",
       "       '1b50348441dff251096c1d008036209628de600b33e3198fb9d6fa8e9f62824d',\n",
       "       '697748247f2060314321ff78956eec207e2162461b510106623d236d529ff00f',\n",
       "       '697748247f2060314321ff78956eec207e2162461b510106623d236d529ff00f',\n",
       "       'bbd30e2e3db32e99acbf2e1f44b2c79b1dd657d129e286d6c0793188c3dded6d',\n",
       "       '0574e6195e4edfb4f316be86a8c11467eebdd4ec35cbaca86443e126e1e8c512',\n",
       "       'ba7f31ce682985e12cd20ac191e38204f43a83c04739b532b6ca85c35205b9cb',\n",
       "       'c9a2ec0607d75a629eae0fd74fec1b26aca7fc32dc37af47b362e96915298073',\n",
       "       'eb51269be121a9ebc3747eb0124319e46d70085584358d33bd7426181bdf34cc',\n",
       "       '1c7b13601a0404420eab54a6ec473b1cc59f7b473eead98779dbeb9d21766d4a',\n",
       "       '162a3506109060e7b93a66812514161226cd905f8ebd99ca689b720ad997056e',\n",
       "       '681ac7e8c21cd83702dc06490fd38a569cc4a22fdff8555aaafa4179a2d164a5',\n",
       "       '55b0b1bbbab75f76a8e57ccdfd1ac2ef0fc9be53d97a87b10930e58b46b85559',\n",
       "       '5d61492b44da25a43015b1c6b9a1e9da88cb7d434608b4652cf08996a6070eb8',\n",
       "       '108d5531f7df28db402f330036130bcd498d0dde1c38edd88c2d0af257299cb3',\n",
       "       '697748247f2060314321ff78956eec207e2162461b510106623d236d529ff00f',\n",
       "       '697748247f2060314321ff78956eec207e2162461b510106623d236d529ff00f',\n",
       "       '5a73193dd2069588b5d49688c702780dd7158fd3957cf5b9be8a9a42d7894644',\n",
       "       'df7dd4ce4fb1ea9dbd4d8ec3ce8e266c8d090e47886e9240e885bba2352c91dc',\n",
       "       '8c484da7a3d090a3e4d01eb060be7d9c15a008128917d768fbd6196c6404658b',\n",
       "       '766e4fa098ee7c3c6a995fc49d967b050662bcff2956c7a549a3af4007b175c1',\n",
       "       '898129cbdd4ea72aa3459b081b206320b3c63040370c33c30a6d82d0f3dc4775',\n",
       "       '0ba11c0e3aa56372e2a42e6d9daf00ac03b4b1a7e420cdd81c113c65bc0c0777',\n",
       "       'cc9e3a9b2bbf7449d6df3bea978b6fcc26dc61e96b68f17871c9542e3c5bbcd5',\n",
       "       '1248a5c7281ee99d507ed498e0b4c27ba7fa1e4be95d479e77c04037a4a7cf1e',\n",
       "       'f3ce04bb4d308c6a3a09e507e7daf92c75d92de05c28bd95965aa7178a2c0343',\n",
       "       '0e75a11414fb44e60f5be4a6eaf2fc1af5f486f75a294a4c41814ece367596a7',\n",
       "       '215d6ead2c085ffa7c3e9581bf17dbb5b74637b163c4530ac771d4fc7c81c5cc',\n",
       "       '97574df7703f62ca73c0bc46baf081dc902e40201dd91859af1b45f8c395fc2b',\n",
       "       '5175ad7340f0c5ec887890f289d72e3e1ff5be2f744ed55bd0f915bc85660403',\n",
       "       '44f1a7b76f560622ca7585361ce320d3047c8d608fd2aa5d4dbb2c3e2a245919',\n",
       "       '44f1a7b76f560622ca7585361ce320d3047c8d608fd2aa5d4dbb2c3e2a245919',\n",
       "       'd3b98b16aeb6021ac4ed31aa7174f563e989facf562b6e1c1316d07b2c50d6fb',\n",
       "       '66097b8245ad14031aee9dd19cd251b9a0582db9e16faf4659b77701711e01c4',\n",
       "       '66097b8245ad14031aee9dd19cd251b9a0582db9e16faf4659b77701711e01c4',\n",
       "       'd8394683f5b7cc566948cae619127355a7565136788fe9cf432e9003e1c3768b',\n",
       "       '0e75a11414fb44e60f5be4a6eaf2fc1af5f486f75a294a4c41814ece367596a7',\n",
       "       '154ef6753f60589ec9ec2f03f9ea478b32faee98139c267958c392b025946c0c',\n",
       "       '154ef6753f60589ec9ec2f03f9ea478b32faee98139c267958c392b025946c0c',\n",
       "       '154ef6753f60589ec9ec2f03f9ea478b32faee98139c267958c392b025946c0c',\n",
       "       '9604e832c99f3ac56d5c2e983e56b8e22be6723f7017db433064f9937837e53b',\n",
       "       'dd395ef3c632d3fdf0af7464cf890d60cbe91b3b0ce277a59f446eebc3e31054',\n",
       "       '8e93280fa70a07e28b69c57856f6ef193c69b51380782e692d3fdbd074cb52de',\n",
       "       'c305006fa6cd9b2e727145f14b1ed7f6b13ea08a1ba0cb4606116e0c0f7344e1',\n",
       "       'dfa4f96022edc10ac9cbb2c2ed62bd47ebcd3ae60a3bdadd3ded184ed48a0b09',\n",
       "       '958233f3e6a223dfdc2653132aa0535a0f15fac23af5d1f71f2c123a224d6ad6',\n",
       "       '81009125de607eee6365a332a151f2f64ac124eb647d002635564cdb4bb6b6d2',\n",
       "       'df7dd4ce4fb1ea9dbd4d8ec3ce8e266c8d090e47886e9240e885bba2352c91dc',\n",
       "       '76c9bb9a8e90cb5aa31a1aab1dd47d7f042ba06a5e39cc56a18a25e50c121a76',\n",
       "       'a43dbb4b2e722c73c572ec4086e7bec81defaf7aaadbe74d22dab51c98103aea',\n",
       "       '3e0530189351869083fabb6d0fb8c7a4316b7f11e760c3d8f68a3441d5f90571',\n",
       "       '9f98a15b4b53acf600ab5679ad8c4e89c27c42e389a99e1648a01fdfb7d26b86',\n",
       "       '9f98a15b4b53acf600ab5679ad8c4e89c27c42e389a99e1648a01fdfb7d26b86',\n",
       "       '9f98a15b4b53acf600ab5679ad8c4e89c27c42e389a99e1648a01fdfb7d26b86',\n",
       "       '9f98a15b4b53acf600ab5679ad8c4e89c27c42e389a99e1648a01fdfb7d26b86',\n",
       "       '47665dd87cf1405d05229e740af29793c6ad1ecde024d15f8173b943890fbe3e',\n",
       "       '216fd831a581c9b1a09d6e4df678600eb85379e9d35efd75855944cf01d7595a',\n",
       "       '50db77484390203ffca929b1efe9911dfe3fb2bcb7575e09d5b804a9026df5c2',\n",
       "       'cc9e3a9b2bbf7449d6df3bea978b6fcc26dc61e96b68f17871c9542e3c5bbcd5',\n",
       "       '8d955ee5dee9374ec36cdba90549e0b20ea45e179aabafcc5df3949e7336eda6',\n",
       "       '307032c0c20b866c56bae2023eb213e055d74849a93746969a76ba9db4a9a4b6',\n",
       "       '240ac2a9a8f805fd2b7cdaf67748e0e2333c125eb877d9ab6fe6ba7d95d56e2d',\n",
       "       'ab1534cb4b30742181870622c0c5c063a75fc3c94bebf3ea340569def5c853df',\n",
       "       '4f116a8d404db725d9cef8b15a53855cfe940a0294fd9d4048006361a604f26c',\n",
       "       '0e75a11414fb44e60f5be4a6eaf2fc1af5f486f75a294a4c41814ece367596a7',\n",
       "       'ea115720b0438972cd3b1800aef9429163b822ca79ce0970196df25331baa8fe',\n",
       "       '6c8883096d0ac6341621ccff378526b3b90cacb03e96d4cc4fbdc33d78727ace',\n",
       "       '0e75a11414fb44e60f5be4a6eaf2fc1af5f486f75a294a4c41814ece367596a7',\n",
       "       '5062a8290ae65a3ebfc6485707b18b695bf5a898dfdbe0209fe1e3a4ccad5fa7',\n",
       "       '06e16e89b52d070848ee535c7c6d14ed3ec27d51617ca4fc75cb3c07787bcd16',\n",
       "       '215d6ead2c085ffa7c3e9581bf17dbb5b74637b163c4530ac771d4fc7c81c5cc',\n",
       "       '36272c918423631b44d06eb07077ada0906867d48724a740703d199ee8eb5ee5',\n",
       "       'c53ed5d0a3af5a7d72ab05051e37e6384ddb9280cfabdad0d0bff6814ba23500',\n",
       "       '20bd2e2c27932ed20058128beb027ce6d05637ec236316a2698ab1662fd07e80',\n",
       "       '43a160ccd6e40a1f1b740d0c8a5661f730593f24a6fb34b5c26cf1b4cbef4d79',\n",
       "       'edd555f793b61c4f0f886c2d506bf87ca8647669b7b2d9eabae166ddd33f12fd',\n",
       "       '766e4fa098ee7c3c6a995fc49d967b050662bcff2956c7a549a3af4007b175c1',\n",
       "       'df7dd4ce4fb1ea9dbd4d8ec3ce8e266c8d090e47886e9240e885bba2352c91dc',\n",
       "       'fb0435b15a525c2b30bf8b42759a1604c9f97693b2209aec6304a91b63f302a7',\n",
       "       '66097b8245ad14031aee9dd19cd251b9a0582db9e16faf4659b77701711e01c4',\n",
       "       '51e166cf4816d01cd808f5df591b434b4b9282370ddf80968fab372e5c9caaed',\n",
       "       'dc6cddcaa1d0ac8145d38f607df1b9e9e0e6bb7f629fb6cd0f97e45bc5a2bbec',\n",
       "       '9604e832c99f3ac56d5c2e983e56b8e22be6723f7017db433064f9937837e53b',\n",
       "       '8a8ea7ba9498f79d6f0b5e5ff170336c5835d22592a44a97bc588d08d33a79c0',\n",
       "       '4248878a77c6b366eb9973501686586c219a65678d409a2265ce9110dfdf05c1',\n",
       "       '9c40dcb785885fcba3887634e40f740e8379b9ebf89f33b0bcc7de2e04620bea',\n",
       "       '0ce4653a04eb8124d232d7036a17984b7be4d81e274e400a13bc563645ff1df5',\n",
       "       '0e56e34fd0b1065077218d8c49e01db035871d15de0cff77ef0069054d6af212'],\n",
       "      dtype=object)"
      ]
     },
     "execution_count": 68,
     "metadata": {},
     "output_type": "execute_result"
    }
   ],
   "source": [
    "inns = predict(input_data, cols2embedding, cols2model)\n",
    "inns"
   ]
  },
  {
   "cell_type": "markdown",
   "metadata": {},
   "source": [
    "## Подсчёт метрик\n",
    "1. Метрика №1 - Для какой части процедур в зависимости от n угадали хотя бы одного участника\n",
    "2. Метрика №2 - Общая доля угаданных уникальных участий"
   ]
  },
  {
   "cell_type": "code",
   "execution_count": 69,
   "metadata": {
    "scrolled": true
   },
   "outputs": [],
   "source": [
    "# Взяв pn_lot из data_test, может оказаться так, что данного pn_lot`a может не быть в data_train\n",
    "# Это означает, что я не смогу посмотреть участников данного pn_lot`a\n",
    "# Следственно пустые DataFrame буду пропускать\n",
    "\n",
    "def get_first_metric(data_test, n):\n",
    "    count_full_df = 0\n",
    "    s = 0\n",
    "    for i in range(data_test.shape[0]):\n",
    "        input_data = data_test.iloc[[i]].drop(['is_winner'], axis=1)\n",
    "        pn_lot = input_data['pn_lot'].values[0]\n",
    "        df = data_train[data_train['pn_lot'] == pn_lot]\n",
    "        if not(df.empty):\n",
    "            predicted_inns = set(predict(input_data, cols2embedding, cols2model)[:n])\n",
    "            compared_inns = set(df['participant_inn_kpp'].values)\n",
    "            s += bool(predicted_inns.intersection(compared_inns))\n",
    "            count_full_df += 1\n",
    "    s /= count_full_df\n",
    "    return s"
   ]
  },
  {
   "cell_type": "code",
   "execution_count": 95,
   "metadata": {},
   "outputs": [],
   "source": [
    "def get_second_metric(data_test, n):\n",
    "    count_full_df = 0\n",
    "    s = 0\n",
    "    for i in range(data_test.shape[0]):\n",
    "        # Формируем датасет\n",
    "        input_data = data_test.iloc[[i]].drop(['is_winner'], axis=1)\n",
    "        # Достаём pn_lot\n",
    "        pn_lot = input_data['pn_lot'].values[0]\n",
    "        # в базе ИННов (в трейне в данном случае) нахожу необходимый pn_lot для сравнения \n",
    "        df = data_train[data_train['pn_lot'] == pn_lot]\n",
    "        if not(df.empty):\n",
    "            # Предсказываю ИННы\n",
    "            predicted_inns = set(predict(input_data, cols2embedding, cols2model)[:n])\n",
    "            # ИННы в базе данных (в трейне)\n",
    "            compared_inns = set(df['participant_inn_kpp'].values)\n",
    "            # Суммирую количество нахождений\n",
    "            s += len(predicted_inns.intersection(compared_inns))\n",
    "            count_full_df += df.shape[0]\n",
    "    s /= count_full_df\n",
    "    return s"
   ]
  },
  {
   "cell_type": "code",
   "execution_count": 97,
   "metadata": {},
   "outputs": [],
   "source": [
    "small_data_test = data_test.iloc[:500]\n",
    "n_array = np.arange(1, 500, 30)\n",
    "m_1 = []\n",
    "m_2 = []"
   ]
  },
  {
   "cell_type": "code",
   "execution_count": 98,
   "metadata": {
    "scrolled": true
   },
   "outputs": [
    {
     "data": {
      "application/vnd.jupyter.widget-view+json": {
       "model_id": "f1717565106b439fa850ebd751111023",
       "version_major": 2,
       "version_minor": 0
      },
      "text/plain": [
       "HBox(children=(FloatProgress(value=0.0, max=17.0), HTML(value='')))"
      ]
     },
     "metadata": {},
     "output_type": "display_data"
    },
    {
     "name": "stdout",
     "output_type": "stream",
     "text": [
      "\n"
     ]
    }
   ],
   "source": [
    "for n in tqdm(n_array):         \n",
    "    m_1.append(get_first_metric(small_data_test, n))\n",
    "    m_2.append(get_second_metric(small_data_test, n))"
   ]
  },
  {
   "cell_type": "code",
   "execution_count": 99,
   "metadata": {},
   "outputs": [
    {
     "data": {
      "image/png": "[encoded data removed]",
      "text/plain": [
       "<Figure size 1152x648 with 1 Axes>"
      ]
     },
     "metadata": {
      "needs_background": "light"
     },
     "output_type": "display_data"
    }
   ],
   "source": [
    "import matplotlib.pyplot as plt\n",
    "import numpy as np\n",
    "\n",
    "\n",
    "plt.plot(n_array, m_1, linestyle = 'dashed', marker=\"*\", label=f\"1 Метрика\")\n",
    "plt.plot(n_array, m_2, linestyle = 'dashed', marker=\"*\", label=f\"2 Метрика\")\n",
    "plt.grid()\n",
    "plt.legend()\n",
    "plt.show()"
   ]
  },
  {
   "cell_type": "code",
   "execution_count": 107,
   "metadata": {},
   "outputs": [],
   "source": [
    "small_data_test = data_test.iloc[:1000]\n",
    "n_array = np.arange(1, 11)\n",
    "m_small_1 = []\n",
    "m_small_2 = []"
   ]
  },
  {
   "cell_type": "code",
   "execution_count": 109,
   "metadata": {},
   "outputs": [
    {
     "data": {
      "application/vnd.jupyter.widget-view+json": {
       "model_id": "17d84979955046c58b26f27756c6bdbe",
       "version_major": 2,
       "version_minor": 0
      },
      "text/plain": [
       "HBox(children=(FloatProgress(value=0.0, max=10.0), HTML(value='')))"
      ]
     },
     "metadata": {},
     "output_type": "display_data"
    },
    {
     "name": "stdout",
     "output_type": "stream",
     "text": [
      "\n"
     ]
    }
   ],
   "source": [
    "for n in tqdm(n_array):         \n",
    "    m_small_1.append(get_first_metric(small_data_test, n))\n",
    "    m_small_2.append(get_second_metric(small_data_test, n))"
   ]
  },
  {
   "cell_type": "code",
   "execution_count": 110,
   "metadata": {},
   "outputs": [
    {
     "data": {
      "image/png": "[encoded data removed]",
      "text/plain": [
       "<Figure size 1152x648 with 1 Axes>"
      ]
     },
     "metadata": {
      "needs_background": "light"
     },
     "output_type": "display_data"
    }
   ],
   "source": [
    "plt.plot(n_array, m_small_1, linestyle = 'dashed', marker=\"*\", label=f\"1 Метрика\")\n",
    "plt.plot(n_array, m_small_2, linestyle = 'dashed', marker=\"*\", label=f\"2 Метрика\")\n",
    "plt.grid()\n",
    "plt.legend()\n",
    "plt.show()"
   ]
  },
  {
   "cell_type": "code",
   "execution_count": null,
   "metadata": {},
   "outputs": [],
   "source": []
  }
 ],
 "metadata": {
  "colab": {
   "authorship_tag": "ABX9TyNTfkcrHu28PeAPkc3F+LnA",
   "collapsed_sections": [
    "u3DfX0yd51_n",
    "r4gq0w935snI",
    "9-RxLA-17Iqr",
    "sNYWvubvo0cG"
   ],
   "provenance": []
  },
  "kernelspec": {
   "display_name": "Python 3",
   "language": "python",
   "name": "python3"
  },
  "language_info": {
   "codemirror_mode": {
    "name": "ipython",
    "version": 3
   },
   "file_extension": ".py",
   "mimetype": "text/x-python",
   "name": "python",
   "nbconvert_exporter": "python",
   "pygments_lexer": "ipython3",
   "version": "3.8.1"
  },
  "widgets": {
   "application/vnd.jupyter.widget-state+json": {
    "05cee0c741b44089977e88b5f720d114": {
     "model_module": "@jupyter-widgets/controls",
     "model_module_version": "1.5.0",
     "model_name": "DescriptionStyleModel",
     "state": {
      "_model_module": "@jupyter-widgets/controls",
      "_model_module_version": "1.5.0",
      "_model_name": "DescriptionStyleModel",
      "_view_count": null,
      "_view_module": "@jupyter-widgets/base",
      "_view_module_version": "1.2.0",
      "_view_name": "StyleView",
      "description_width": ""
     }
    },
    "1727d14c163949ea9cbbf6bf51ef0bdc": {
     "model_module": "@jupyter-widgets/base",
     "model_module_version": "1.2.0",
     "model_name": "LayoutModel",
     "state": {
      "_model_module": "@jupyter-widgets/base",
      "_model_module_version": "1.2.0",
      "_model_name": "LayoutModel",
      "_view_count": null,
      "_view_module": "@jupyter-widgets/base",
      "_view_module_version": "1.2.0",
      "_view_name": "LayoutView",
      "align_content": null,
      "align_items": null,
      "align_self": null,
      "border": null,
      "bottom": null,
      "display": null,
      "flex": null,
      "flex_flow": null,
      "grid_area": null,
      "grid_auto_columns": null,
      "grid_auto_flow": null,
      "grid_auto_rows": null,
      "grid_column": null,
      "grid_gap": null,
      "grid_row": null,
      "grid_template_areas": null,
      "grid_template_columns": null,
      "grid_template_rows": null,
      "height": null,
      "justify_content": null,
      "justify_items": null,
      "left": null,
      "margin": null,
      "max_height": null,
      "max_width": null,
      "min_height": null,
      "min_width": null,
      "object_fit": null,
      "object_position": null,
      "order": null,
      "overflow": null,
      "overflow_x": null,
      "overflow_y": null,
      "padding": null,
      "right": null,
      "top": null,
      "visibility": null,
      "width": null
     }
    },
    "233d069cfa554764a196f03922af0db7": {
     "model_module": "@jupyter-widgets/controls",
     "model_module_version": "1.5.0",
     "model_name": "FloatProgressModel",
     "state": {
      "_dom_classes": [],
      "_model_module": "@jupyter-widgets/controls",
      "_model_module_version": "1.5.0",
      "_model_name": "FloatProgressModel",
      "_view_count": null,
      "_view_module": "@jupyter-widgets/controls",
      "_view_module_version": "1.5.0",
      "_view_name": "ProgressView",
      "bar_style": "success",
      "description": "",
      "description_tooltip": null,
      "layout": "IPY_MODEL_70be3cb4fe074bb4b7eb3a0c44fc0076",
      "max": 1,
      "min": 0,
      "orientation": "horizontal",
      "style": "IPY_MODEL_6df50c7977544cb0b787a572431ad77d",
      "value": 1
     }
    },
    "4f7ceb04b91e4b71bf111bcac6a373d3": {
     "model_module": "@jupyter-widgets/controls",
     "model_module_version": "1.5.0",
     "model_name": "DescriptionStyleModel",
     "state": {
      "_model_module": "@jupyter-widgets/controls",
      "_model_module_version": "1.5.0",
      "_model_name": "DescriptionStyleModel",
      "_view_count": null,
      "_view_module": "@jupyter-widgets/base",
      "_view_module_version": "1.2.0",
      "_view_name": "StyleView",
      "description_width": ""
     }
    },
    "54bf042e6c6c4321a1b7ce4a7ec8f071": {
     "model_module": "@jupyter-widgets/base",
     "model_module_version": "1.2.0",
     "model_name": "LayoutModel",
     "state": {
      "_model_module": "@jupyter-widgets/base",
      "_model_module_version": "1.2.0",
      "_model_name": "LayoutModel",
      "_view_count": null,
      "_view_module": "@jupyter-widgets/base",
      "_view_module_version": "1.2.0",
      "_view_name": "LayoutView",
      "align_content": null,
      "align_items": null,
      "align_self": null,
      "border": null,
      "bottom": null,
      "display": null,
      "flex": null,
      "flex_flow": null,
      "grid_area": null,
      "grid_auto_columns": null,
      "grid_auto_flow": null,
      "grid_auto_rows": null,
      "grid_column": null,
      "grid_gap": null,
      "grid_row": null,
      "grid_template_areas": null,
      "grid_template_columns": null,
      "grid_template_rows": null,
      "height": null,
      "justify_content": null,
      "justify_items": null,
      "left": null,
      "margin": null,
      "max_height": null,
      "max_width": null,
      "min_height": null,
      "min_width": null,
      "object_fit": null,
      "object_position": null,
      "order": null,
      "overflow": null,
      "overflow_x": null,
      "overflow_y": null,
      "padding": null,
      "right": null,
      "top": null,
      "visibility": null,
      "width": null
     }
    },
    "620a0e9474ac41ecb85b7e71ec5aaf89": {
     "model_module": "@jupyter-widgets/controls",
     "model_module_version": "1.5.0",
     "model_name": "HTMLModel",
     "state": {
      "_dom_classes": [],
      "_model_module": "@jupyter-widgets/controls",
      "_model_module_version": "1.5.0",
      "_model_name": "HTMLModel",
      "_view_count": null,
      "_view_module": "@jupyter-widgets/controls",
      "_view_module_version": "1.5.0",
      "_view_name": "HTMLView",
      "description": "",
      "description_tooltip": null,
      "layout": "IPY_MODEL_ccd5abb51e6f4b9aa84ab5ae4b474f04",
      "placeholder": "​",
      "style": "IPY_MODEL_05cee0c741b44089977e88b5f720d114",
      "value": " 37%"
     }
    },
    "656bf98d77e5423f85819e237dc480c3": {
     "model_module": "@jupyter-widgets/base",
     "model_module_version": "1.2.0",
     "model_name": "LayoutModel",
     "state": {
      "_model_module": "@jupyter-widgets/base",
      "_model_module_version": "1.2.0",
      "_model_name": "LayoutModel",
      "_view_count": null,
      "_view_module": "@jupyter-widgets/base",
      "_view_module_version": "1.2.0",
      "_view_name": "LayoutView",
      "align_content": null,
      "align_items": null,
      "align_self": null,
      "border": null,
      "bottom": null,
      "display": null,
      "flex": null,
      "flex_flow": null,
      "grid_area": null,
      "grid_auto_columns": null,
      "grid_auto_flow": null,
      "grid_auto_rows": null,
      "grid_column": null,
      "grid_gap": null,
      "grid_row": null,
      "grid_template_areas": null,
      "grid_template_columns": null,
      "grid_template_rows": null,
      "height": null,
      "justify_content": null,
      "justify_items": null,
      "left": null,
      "margin": null,
      "max_height": null,
      "max_width": null,
      "min_height": null,
      "min_width": null,
      "object_fit": null,
      "object_position": null,
      "order": null,
      "overflow": null,
      "overflow_x": null,
      "overflow_y": null,
      "padding": null,
      "right": null,
      "top": null,
      "visibility": null,
      "width": null
     }
    },
    "6df50c7977544cb0b787a572431ad77d": {
     "model_module": "@jupyter-widgets/controls",
     "model_module_version": "1.5.0",
     "model_name": "ProgressStyleModel",
     "state": {
      "_model_module": "@jupyter-widgets/controls",
      "_model_module_version": "1.5.0",
      "_model_name": "ProgressStyleModel",
      "_view_count": null,
      "_view_module": "@jupyter-widgets/base",
      "_view_module_version": "1.2.0",
      "_view_name": "StyleView",
      "bar_color": null,
      "description_width": ""
     }
    },
    "70be3cb4fe074bb4b7eb3a0c44fc0076": {
     "model_module": "@jupyter-widgets/base",
     "model_module_version": "1.2.0",
     "model_name": "LayoutModel",
     "state": {
      "_model_module": "@jupyter-widgets/base",
      "_model_module_version": "1.2.0",
      "_model_name": "LayoutModel",
      "_view_count": null,
      "_view_module": "@jupyter-widgets/base",
      "_view_module_version": "1.2.0",
      "_view_name": "LayoutView",
      "align_content": null,
      "align_items": null,
      "align_self": null,
      "border": null,
      "bottom": null,
      "display": null,
      "flex": null,
      "flex_flow": null,
      "grid_area": null,
      "grid_auto_columns": null,
      "grid_auto_flow": null,
      "grid_auto_rows": null,
      "grid_column": null,
      "grid_gap": null,
      "grid_row": null,
      "grid_template_areas": null,
      "grid_template_columns": null,
      "grid_template_rows": null,
      "height": null,
      "justify_content": null,
      "justify_items": null,
      "left": null,
      "margin": null,
      "max_height": null,
      "max_width": null,
      "min_height": null,
      "min_width": null,
      "object_fit": null,
      "object_position": null,
      "order": null,
      "overflow": null,
      "overflow_x": null,
      "overflow_y": null,
      "padding": null,
      "right": null,
      "top": null,
      "visibility": null,
      "width": "20px"
     }
    },
    "75cc82e0031b4f5e9919989927a0a262": {
     "model_module": "@jupyter-widgets/base",
     "model_module_version": "1.2.0",
     "model_name": "LayoutModel",
     "state": {
      "_model_module": "@jupyter-widgets/base",
      "_model_module_version": "1.2.0",
      "_model_name": "LayoutModel",
      "_view_count": null,
      "_view_module": "@jupyter-widgets/base",
      "_view_module_version": "1.2.0",
      "_view_name": "LayoutView",
      "align_content": null,
      "align_items": null,
      "align_self": null,
      "border": null,
      "bottom": null,
      "display": null,
      "flex": null,
      "flex_flow": null,
      "grid_area": null,
      "grid_auto_columns": null,
      "grid_auto_flow": null,
      "grid_auto_rows": null,
      "grid_column": null,
      "grid_gap": null,
      "grid_row": null,
      "grid_template_areas": null,
      "grid_template_columns": null,
      "grid_template_rows": null,
      "height": null,
      "justify_content": null,
      "justify_items": null,
      "left": null,
      "margin": null,
      "max_height": null,
      "max_width": null,
      "min_height": null,
      "min_width": null,
      "object_fit": null,
      "object_position": null,
      "order": null,
      "overflow": null,
      "overflow_x": null,
      "overflow_y": null,
      "padding": null,
      "right": null,
      "top": null,
      "visibility": null,
      "width": null
     }
    },
    "832884f59eca48e48e8c8550cfc69b0e": {
     "model_module": "@jupyter-widgets/controls",
     "model_module_version": "1.5.0",
     "model_name": "HTMLModel",
     "state": {
      "_dom_classes": [],
      "_model_module": "@jupyter-widgets/controls",
      "_model_module_version": "1.5.0",
      "_model_name": "HTMLModel",
      "_view_count": null,
      "_view_module": "@jupyter-widgets/controls",
      "_view_module_version": "1.5.0",
      "_view_name": "HTMLView",
      "description": "",
      "description_tooltip": null,
      "layout": "IPY_MODEL_927133be52bd4a3795426a08a4dc95a1",
      "placeholder": "​",
      "style": "IPY_MODEL_f5288bc42f2c4264b3760f27b5973ce5",
      "value": " 1142765/3056274 [30:00&lt;1603:34:07,  3.02s/it]"
     }
    },
    "882783a366d0448bb64ba4171d3b82bc": {
     "model_module": "@jupyter-widgets/controls",
     "model_module_version": "1.5.0",
     "model_name": "HTMLModel",
     "state": {
      "_dom_classes": [],
      "_model_module": "@jupyter-widgets/controls",
      "_model_module_version": "1.5.0",
      "_model_name": "HTMLModel",
      "_view_count": null,
      "_view_module": "@jupyter-widgets/controls",
      "_view_module_version": "1.5.0",
      "_view_name": "HTMLView",
      "description": "",
      "description_tooltip": null,
      "layout": "IPY_MODEL_54bf042e6c6c4321a1b7ce4a7ec8f071",
      "placeholder": "​",
      "style": "IPY_MODEL_fc7fcc39cf134925ad8b40ba26d12b77",
      "value": ""
     }
    },
    "8e483aef7c7b402b90a9d3d5309eae7c": {
     "model_module": "@jupyter-widgets/controls",
     "model_module_version": "1.5.0",
     "model_name": "ProgressStyleModel",
     "state": {
      "_model_module": "@jupyter-widgets/controls",
      "_model_module_version": "1.5.0",
      "_model_name": "ProgressStyleModel",
      "_view_count": null,
      "_view_module": "@jupyter-widgets/base",
      "_view_module_version": "1.2.0",
      "_view_name": "StyleView",
      "bar_color": null,
      "description_width": ""
     }
    },
    "927133be52bd4a3795426a08a4dc95a1": {
     "model_module": "@jupyter-widgets/base",
     "model_module_version": "1.2.0",
     "model_name": "LayoutModel",
     "state": {
      "_model_module": "@jupyter-widgets/base",
      "_model_module_version": "1.2.0",
      "_model_name": "LayoutModel",
      "_view_count": null,
      "_view_module": "@jupyter-widgets/base",
      "_view_module_version": "1.2.0",
      "_view_name": "LayoutView",
      "align_content": null,
      "align_items": null,
      "align_self": null,
      "border": null,
      "bottom": null,
      "display": null,
      "flex": null,
      "flex_flow": null,
      "grid_area": null,
      "grid_auto_columns": null,
      "grid_auto_flow": null,
      "grid_auto_rows": null,
      "grid_column": null,
      "grid_gap": null,
      "grid_row": null,
      "grid_template_areas": null,
      "grid_template_columns": null,
      "grid_template_rows": null,
      "height": null,
      "justify_content": null,
      "justify_items": null,
      "left": null,
      "margin": null,
      "max_height": null,
      "max_width": null,
      "min_height": null,
      "min_width": null,
      "object_fit": null,
      "object_position": null,
      "order": null,
      "overflow": null,
      "overflow_x": null,
      "overflow_y": null,
      "padding": null,
      "right": null,
      "top": null,
      "visibility": null,
      "width": null
     }
    },
    "9f1150b4f1d64050981e7bec2c20139b": {
     "model_module": "@jupyter-widgets/base",
     "model_module_version": "1.2.0",
     "model_name": "LayoutModel",
     "state": {
      "_model_module": "@jupyter-widgets/base",
      "_model_module_version": "1.2.0",
      "_model_name": "LayoutModel",
      "_view_count": null,
      "_view_module": "@jupyter-widgets/base",
      "_view_module_version": "1.2.0",
      "_view_name": "LayoutView",
      "align_content": null,
      "align_items": null,
      "align_self": null,
      "border": null,
      "bottom": null,
      "display": null,
      "flex": null,
      "flex_flow": null,
      "grid_area": null,
      "grid_auto_columns": null,
      "grid_auto_flow": null,
      "grid_auto_rows": null,
      "grid_column": null,
      "grid_gap": null,
      "grid_row": null,
      "grid_template_areas": null,
      "grid_template_columns": null,
      "grid_template_rows": null,
      "height": null,
      "justify_content": null,
      "justify_items": null,
      "left": null,
      "margin": null,
      "max_height": null,
      "max_width": null,
      "min_height": null,
      "min_width": null,
      "object_fit": null,
      "object_position": null,
      "order": null,
      "overflow": null,
      "overflow_x": null,
      "overflow_y": null,
      "padding": null,
      "right": null,
      "top": null,
      "visibility": null,
      "width": null
     }
    },
    "9f43bf6a173240ee9696b847f8a6330e": {
     "model_module": "@jupyter-widgets/controls",
     "model_module_version": "1.5.0",
     "model_name": "FloatProgressModel",
     "state": {
      "_dom_classes": [],
      "_model_module": "@jupyter-widgets/controls",
      "_model_module_version": "1.5.0",
      "_model_name": "FloatProgressModel",
      "_view_count": null,
      "_view_module": "@jupyter-widgets/controls",
      "_view_module_version": "1.5.0",
      "_view_name": "ProgressView",
      "bar_style": "",
      "description": "",
      "description_tooltip": null,
      "layout": "IPY_MODEL_9f1150b4f1d64050981e7bec2c20139b",
      "max": 3056274,
      "min": 0,
      "orientation": "horizontal",
      "style": "IPY_MODEL_8e483aef7c7b402b90a9d3d5309eae7c",
      "value": 1142765
     }
    },
    "b011a59f3c8d45eb9bfc9f0a2784ca03": {
     "model_module": "@jupyter-widgets/controls",
     "model_module_version": "1.5.0",
     "model_name": "HBoxModel",
     "state": {
      "_dom_classes": [],
      "_model_module": "@jupyter-widgets/controls",
      "_model_module_version": "1.5.0",
      "_model_name": "HBoxModel",
      "_view_count": null,
      "_view_module": "@jupyter-widgets/controls",
      "_view_module_version": "1.5.0",
      "_view_name": "HBoxView",
      "box_style": "",
      "children": [
       "IPY_MODEL_620a0e9474ac41ecb85b7e71ec5aaf89",
       "IPY_MODEL_9f43bf6a173240ee9696b847f8a6330e",
       "IPY_MODEL_832884f59eca48e48e8c8550cfc69b0e"
      ],
      "layout": "IPY_MODEL_1727d14c163949ea9cbbf6bf51ef0bdc"
     }
    },
    "ccd5abb51e6f4b9aa84ab5ae4b474f04": {
     "model_module": "@jupyter-widgets/base",
     "model_module_version": "1.2.0",
     "model_name": "LayoutModel",
     "state": {
      "_model_module": "@jupyter-widgets/base",
      "_model_module_version": "1.2.0",
      "_model_name": "LayoutModel",
      "_view_count": null,
      "_view_module": "@jupyter-widgets/base",
      "_view_module_version": "1.2.0",
      "_view_name": "LayoutView",
      "align_content": null,
      "align_items": null,
      "align_self": null,
      "border": null,
      "bottom": null,
      "display": null,
      "flex": null,
      "flex_flow": null,
      "grid_area": null,
      "grid_auto_columns": null,
      "grid_auto_flow": null,
      "grid_auto_rows": null,
      "grid_column": null,
      "grid_gap": null,
      "grid_row": null,
      "grid_template_areas": null,
      "grid_template_columns": null,
      "grid_template_rows": null,
      "height": null,
      "justify_content": null,
      "justify_items": null,
      "left": null,
      "margin": null,
      "max_height": null,
      "max_width": null,
      "min_height": null,
      "min_width": null,
      "object_fit": null,
      "object_position": null,
      "order": null,
      "overflow": null,
      "overflow_x": null,
      "overflow_y": null,
      "padding": null,
      "right": null,
      "top": null,
      "visibility": null,
      "width": null
     }
    },
    "d2228ff17de146a68de4cc1498c70960": {
     "model_module": "@jupyter-widgets/controls",
     "model_module_version": "1.5.0",
     "model_name": "HBoxModel",
     "state": {
      "_dom_classes": [],
      "_model_module": "@jupyter-widgets/controls",
      "_model_module_version": "1.5.0",
      "_model_name": "HBoxModel",
      "_view_count": null,
      "_view_module": "@jupyter-widgets/controls",
      "_view_module_version": "1.5.0",
      "_view_name": "HBoxView",
      "box_style": "",
      "children": [
       "IPY_MODEL_882783a366d0448bb64ba4171d3b82bc",
       "IPY_MODEL_233d069cfa554764a196f03922af0db7",
       "IPY_MODEL_fb96aa850c3d4060a4e9cf3b1c87481d"
      ],
      "layout": "IPY_MODEL_656bf98d77e5423f85819e237dc480c3"
     }
    },
    "f5288bc42f2c4264b3760f27b5973ce5": {
     "model_module": "@jupyter-widgets/controls",
     "model_module_version": "1.5.0",
     "model_name": "DescriptionStyleModel",
     "state": {
      "_model_module": "@jupyter-widgets/controls",
      "_model_module_version": "1.5.0",
      "_model_name": "DescriptionStyleModel",
      "_view_count": null,
      "_view_module": "@jupyter-widgets/base",
      "_view_module_version": "1.2.0",
      "_view_name": "StyleView",
      "description_width": ""
     }
    },
    "fb96aa850c3d4060a4e9cf3b1c87481d": {
     "model_module": "@jupyter-widgets/controls",
     "model_module_version": "1.5.0",
     "model_name": "HTMLModel",
     "state": {
      "_dom_classes": [],
      "_model_module": "@jupyter-widgets/controls",
      "_model_module_version": "1.5.0",
      "_model_name": "HTMLModel",
      "_view_count": null,
      "_view_module": "@jupyter-widgets/controls",
      "_view_module_version": "1.5.0",
      "_view_name": "HTMLView",
      "description": "",
      "description_tooltip": null,
      "layout": "IPY_MODEL_75cc82e0031b4f5e9919989927a0a262",
      "placeholder": "​",
      "style": "IPY_MODEL_4f7ceb04b91e4b71bf111bcac6a373d3",
      "value": " 3056274/? [00:10&lt;00:00, 200613.32it/s]"
     }
    },
    "fc7fcc39cf134925ad8b40ba26d12b77": {
     "model_module": "@jupyter-widgets/controls",
     "model_module_version": "1.5.0",
     "model_name": "DescriptionStyleModel",
     "state": {
      "_model_module": "@jupyter-widgets/controls",
      "_model_module_version": "1.5.0",
      "_model_name": "DescriptionStyleModel",
      "_view_count": null,
      "_view_module": "@jupyter-widgets/base",
      "_view_module_version": "1.2.0",
      "_view_name": "StyleView",
      "description_width": ""
     }
    }
   }
  }
 },
 "nbformat": 4,
 "nbformat_minor": 1
}
